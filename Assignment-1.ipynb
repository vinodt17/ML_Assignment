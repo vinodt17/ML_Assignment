{
 "cells": [
  {
   "cell_type": "markdown",
   "metadata": {},
   "source": [
    "Install Jupyter notebook and run the first program and share the screenshot of the output."
   ]
  },
  {
   "cell_type": "code",
   "execution_count": 2,
   "metadata": {},
   "outputs": [
    {
     "data": {
      "text/plain": [
       "2"
      ]
     },
     "execution_count": 2,
     "metadata": {},
     "output_type": "execute_result"
    }
   ],
   "source": [
    "1+1"
   ]
  },
  {
   "cell_type": "markdown",
   "metadata": {},
   "source": [
    "Write a program which will find all such numbers which are divisible by 7 but are not a multiple\n",
    "of 5, between 2000 and 3200 (both included). The numbers obtained should be printed in a\n",
    "comma-separated sequence on a single line."
   ]
  },
  {
   "cell_type": "code",
   "execution_count": 5,
   "metadata": {},
   "outputs": [
    {
     "name": "stdout",
     "output_type": "stream",
     "text": [
      "2030,2065,2100,2135,2170,2205,2240,2275,2310,2345,2380,2415,2450,2485,2520,2555,2590,2625,2660,2695,2730,2765,2800,2835,2870,2905,2940,2975,3010,3045,3080,3115,3150,3185\n"
     ]
    }
   ],
   "source": [
    "a=[]\n",
    "for i in range(2000,3201):\n",
    "    if(i%7==0) and (i%5==0):\n",
    "        a.append(str(i))\n",
    "print(','.join(a))"
   ]
  },
  {
   "cell_type": "markdown",
   "metadata": {},
   "source": [
    "Write a Python program to accept the user's first and last name and then getting them printed in\n",
    "the the reverse order with a space between first name and last name."
   ]
  },
  {
   "cell_type": "code",
   "execution_count": 6,
   "metadata": {},
   "outputs": [
    {
     "name": "stdout",
     "output_type": "stream",
     "text": [
      "Please enter first nameVinod\n",
      "Please enter last nameKumar\n",
      "Kumar Vinod\n"
     ]
    }
   ],
   "source": [
    "first_name=input(\"Please enter first name\")\n",
    "last_name=input(\"Please enter last name\")\n",
    "print(last_name+' '+first_name)"
   ]
  },
  {
   "cell_type": "markdown",
   "metadata": {},
   "source": [
    "Write a Python program to find the volume of a sphere with diameter 12 cm. Formula: V=4/3 * π * r 3"
   ]
  },
  {
   "cell_type": "code",
   "execution_count": 8,
   "metadata": {},
   "outputs": [
    {
     "name": "stdout",
     "output_type": "stream",
     "text": [
      "7234.5599999999995\n"
     ]
    }
   ],
   "source": [
    "pi=3.14\n",
    "r=12\n",
    "v=4/3*pi*r**3\n",
    "print(v)"
   ]
  },
  {
   "cell_type": "markdown",
   "metadata": {},
   "source": [
    "Write a program which accepts a sequence of comma-separated numbers from console and\n",
    "generate a list."
   ]
  },
  {
   "cell_type": "code",
   "execution_count": 9,
   "metadata": {},
   "outputs": [
    {
     "name": "stdout",
     "output_type": "stream",
     "text": [
      "Please enter the numbers1,3,5,7,9\n",
      "['1', '3', '5', '7', '9']\n"
     ]
    }
   ],
   "source": [
    "nos=input(\"Please enter the numbers\")\n",
    "lst=nos.split(',')\n",
    "print(lst)"
   ]
  },
  {
   "cell_type": "markdown",
   "metadata": {},
   "source": [
    "Create the below pattern using nested for loop in Python."
   ]
  },
  {
   "cell_type": "code",
   "execution_count": 12,
   "metadata": {},
   "outputs": [
    {
     "name": "stdout",
     "output_type": "stream",
     "text": [
      "\n",
      "*\n",
      "**\n",
      "***\n",
      "****\n",
      "*****\n",
      "****\n",
      "***\n",
      "**\n",
      "*\n"
     ]
    }
   ],
   "source": [
    "n=5\n",
    "for i in range(n):\n",
    "    for j in range(i):\n",
    "        print('*',end=\"\")\n",
    "    print('')\n",
    "for i in range(n,0,-1):\n",
    "    for j in range(i):\n",
    "        print('*',end=\"\")\n",
    "    print('')\n"
   ]
  },
  {
   "cell_type": "markdown",
   "metadata": {},
   "source": [
    "Write a Python program to reverse a word after accepting the input from the user."
   ]
  },
  {
   "cell_type": "code",
   "execution_count": 17,
   "metadata": {},
   "outputs": [
    {
     "name": "stdout",
     "output_type": "stream",
     "text": [
      "AcadGild\n",
      "dliGdacA\n",
      "\n"
     ]
    }
   ],
   "source": [
    "input_word=input()\n",
    "for i in range(len(input_word) -1,-1,-1):\n",
    "    print(input_word[i],end=\"\")\n",
    "print('\\n')"
   ]
  },
  {
   "cell_type": "markdown",
   "metadata": {},
   "source": [
    "Write a Python Program to print the given string in the format specified in the sample output."
   ]
  },
  {
   "cell_type": "markdown",
   "metadata": {},
   "source": [
    "WE, THE PEOPLE OF INDIA, having solemnly resolved to constitute India into a\n",
    "SOVEREIGN, SOCIALIST, SECULAR, DEMOCRATIC REPUBLIC and to secure to all\n",
    "its citizens"
   ]
  },
  {
   "cell_type": "code",
   "execution_count": 18,
   "metadata": {},
   "outputs": [
    {
     "name": "stdout",
     "output_type": "stream",
     "text": [
      "WE, THE PEOPLE OF INDIA,\n",
      "\thaving solemnly resolved to constitute India into a SOVEREIGN, !\n",
      "\t\tSOCIALIST, SECULAR, DEMOCRATIC REPUBLIC\n",
      "\t\tand to secure to all its citizens\n"
     ]
    }
   ],
   "source": [
    "print(\"WE, THE PEOPLE OF INDIA,\\n\\thaving solemnly resolved to constitute India into a SOVEREIGN, !\\n\\t\\tSOCIALIST, SECULAR, DEMOCRATIC REPUBLIC\\n\\t\\tand to secure to all its citizens\")"
   ]
  }
 ],
 "metadata": {
  "kernelspec": {
   "display_name": "Python 3",
   "language": "python",
   "name": "python3"
  },
  "language_info": {
   "codemirror_mode": {
    "name": "ipython",
    "version": 3
   },
   "file_extension": ".py",
   "mimetype": "text/x-python",
   "name": "python",
   "nbconvert_exporter": "python",
   "pygments_lexer": "ipython3",
   "version": "3.7.3"
  }
 },
 "nbformat": 4,
 "nbformat_minor": 2
}
