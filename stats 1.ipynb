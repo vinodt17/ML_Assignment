{
 "cells": [
  {
   "cell_type": "markdown",
   "metadata": {},
   "source": [
    "You survey households in your area to find the average rent they are paying. Find the\n",
    "standard deviation from the following data:"
   ]
  },
  {
   "cell_type": "code",
   "execution_count": 18,
   "metadata": {},
   "outputs": [
    {
     "name": "stdout",
     "output_type": "stream",
     "text": [
      "Calculation using custom method\n",
      "Mean 1158.3333333333333\n",
      "variance 135416.6666666667\n",
      "std_dev 367.99003609699366\n",
      "Calculation using statistics library\n",
      "Mean 1158.3333333333333\n",
      "Variance 135416.66666666666\n",
      "std_dev 367.9900360969936\n"
     ]
    }
   ],
   "source": [
    "def find_mean(arr):\n",
    "    return sum(arr)/len(arr)\n",
    " \n",
    "def find_variance(arr):\n",
    " variance = 0.0\n",
    " from math import sqrt\n",
    " \n",
    " mean = find_mean(arr)\n",
    " variance = sum((x - mean)**2 for x in arr) / (len(arr)-1)\n",
    " return variance\n",
    "\n",
    "def find_std_dev(arr):\n",
    " return find_variance(arr)**0.5\n",
    "\n",
    "arr = [1550,1700,900,850,1000,950]\n",
    "\n",
    "print(\"Calculation using custom method\")\n",
    "print (\"Mean \" + str(find_mean(arr)))\n",
    "print (\"variance \" + str(find_variance(arr)))\n",
    "print(\"std_dev \" + str(find_std_dev(arr)))\n",
    "\n",
    "print(\"Calculation using statistics library\")\n",
    "import statistics as stat\n",
    "print(str(\"Mean \" + str(stat.mean(arr))))\n",
    "print(str(\"Variance \" + str(stat.variance(arr))))\n",
    "print(str(\"std_dev \" + str(stat.stdev(arr))))"
   ]
  },
  {
   "cell_type": "markdown",
   "metadata": {},
   "source": [
    "Find the variance for the following set of data representing trees in California (heights in\n",
    "feet):"
   ]
  },
  {
   "cell_type": "code",
   "execution_count": 21,
   "metadata": {},
   "outputs": [
    {
     "name": "stdout",
     "output_type": "stream",
     "text": [
      "Mean 58.5\n",
      "variance 6219.9\n"
     ]
    }
   ],
   "source": [
    "from math import sqrt\n",
    "def find_mean(arr):\n",
    "    return sum(arr)/len(arr)\n",
    "\n",
    "def find_variance(arr):\n",
    "    variance=0.0\n",
    "    mean=find_mean(arr)\n",
    "    variance=sum((x-mean)**2 for x in arr)/(len(arr)-1)\n",
    "    return variance\n",
    "arr=[3, 21, 98, 203, 17, 9]\n",
    "print(\"Mean \" + str(find_mean(arr)))\n",
    "print(\"variance \" + str(find_variance(arr)))"
   ]
  },
  {
   "cell_type": "markdown",
   "metadata": {},
   "source": [
    "In a class on 100 students, 80 students passed in all subjects, 10 failed in one subject, 7\n",
    "failed in two subjects and 3 failed in three subjects. Find the probability distribution of\n",
    "the variable for number of subjects a student from the given class has failed in."
   ]
  },
  {
   "cell_type": "code",
   "execution_count": 22,
   "metadata": {},
   "outputs": [
    {
     "name": "stdout",
     "output_type": "stream",
     "text": [
      "Probability of Failing 0 subjects 0.8\n",
      "Probability of failing 1 subject0.1\n",
      "Probability of failing 7 subjects 0.07\n",
      "Probability of failing 3 subjects 0.03\n",
      "Expected number of subjects in which failed 0.33\n"
     ]
    }
   ],
   "source": [
    "import statistics as stat\n",
    "print(\"Probability of Failing 0 subjects \" +str(80/100))\n",
    "print(\"Probability of failing 1 subject\" + str(10/100))\n",
    "print(\"Probability of failing 7 subjects \"+ str(7/100))\n",
    "print(\"Probability of failing 3 subjects \"+ str(3/100))\n",
    "print(\"Expected number of subjects in which failed \" + str(0*(80/100)+(1*(10/100)+(2*(7/100)+(3*(3/100))))))"
   ]
  },
  {
   "cell_type": "code",
   "execution_count": null,
   "metadata": {},
   "outputs": [],
   "source": []
  }
 ],
 "metadata": {
  "kernelspec": {
   "display_name": "Python 3",
   "language": "python",
   "name": "python3"
  },
  "language_info": {
   "codemirror_mode": {
    "name": "ipython",
    "version": 3
   },
   "file_extension": ".py",
   "mimetype": "text/x-python",
   "name": "python",
   "nbconvert_exporter": "python",
   "pygments_lexer": "ipython3",
   "version": "3.7.3"
  }
 },
 "nbformat": 4,
 "nbformat_minor": 2
}
