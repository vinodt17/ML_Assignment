{
 "cells": [
  {
   "cell_type": "markdown",
   "metadata": {},
   "source": [
    "Q1. Write a Python program to get the string from the given string where all the occurrence of its first char has been changed to '$,' except first char itself? "
   ]
  },
  {
   "cell_type": "code",
   "execution_count": 6,
   "metadata": {},
   "outputs": [
    {
     "name": "stdout",
     "output_type": "stream",
     "text": [
      "pros$ect\n"
     ]
    }
   ],
   "source": [
    "def change_char(str1):\n",
    "    char=str1[0]\n",
    "    str1=str1.replace(char,\"$\")\n",
    "    str1=char+str1[1:]\n",
    "    \n",
    "    return str1\n",
    "\n",
    "print(change_char('prospect'))\n"
   ]
  },
  {
   "cell_type": "markdown",
   "metadata": {},
   "source": [
    "Q2.Write a Python program to get the single string from the two given strings, and separated by the space and swap the first two characters of each string"
   ]
  },
  {
   "cell_type": "code",
   "execution_count": 7,
   "metadata": {},
   "outputs": [
    {
     "name": "stdout",
     "output_type": "stream",
     "text": [
      "xyc abz\n"
     ]
    }
   ],
   "source": [
    "def chars_mix_up(a,b):\n",
    "    new_a=b[:2]+a[2:]\n",
    "    new_b=a[:2]+b[2:]\n",
    "    \n",
    "    return new_a+' '+new_b\n",
    "print(chars_mix_up('abc','xyz'))"
   ]
  },
  {
   "cell_type": "markdown",
   "metadata": {},
   "source": [
    "Q3. Write the Python program to add 'ing' at the end of the given string (length of the string should be at least 3). If given string already ends with 'ing,' then add 'ly' instead. If string length of the given string is less than 3, leave it unchanged?"
   ]
  },
  {
   "cell_type": "code",
   "execution_count": null,
   "metadata": {},
   "outputs": [],
   "source": [
    "def add_string(str1):\n",
    "    length=len(str1)\n",
    "    \n",
    "    if length>2:\n",
    "        if str1[-3:]='ing':\n",
    "            str1+='ly'\n",
    "        else:\n",
    "            str1+='ing'"
   ]
  },
  {
   "cell_type": "markdown",
   "metadata": {},
   "source": [
    "Q4.  Write the Python program to find the first appearance of the substring 'not' and 'poor' from the given string, if 'not' follows the 'poor', replace the whole 'not'...' poor' substring with 'good'.Return the resulting string"
   ]
  },
  {
   "cell_type": "code",
   "execution_count": 11,
   "metadata": {},
   "outputs": [
    {
     "name": "stdout",
     "output_type": "stream",
     "text": [
      "The lyrics is good\n",
      "The lyrics is poor!\n"
     ]
    }
   ],
   "source": [
    "def not_poor(str1):\n",
    "    snot=str1.find('not')\n",
    "    spoor=str1.find('poor')\n",
    "    \n",
    "    if spoor>snot and snot>0 and spoor>0:\n",
    "        str1=str1.replace(str1[snot:(spoor+4)],'good')\n",
    "        return str1\n",
    "    else:\n",
    "        return str1\n",
    "print(not_poor('The lyrics is not that poor'))\n",
    "print(not_poor('The lyrics is poor!'))"
   ]
  },
  {
   "cell_type": "markdown",
   "metadata": {},
   "source": [
    "Q5. Write the Python program to remove the characters which have odd index values of a given string. "
   ]
  },
  {
   "cell_type": "code",
   "execution_count": 18,
   "metadata": {},
   "outputs": [
    {
     "name": "stdout",
     "output_type": "stream",
     "text": [
      "ace\n",
      "aiu\n"
     ]
    }
   ],
   "source": [
    "def odd_values_string(str1):\n",
    "    result=\"\"\n",
    "    for i in range(len(str1)):\n",
    "        if i % 2==0:\n",
    "            result=result+str1[i]\n",
    "    return result\n",
    "        \n",
    "print(odd_values_string('abcdef'))\n",
    "print(odd_values_string('aeiou'))"
   ]
  },
  {
   "cell_type": "markdown",
   "metadata": {},
   "source": [
    "Q6. Write the Python function to get a string made of 4 copies of the last two characters of the specified string (length must be at least 2). "
   ]
  },
  {
   "cell_type": "code",
   "execution_count": 25,
   "metadata": {},
   "outputs": [
    {
     "name": "stdout",
     "output_type": "stream",
     "text": [
      "onononon\n",
      "eseseses\n"
     ]
    }
   ],
   "source": [
    "def insert_end(str1):\n",
    "    sub_str=str1[-2:]\n",
    "    return sub_str*4\n",
    "\n",
    "print(insert_end('python'))\n",
    "print(insert_end('Excercises'))"
   ]
  },
  {
   "cell_type": "markdown",
   "metadata": {},
   "source": [
    "Q7. Write the python function to get a string made of its first three characters of a specified string. If the length of the string is less than 3 then return the original string. "
   ]
  },
  {
   "cell_type": "code",
   "execution_count": 27,
   "metadata": {},
   "outputs": [
    {
     "name": "stdout",
     "output_type": "stream",
     "text": [
      "ipy\n",
      "pyt\n"
     ]
    }
   ],
   "source": [
    "def first_three(str1):\n",
    "    return str1[:3] if len(str1)>3 else str1\n",
    "print(first_three('ipy'))\n",
    "print(first_three('python'))"
   ]
  },
  {
   "cell_type": "markdown",
   "metadata": {},
   "source": [
    "Q8. Write the python program to print the following floating numbers up   to 2 decimal places? "
   ]
  },
  {
   "cell_type": "code",
   "execution_count": 40,
   "metadata": {},
   "outputs": [
    {
     "name": "stdout",
     "output_type": "stream",
     "text": [
      "Origional number: 2.12365\n",
      "Floating number: 2.12\n",
      "Origional number: 20.5863\n",
      "Floating number: 20.59\n"
     ]
    }
   ],
   "source": [
    "x=2.12365\n",
    "y=20.5863\n",
    "print(\"Origional number:\",x)\n",
    "print(\"Floating number: \"+\"{:.2f}\".format(x))\n",
    "print(\"Origional number:\",y)\n",
    "print(\"Floating number: \"+\"{:.2f}\".format(y))"
   ]
  },
  {
   "cell_type": "markdown",
   "metadata": {},
   "source": [
    "Q9. Write the Python program to format a number with a percentage? "
   ]
  },
  {
   "cell_type": "code",
   "execution_count": 47,
   "metadata": {},
   "outputs": [
    {
     "name": "stdout",
     "output_type": "stream",
     "text": [
      "origional number: 0.45\n",
      "Percentage format: 45.00%\n",
      "origional number: -0.25\n",
      "Percentage format:-25.00%\n"
     ]
    }
   ],
   "source": [
    "x=0.45\n",
    "y=-0.25\n",
    "print(\"origional number:\",x)\n",
    "print(\"Percentage format: \"+\"{:.2%}\".format(x))\n",
    "print(\"origional number:\",y)\n",
    "print(\"Percentage format:\"+\"{:.2%}\".format(y))"
   ]
  },
  {
   "cell_type": "markdown",
   "metadata": {},
   "source": [
    "Q10. Write the Python program to count occurrences of a substring in a   String?"
   ]
  },
  {
   "cell_type": "code",
   "execution_count": 1,
   "metadata": {},
   "outputs": [
    {
     "name": "stdout",
     "output_type": "stream",
     "text": [
      "1\n"
     ]
    }
   ],
   "source": [
    "str1=\"python is a good programming language\"\n",
    "print(str1.count('good'))"
   ]
  },
  {
   "cell_type": "markdown",
   "metadata": {},
   "source": [
    "Q11. Write the Python program to count repeated characters in a string."
   ]
  },
  {
   "cell_type": "code",
   "execution_count": 2,
   "metadata": {},
   "outputs": [
    {
     "name": "stdout",
     "output_type": "stream",
     "text": [
      "e 3\n",
      "o 3\n",
      "t 2\n",
      "h 2\n",
      "u 2\n",
      "r 2\n"
     ]
    }
   ],
   "source": [
    "import collections\n",
    "str1=\"thequickbrownjumpsoverthelazydog\"\n",
    "d=collections.defaultdict(int)\n",
    "for c in str1:\n",
    "    d[c]+=1\n",
    "for c in sorted(d,key=d.get,reverse=True):\n",
    "    if d[c]>1:\n",
    "        print('%s %d' % (c,d[c]))\n"
   ]
  },
  {
   "cell_type": "markdown",
   "metadata": {},
   "source": [
    "Q12. Write the Python program to print the square and cube symbol in   the area of a rectangle and volume of a cylinder?"
   ]
  },
  {
   "cell_type": "code",
   "execution_count": 4,
   "metadata": {},
   "outputs": [
    {
     "name": "stdout",
     "output_type": "stream",
     "text": [
      "The area of the rectangle is 100.57cm²\n",
      "The volumne of the cylinder is 132.725cm³\n"
     ]
    }
   ],
   "source": [
    "area=100.569\n",
    "volume=132.725\n",
    "decimals=2\n",
    "print(\"The area of the rectangle is {0:.{1}f}cm\\u00b2\".format(area,decimals))\n",
    "decimals=3\n",
    "print(\"The volumne of the cylinder is {0:.{1}f}cm\\u00b3\".format(volume,decimals))"
   ]
  },
  {
   "cell_type": "markdown",
   "metadata": {},
   "source": [
    "Q13. Write the Python program to check if a string contains all letters of   the alphabet? "
   ]
  },
  {
   "cell_type": "code",
   "execution_count": 7,
   "metadata": {},
   "outputs": [
    {
     "name": "stdout",
     "output_type": "stream",
     "text": [
      "True\n",
      "False\n"
     ]
    }
   ],
   "source": [
    "import string\n",
    "alphabet=set(string.ascii_lowercase)\n",
    "input_string = 'The quick brown fox jumps over the lazy dog'\n",
    "print(set(input_string.lower())>=alphabet)\n",
    "input_string='The quick brown for jumps over the lazy cat'\n",
    "print(set(input_string.lower())>=alphabet)"
   ]
  },
  {
   "cell_type": "markdown",
   "metadata": {},
   "source": [
    "Q14.  Write the Python program to find the second most repeated word   in a given string?"
   ]
  },
  {
   "cell_type": "code",
   "execution_count": 13,
   "metadata": {},
   "outputs": [
    {
     "name": "stdout",
     "output_type": "stream",
     "text": [
      "('of', 2)\n"
     ]
    }
   ],
   "source": [
    "def word_count(str):\n",
    "    counts=dict()\n",
    "    words=str.split()\n",
    "    \n",
    "    for word in words:\n",
    "        if word in counts:\n",
    "            counts[word]+=1\n",
    "        else:\n",
    "            counts[word]=1\n",
    "    counts_x=sorted(counts.items(),key=lambda kv:kv[1])\n",
    "    return counts_x[-2]\n",
    "print(word_count(\"Test of Test of Test\"))"
   ]
  },
  {
   "cell_type": "markdown",
   "metadata": {},
   "source": [
    "Q15. Write the Python program to find the minimum window in the given  string, which will contains all the characters of another given   strings"
   ]
  },
  {
   "cell_type": "code",
   "execution_count": 21,
   "metadata": {},
   "outputs": [
    {
     "name": "stdout",
     "output_type": "stream",
     "text": [
      "Original Strings:\n",
      " PRWSOERIUSFK \n",
      " OSU\n",
      "Minimum window:\n",
      "OERIUS\n"
     ]
    }
   ],
   "source": [
    "import collections\n",
    "def min_window(str1, str2):\n",
    "    result_char, missing_char = collections.Counter(str2), len(str2)\n",
    "    i = p = q = 0\n",
    "    for j, c in enumerate(str1, 1):\n",
    "        missing_char -= result_char[c] > 0\n",
    "        result_char[c] -= 1\n",
    "        if not missing_char:\n",
    "            while i < q and result_char[str1[i]] < 0:\n",
    "                result_char[str1[i]] += 1\n",
    "                i += 1\n",
    "            if not q or j - i <= q - p:\n",
    "                p, q = i, j\n",
    "    return str1[p:q]\n",
    "           \n",
    "str1 = \"PRWSOERIUSFK\"\n",
    "str2 = \"OSU\"\n",
    "print(\"Original Strings:\\n\",str1,\"\\n\",str2)\n",
    "print(\"Minimum window:\")\n",
    "print(min_window(str1,str2))"
   ]
  },
  {
   "cell_type": "markdown",
   "metadata": {},
   "source": [
    "Q16. Write the Python program to find smallest window that contains all   characters of the given string? "
   ]
  },
  {
   "cell_type": "code",
   "execution_count": 18,
   "metadata": {},
   "outputs": [
    {
     "name": "stdout",
     "output_type": "stream",
     "text": [
      "Original Strings:\n",
      " asdaewsqgtwwsa\n",
      "\n",
      "Smallest window that contains all characters of the said string:\n",
      "daewsqgt\n"
     ]
    }
   ],
   "source": [
    "from collections import defaultdict   \n",
    "\n",
    "def find_sub_string(str): \n",
    "    str_len = len(str) \n",
    "      \n",
    "    # Count all distinct characters. \n",
    "    dist_count_char = len(set([x for x in str])) \n",
    "  \n",
    "    ctr, start_pos, start_pos_index, min_len = 0, 0, -1, 9999999999\n",
    "    curr_count = defaultdict(lambda: 0) \n",
    "    for i in range(str_len): \n",
    "        curr_count[str[i]] += 1\n",
    " \n",
    "        if curr_count[str[i]] == 1: \n",
    "            ctr += 1\n",
    "  \n",
    "        if ctr == dist_count_char: \n",
    "            while curr_count[str[start_pos]] > 1: \n",
    "                if curr_count[str[start_pos]] > 1: \n",
    "                    curr_count[str[start_pos]] -= 1\n",
    "                start_pos += 1\n",
    "  \n",
    "            len_window = i - start_pos + 1\n",
    "            if min_len > len_window: \n",
    "                min_len = len_window \n",
    "                start_pos_index = start_pos \n",
    "    return str[start_pos_index: start_pos_index + min_len] \n",
    "      \n",
    "str1 = \"asdaewsqgtwwsa\"\n",
    "print(\"Original Strings:\\n\",str1)\n",
    "print(\"\\nSmallest window that contains all characters of the said string:\")\n",
    "print(find_sub_string(str1))"
   ]
  },
  {
   "cell_type": "markdown",
   "metadata": {},
   "source": [
    "Q17.  Write the Python program to count number of substrings from a   given string of lowercase alphabets with exactly k distinct (given)   characters? "
   ]
  },
  {
   "cell_type": "code",
   "execution_count": 23,
   "metadata": {},
   "outputs": [
    {
     "name": "stdout",
     "output_type": "stream",
     "text": [
      "Input a sting(lowercase alphabets):wolf\n",
      "Input k:4\n",
      "Number of substrings with exactly 4 distinct characters:1\n"
     ]
    }
   ],
   "source": [
    "def count_k_dist(str1,k):\n",
    "    str_len=len(str1)\n",
    "    result=0\n",
    "    ctr=[0]*27\n",
    "    for i in range(0,str_len):\n",
    "        dist_ctr=0\n",
    "        ctr[0]*27\n",
    "        for j in range(i,str_len):\n",
    "            if (ctr[ord(str1[j])-97]==0):\n",
    "                dist_ctr+=1\n",
    "                \n",
    "                ctr[ord(str1[j])-97]+=1\n",
    "                \n",
    "                if (dist_ctr==k):\n",
    "                    result+=1\n",
    "                if(dist_ctr>k):\n",
    "                    break\n",
    "        return result\n",
    "str1=input(\"Input a sting(lowercase alphabets):\")\n",
    "k=int(input(\"Input k:\"))\n",
    "print(\"Number of substrings with exactly\",k,\"distinct characters:\",end=\"\")\n",
    "print(count_k_dist(str1,k))\n"
   ]
  },
  {
   "cell_type": "markdown",
   "metadata": {},
   "source": [
    "Q18. Write the Python program to count number of non-empty   substrings of the given string? "
   ]
  },
  {
   "cell_type": "code",
   "execution_count": 25,
   "metadata": {},
   "outputs": [
    {
     "name": "stdout",
     "output_type": "stream",
     "text": [
      "Input a stringw3resource\n",
      "Number of substrings\n",
      "55\n"
     ]
    }
   ],
   "source": [
    "def number_of_substrings(str1):\n",
    "    str_len=len(str1)\n",
    "    return int(str_len*(str_len+1)/2)\n",
    "str1=input(\"Input a string\")\n",
    "print(\"Number of substrings\")\n",
    "print(number_of_substrings(str1))"
   ]
  },
  {
   "cell_type": "markdown",
   "metadata": {},
   "source": [
    "Q19. Write the Python program to count number of substrings with same   first and last characters of the given string? "
   ]
  },
  {
   "cell_type": "code",
   "execution_count": 27,
   "metadata": {},
   "outputs": [
    {
     "name": "stdout",
     "output_type": "stream",
     "text": [
      "Input a string: abcd\n",
      "4\n"
     ]
    }
   ],
   "source": [
    "def no_of_substing_with_equalEnds(str1):\n",
    "    result=0\n",
    "    n=len(str1)\n",
    "    for i in range(n):\n",
    "        for j in range(i,n):\n",
    "            if (str1[i]==str1[j]):\n",
    "                result=result+1\n",
    "    return result\n",
    "str1=input(\"Input a string: \")\n",
    "print(no_of_substing_with_equalEnds(str1))"
   ]
  },
  {
   "cell_type": "markdown",
   "metadata": {},
   "source": [
    "Q20. Write the Python program to count the number of strings where the string length is 2 or more, and first and last character are same from a given list of strings."
   ]
  },
  {
   "cell_type": "code",
   "execution_count": 1,
   "metadata": {},
   "outputs": [
    {
     "name": "stdout",
     "output_type": "stream",
     "text": [
      "2\n"
     ]
    }
   ],
   "source": [
    "def match_words(words):\n",
    "    ctr=0\n",
    "    for word in words:\n",
    "        if len(word)>1 and word[0]==word[-1]:\n",
    "            ctr+=1\n",
    "    return ctr\n",
    "\n",
    "print(match_words(['abc','xyz','aba','1221']))            \n",
    "        "
   ]
  },
  {
   "cell_type": "markdown",
   "metadata": {},
   "source": [
    "Q21. Write the Python program to get a list, sorted in increasing order by the last element in each tuple from the given list of non-empty tuples?"
   ]
  },
  {
   "cell_type": "code",
   "execution_count": 2,
   "metadata": {},
   "outputs": [
    {
     "name": "stdout",
     "output_type": "stream",
     "text": [
      "[(2, 1), (1, 2), (2, 3), (4, 4), (2, 5)]\n"
     ]
    }
   ],
   "source": [
    "def last(n): return n[-1]\n",
    "\n",
    "def sort_list_last(tuples):\n",
    "    return sorted(tuples,key=last)\n",
    "print(sort_list_last([(2,5),(1,2),(4,4),(2,3),(2,1)]))"
   ]
  },
  {
   "cell_type": "markdown",
   "metadata": {},
   "source": [
    "Q22. Write the Python program to remove duplicates from a list?"
   ]
  },
  {
   "cell_type": "code",
   "execution_count": 5,
   "metadata": {},
   "outputs": [
    {
     "name": "stdout",
     "output_type": "stream",
     "text": [
      "{40, 10, 80, 50, 20, 60, 30}\n"
     ]
    }
   ],
   "source": [
    "a=[10,20,30,20,10,50,60,40,80,50,40]\n",
    "\n",
    "dup_items=set()\n",
    "uniq_item=[]\n",
    "for x in a:\n",
    "    if x not in dup_items:\n",
    "        uniq_item.append(x)\n",
    "        dup_items.add(x)\n",
    "print(dup_items)"
   ]
  },
  {
   "cell_type": "markdown",
   "metadata": {},
   "source": [
    "Q23. Write the Python program to find the list of words that are longer than n from a given list of words?"
   ]
  },
  {
   "cell_type": "code",
   "execution_count": 13,
   "metadata": {},
   "outputs": [
    {
     "name": "stdout",
     "output_type": "stream",
     "text": [
      "['welcome', 'oriented', 'programming']\n"
     ]
    }
   ],
   "source": [
    "def long_words(n,str):\n",
    "    word_len=[]\n",
    "    txt=str.split(\" \")\n",
    "    for x in txt:\n",
    "        if len(x)>n:\n",
    "            word_len.append(x)\n",
    "    return word_len\n",
    "print(long_words(6,'welcome to python object oriented programming'))\n",
    "        "
   ]
  },
  {
   "cell_type": "markdown",
   "metadata": {},
   "source": [
    "Q24. Write the Python program to print a specified list after removing the 0th, 4th, and 5th elements?"
   ]
  },
  {
   "cell_type": "code",
   "execution_count": 14,
   "metadata": {},
   "outputs": [
    {
     "name": "stdout",
     "output_type": "stream",
     "text": [
      "['Green', 'White', 'Black']\n"
     ]
    }
   ],
   "source": [
    "color=['Red','Green','White','Black','Pink','Yellow']\n",
    "color=[x for (i,x) in enumerate(color) if i not in (0,4,5)]\n",
    "print(color)"
   ]
  },
  {
   "cell_type": "markdown",
   "metadata": {},
   "source": [
    "Q25. Write the Python program to generate all permutations of a list in Python?"
   ]
  },
  {
   "cell_type": "code",
   "execution_count": 15,
   "metadata": {},
   "outputs": [
    {
     "name": "stdout",
     "output_type": "stream",
     "text": [
      "[(1, 2, 3), (1, 3, 2), (2, 1, 3), (2, 3, 1), (3, 1, 2), (3, 2, 1)]\n"
     ]
    }
   ],
   "source": [
    "import itertools\n",
    "print(list(itertools.permutations([1,2,3])))"
   ]
  },
  {
   "cell_type": "markdown",
   "metadata": {},
   "source": [
    "Q26. Write the Python program to convert a pair of values into a sorted unique array?"
   ]
  },
  {
   "cell_type": "code",
   "execution_count": 20,
   "metadata": {},
   "outputs": [
    {
     "name": "stdout",
     "output_type": "stream",
     "text": [
      "Original List:  [(1, 2), (3, 4), (1, 2), (5, 6), (7, 8), (1, 2), (3, 4), (3, 4), (7, 8), (9, 10)]\n",
      "Sorted Unique Data: [1, 2, 3, 4, 5, 6, 7, 8, 9, 10]\n"
     ]
    }
   ],
   "source": [
    "L=[(1,2),(3,4),(1,2),(5,6),(7,8),(1,2),(3,4),(3,4),(7,8),(9,10)]\n",
    "print(\"Original List: \", L)\n",
    "print(\"Sorted Unique Data:\",sorted(set().union(*L)))\n"
   ]
  },
  {
   "cell_type": "markdown",
   "metadata": {},
   "source": [
    "Q27. Write the Python class to convert an integer to a roman numeral?"
   ]
  },
  {
   "cell_type": "code",
   "execution_count": 21,
   "metadata": {},
   "outputs": [
    {
     "name": "stdout",
     "output_type": "stream",
     "text": [
      "I\n",
      "MMMM\n"
     ]
    }
   ],
   "source": [
    "class py_solution:\n",
    "    def int_to_Roman(self,num):\n",
    "        val=[1000,900,500,400,\n",
    "             100,90,50,40,\n",
    "             10,9,5,4,\n",
    "             1\n",
    "            ]\n",
    "        syb=[\n",
    "            \"M\",\"CM\",\"D\",\"CD\",\n",
    "            \"C\",\"XC\",\"L\",\"XL\",\n",
    "            \"x\",\"IX\",\"V\",\"IV\",\n",
    "            \"I\"\n",
    "            ]\n",
    "        roman_num=''\n",
    "        i=0\n",
    "        while num>0:\n",
    "            for _ in range(num//val[i]):\n",
    "                roman_num+=syb[i]\n",
    "                num-=val[i]\n",
    "            i+=1\n",
    "        return roman_num\n",
    "print(py_solution().int_to_Roman(1))\n",
    "print(py_solution().int_to_Roman(4000))\n",
    "        \n",
    "             "
   ]
  },
  {
   "cell_type": "markdown",
   "metadata": {},
   "source": [
    "Q29. Write the Python class to find the validity of the string of the parentheses, '(', ')', '{', '}', '[' and '] and the brackets must be closed in the correct order, example - \"()\" and \"()[]{}\" are valid but \"[)\", \"({[)]\" and \"{{{\" are invalid."
   ]
  },
  {
   "cell_type": "code",
   "execution_count": 22,
   "metadata": {},
   "outputs": [
    {
     "name": "stdout",
     "output_type": "stream",
     "text": [
      "True\n",
      "False\n",
      "True\n"
     ]
    }
   ],
   "source": [
    "class py_solution:\n",
    "    def is_valid_parenthese(self,str1):\n",
    "        stack,pchar=[],{\"(\":\")\",\"{\":\"}\",\"[\":\"]\"}\n",
    "        for parenthese in str1:\n",
    "            if parenthese in pchar:\n",
    "                stack.append(parenthese)\n",
    "            elif len(stack)==0 or pchar[stack.pop()]!=parenthese:\n",
    "                return False\n",
    "        return len(stack)==0\n",
    "print(py_solution().is_valid_parenthese(\"(){}[]\"))\n",
    "print(py_solution().is_valid_parenthese(\"()[{)}]\"))\n",
    "print(py_solution().is_valid_parenthese(\"()\"))"
   ]
  },
  {
   "cell_type": "markdown",
   "metadata": {},
   "source": [
    "Q30. Write the Python class to get all possible unique subsets from a set of distinct integers?"
   ]
  },
  {
   "cell_type": "code",
   "execution_count": 23,
   "metadata": {},
   "outputs": [
    {
     "name": "stdout",
     "output_type": "stream",
     "text": [
      "[[], [6], [5], [5, 6], [4], [4, 6], [4, 5], [4, 5, 6]]\n"
     ]
    }
   ],
   "source": [
    "class py_solution:\n",
    "    def sub_sets(self,sset):\n",
    "        return self.subsetRecur([],sorted(sset))\n",
    "    def subsetRecur(self,current,sset):\n",
    "        if sset:\n",
    "            return self.subsetRecur(current,sset[1:])+self.subsetRecur(current+[sset[0]],sset[1:])\n",
    "        return [current]\n",
    "print(py_solution().sub_sets([4,5,6]))"
   ]
  },
  {
   "cell_type": "markdown",
   "metadata": {},
   "source": [
    "Q31. Write the Python class to find a pair of elements (indices of the two numbers) from a given array whose sum equals the specific target number?"
   ]
  },
  {
   "cell_type": "code",
   "execution_count": 28,
   "metadata": {},
   "outputs": [
    {
     "name": "stdout",
     "output_type": "stream",
     "text": [
      "index1=2, index2=3\n"
     ]
    }
   ],
   "source": [
    "class py_solution:\n",
    "    def twoSum(self, nums, target):\n",
    "        lookup = {}\n",
    "        for i, num in enumerate(nums):\n",
    "            if target - num in lookup:\n",
    "                return (lookup[target - num], i )\n",
    "            lookup[num] = i\n",
    "print(\"index1=%d, index2=%d\" % py_solution().twoSum((10,20,10,40,50,60,70),50))"
   ]
  },
  {
   "cell_type": "markdown",
   "metadata": {},
   "source": [
    "Q32. Write the Python class to find the three elements that sum to zero from the set of n real numbers?"
   ]
  },
  {
   "cell_type": "code",
   "execution_count": 29,
   "metadata": {},
   "outputs": [
    {
     "name": "stdout",
     "output_type": "stream",
     "text": [
      "[[-10, 2, 8], [-7, -3, 10]]\n"
     ]
    }
   ],
   "source": [
    "class py_solution:\n",
    "    def threeSum(self, nums):\n",
    "        nums, result, i = sorted(nums), [], 0\n",
    "        while i < len(nums) - 2:\n",
    "            j, k = i + 1, len(nums) - 1\n",
    "            while j < k:\n",
    "                if nums[i] + nums[j] + nums[k] < 0:\n",
    "                    j += 1\n",
    "                elif nums[i] + nums[j] + nums[k] > 0:\n",
    "                    k -= 1\n",
    "                else:\n",
    "                    result.append([nums[i], nums[j], nums[k]])\n",
    "                    j, k = j + 1, k - 1\n",
    "                    while j < k and nums[j] == nums[j - 1]:\n",
    "                        j += 1\n",
    "                    while j < k and nums[k] == nums[k + 1]:\n",
    "                        k -= 1\n",
    "            i += 1\n",
    "            while i < len(nums) - 2 and nums[i] == nums[i - 1]:\n",
    "                i += 1\n",
    "        return result\n",
    "print(py_solution().threeSum([-25, -10, -7, -3, 2, 4, 8, 10]))"
   ]
  },
  {
   "cell_type": "markdown",
   "metadata": {},
   "source": [
    "Q33. Write the Python class to implement pow(x, n)?"
   ]
  },
  {
   "cell_type": "code",
   "execution_count": 32,
   "metadata": {},
   "outputs": [
    {
     "name": "stdout",
     "output_type": "stream",
     "text": [
      "0.125\n",
      "243\n",
      "1\n"
     ]
    }
   ],
   "source": [
    "class py_solution:\n",
    "    def pow(self, x, n):\n",
    "        if x==0 or x==1 or n==1:\n",
    "            return x \n",
    "\n",
    "        if x==-1:\n",
    "            if n%2 ==0:\n",
    "                return 1\n",
    "            else:\n",
    "                return -1\n",
    "        if n==0:\n",
    "            return 1\n",
    "        if n<0:\n",
    "            return 1/self.pow(x,-n)\n",
    "        val = self.pow(x,n//2)\n",
    "        if n%2 ==0:\n",
    "            return val*val\n",
    "        return val*val*x\n",
    "print(py_solution().pow(2,-3))\n",
    "print(py_solution().pow(3,5))\n",
    "print(py_solution().pow(100,0))"
   ]
  },
  {
   "cell_type": "markdown",
   "metadata": {},
   "source": [
    "Q 34.A class has two methods. First method accept a string from the user, Second method print the string in upper case"
   ]
  },
  {
   "cell_type": "code",
   "execution_count": 33,
   "metadata": {},
   "outputs": [
    {
     "name": "stdout",
     "output_type": "stream",
     "text": [
      "python\n",
      "PYTHON\n"
     ]
    }
   ],
   "source": [
    "class IOString():\n",
    "    def __int__(self):\n",
    "        self.str1=\"\"\n",
    "    def get_string(self):\n",
    "        self.str1=input()\n",
    "    def print_string(self):\n",
    "        print(self.str1.upper())\n",
    "str1=IOString()\n",
    "str1.get_string()\n",
    "str1.print_string()"
   ]
  },
  {
   "cell_type": "markdown",
   "metadata": {},
   "source": [
    "Q36. Write the Python class named Circle constructed by the radius and two methods which will compute the area and perimeter of the circle?"
   ]
  },
  {
   "cell_type": "code",
   "execution_count": 34,
   "metadata": {},
   "outputs": [
    {
     "name": "stdout",
     "output_type": "stream",
     "text": [
      "200.96\n",
      "50.24\n"
     ]
    }
   ],
   "source": [
    "class circle():\n",
    "    def __init__(self,r):\n",
    "        self.radius=r\n",
    "    def area(self):\n",
    "        return self.radius**2*3.14\n",
    "    def perimater(self):\n",
    "        return 2*self.radius*3.14\n",
    "new_circle=circle(8)\n",
    "print(new_circle.area())\n",
    "print(new_circle.perimater())"
   ]
  },
  {
   "cell_type": "markdown",
   "metadata": {},
   "source": [
    "Q37. Write the Python program to get the class name of an instance in Python?"
   ]
  },
  {
   "cell_type": "code",
   "execution_count": 37,
   "metadata": {},
   "outputs": [
    {
     "name": "stdout",
     "output_type": "stream",
     "text": [
      "cycle\n"
     ]
    }
   ],
   "source": [
    "import itertools\n",
    "x = itertools.cycle('ABCD')\n",
    "print(type(x).__name__)"
   ]
  },
  {
   "cell_type": "markdown",
   "metadata": {},
   "source": [
    "Q38. Write the Python program to count the number of students of individual class?"
   ]
  },
  {
   "cell_type": "code",
   "execution_count": 38,
   "metadata": {},
   "outputs": [
    {
     "name": "stdout",
     "output_type": "stream",
     "text": [
      "Counter({'VI': 3, 'V': 2, 'VII': 1})\n"
     ]
    }
   ],
   "source": [
    "from collections import Counter\n",
    "classes=(\n",
    "('V',1),\n",
    "('VI',1),\n",
    "('V',2),\n",
    "('VI',2),\n",
    "('VI',3),\n",
    "('VII',1)\n",
    ")\n",
    "students=Counter(class_name for class_name,no_students in classes)\n",
    "print(students)"
   ]
  },
  {
   "cell_type": "markdown",
   "metadata": {},
   "source": [
    "Q41. Write the Python program to get an array buffer information?"
   ]
  },
  {
   "cell_type": "code",
   "execution_count": 40,
   "metadata": {},
   "outputs": [
    {
     "name": "stdout",
     "output_type": "stream",
     "text": [
      "Array buffer start address in memory and number of elements.\n",
      "(103698856, 2)\n"
     ]
    }
   ],
   "source": [
    "from array import array\n",
    "a=array(\"I\",(12,25))\n",
    "print(\"Array buffer start address in memory and number of elements.\")\n",
    "print(a.buffer_info())"
   ]
  },
  {
   "cell_type": "markdown",
   "metadata": {},
   "source": [
    "Q42. Write the Python program to convert an array to an array of machine values and return the bytes representation?"
   ]
  },
  {
   "cell_type": "code",
   "execution_count": 46,
   "metadata": {},
   "outputs": [
    {
     "name": "stdout",
     "output_type": "stream",
     "text": [
      "origional array\n",
      "A1: array('i', [1, 2, 3, 4, 5, 6])\n",
      "Array of bytes b'010000000200000003000000040000000500000006000000'\n"
     ]
    }
   ],
   "source": [
    "import array\n",
    "import binascii\n",
    "a=array.array('i',[1,2,3,4,5,6])\n",
    "print('origional array')\n",
    "print('A1:',a)\n",
    "bytes_array=a.tobytes()\n",
    "print('Array of bytes',binascii.hexlify(bytes_array))"
   ]
  },
  {
   "cell_type": "markdown",
   "metadata": {},
   "source": [
    "Q43. Write the Python program to read a string and interpreting the string as an array of machine values?"
   ]
  },
  {
   "cell_type": "code",
   "execution_count": 47,
   "metadata": {},
   "outputs": [
    {
     "name": "stdout",
     "output_type": "stream",
     "text": [
      "array1: array('i', [7, 8, 9, 10])\n",
      "Bytes: b'0700000008000000090000000a000000'\n",
      "array2: array('i', [7, 8, 9, 10])\n"
     ]
    }
   ],
   "source": [
    "from array import array\n",
    "import binascii\n",
    "array1=array('i',[7,8,9,10])\n",
    "print('array1:',array1)\n",
    "as_bytes=array1.tobytes()\n",
    "print('Bytes:',binascii.hexlify(as_bytes))\n",
    "array2=array('i')\n",
    "array2.frombytes(as_bytes)\n",
    "print('array2:',array2)"
   ]
  },
  {
   "cell_type": "markdown",
   "metadata": {},
   "source": [
    "Q44. Write the Python program to push three items into the heap and return the smallest item from the heap. Also, return and pop the smallest item from the heap?"
   ]
  },
  {
   "cell_type": "code",
   "execution_count": 48,
   "metadata": {},
   "outputs": [
    {
     "name": "stdout",
     "output_type": "stream",
     "text": [
      "Items in the heap\n",
      "('V', 1)\n",
      "('V', 3)\n",
      "('V', 2)\n",
      "-----------------------\n",
      "The smallest item in the heap\n",
      "-----------------------\n",
      "Pop the smallest item in the heap\n",
      "('V', 2)\n",
      "('V', 3)\n"
     ]
    }
   ],
   "source": [
    "import heapq\n",
    "heap=[]\n",
    "heapq.heappush(heap,('V',3))\n",
    "heapq.heappush(heap,('V',2))\n",
    "heapq.heappush(heap,('V',1))\n",
    "print(\"Items in the heap\")\n",
    "for a in heap:\n",
    "    print(a)\n",
    "print(\"-----------------------\")\n",
    "print(\"The smallest item in the heap\")\n",
    "print(\"-----------------------\")\n",
    "print(\"Pop the smallest item in the heap\")\n",
    "heapq.heappop(heap)\n",
    "for a in heap:\n",
    "    print(a)"
   ]
  },
  {
   "cell_type": "markdown",
   "metadata": {},
   "source": [
    "Q45. Write the Python program to locate the left insertion point for a specified value in sorted order?"
   ]
  },
  {
   "cell_type": "code",
   "execution_count": 49,
   "metadata": {},
   "outputs": [
    {
     "name": "stdout",
     "output_type": "stream",
     "text": [
      "4\n",
      "2\n"
     ]
    }
   ],
   "source": [
    "import bisect\n",
    "def index(a,x):\n",
    "    i=bisect.bisect_left(a,x)\n",
    "    return i\n",
    "a=[1,2,4,5]\n",
    "print(index(a,6))\n",
    "print(index(a,3))"
   ]
  },
  {
   "cell_type": "markdown",
   "metadata": {},
   "source": [
    "Q46. Write the Python program to create the FIFO queue?"
   ]
  },
  {
   "cell_type": "code",
   "execution_count": 54,
   "metadata": {},
   "outputs": [
    {
     "name": "stdout",
     "output_type": "stream",
     "text": [
      "0 1 2 3 \n",
      "\n"
     ]
    }
   ],
   "source": [
    "import queue\n",
    "q=queue.Queue()\n",
    "# insert items in the end of the queue\n",
    "for x in range(4):\n",
    "    q.put(str(x))\n",
    "# removes items from the head of the queue\n",
    "while not q.empty():\n",
    "    print(q.get(),end=\" \")\n",
    "print(\"\\n\")"
   ]
  },
  {
   "cell_type": "markdown",
   "metadata": {},
   "source": [
    "Q47. Write the Python program to calculate the harmonic sum of n-1. Note: The harmonic sum is the sum of reciprocals of the positive Integers?"
   ]
  },
  {
   "cell_type": "code",
   "execution_count": 55,
   "metadata": {},
   "outputs": [
    {
     "name": "stdout",
     "output_type": "stream",
     "text": [
      "2.5928571428571425\n",
      "2.083333333333333\n"
     ]
    }
   ],
   "source": [
    "def harmonic_sum(n):\n",
    "    if n<2:\n",
    "        return 1\n",
    "    else:\n",
    "        return 1/n+harmonic_sum(n-1)\n",
    "print(harmonic_sum(7))\n",
    "print(harmonic_sum(4))"
   ]
  },
  {
   "cell_type": "markdown",
   "metadata": {},
   "source": [
    "Q48. Write the NumPy program to create a 2d array with 6 on the border and 0 inside?"
   ]
  },
  {
   "cell_type": "code",
   "execution_count": 65,
   "metadata": {},
   "outputs": [
    {
     "name": "stdout",
     "output_type": "stream",
     "text": [
      "Origional array: [[6 6 6 6 6]\n",
      " [6 6 6 6 6]\n",
      " [6 6 6 6 6]\n",
      " [6 6 6 6 6]\n",
      " [6 6 6 6 6]]\n",
      "6 on the border and 0 inside in the array\n",
      "[[6 6 6 6 6]\n",
      " [6 0 0 0 6]\n",
      " [6 0 0 0 6]\n",
      " [6 0 0 0 6]\n",
      " [6 6 6 6 6]]\n"
     ]
    }
   ],
   "source": [
    "import numpy as np\n",
    "x=np.array([[6]*5]*5)\n",
    "print('Origional array:',x)\n",
    "print(\"6 on the border and 0 inside in the array\")\n",
    "x[1:-1,1:-1]=0\n",
    "print(x)"
   ]
  },
  {
   "cell_type": "markdown",
   "metadata": {},
   "source": [
    "Q50. Write the NumPy program to create an empty and a full array."
   ]
  },
  {
   "cell_type": "code",
   "execution_count": 93,
   "metadata": {},
   "outputs": [
    {
     "name": "stdout",
     "output_type": "stream",
     "text": [
      "[[2.17e-322 0.00e+000 0.00e+000 0.00e+000]\n",
      " [0.00e+000 0.00e+000 0.00e+000 0.00e+000]\n",
      " [0.00e+000 0.00e+000 0.00e+000 0.00e+000]]\n",
      "[[6 6 6]\n",
      " [6 6 6]\n",
      " [6 6 6]]\n"
     ]
    }
   ],
   "source": [
    "import numpy as np\n",
    "# create an empty array\n",
    "x=np.empty((3,4))\n",
    "print(x)\n",
    "#create full array\n",
    "y=np.full((3,3),6)\n",
    "print(y)"
   ]
  },
  {
   "cell_type": "markdown",
   "metadata": {},
   "source": [
    "Q51. Write the NumPy program to convert the values of Centigrade degrees into the Fahrenheit degrees and the centigrade values are stored in the NumPy array"
   ]
  },
  {
   "cell_type": "code",
   "execution_count": 94,
   "metadata": {},
   "outputs": [
    {
     "name": "stdout",
     "output_type": "stream",
     "text": [
      "values in Fahrenheit degrees\n",
      "[ 0.   12.   45.21 34.   99.91]\n",
      "values in Centigrade degrees\n",
      "[-17.77777778 -11.11111111   7.33888889   1.11111111  37.72777778]\n"
     ]
    }
   ],
   "source": [
    "import numpy as np\n",
    "fvalues=[0,12,45.21,34,99.91]\n",
    "F=np.array(fvalues)\n",
    "print('values in Fahrenheit degrees')\n",
    "print(F)\n",
    "print('values in Centigrade degrees')\n",
    "print(5*F/9-5*32/9)"
   ]
  },
  {
   "cell_type": "markdown",
   "metadata": {},
   "source": [
    "Q52. Write the NumPy program to find the real and imaginary parts of an array of complex numbers?"
   ]
  },
  {
   "cell_type": "code",
   "execution_count": 95,
   "metadata": {},
   "outputs": [
    {
     "name": "stdout",
     "output_type": "stream",
     "text": [
      "Origional array:x [1.+0.j]\n",
      "Origional array:y [0.70710678+0.70710678j]\n",
      "Real part of the array\n",
      "[1.]\n",
      "[0.70710678]\n",
      "Imaginary parts of the array\n",
      "[0.]\n",
      "[0.70710678]\n"
     ]
    }
   ],
   "source": [
    "import numpy as np\n",
    "x=np.sqrt([1+0j])\n",
    "y=np.sqrt([0+1j])\n",
    "print('Origional array:x',x)\n",
    "print('Origional array:y',y)\n",
    "print('Real part of the array')\n",
    "print(x.real)\n",
    "print(y.real)\n",
    "print('Imaginary parts of the array')\n",
    "print(x.imag)\n",
    "print(y.imag)"
   ]
  },
  {
   "cell_type": "markdown",
   "metadata": {},
   "source": [
    "Q53. Write the NumPy program to test whether each element of a 1-D array is also present in the second array?"
   ]
  },
  {
   "cell_type": "code",
   "execution_count": 97,
   "metadata": {},
   "outputs": [
    {
     "name": "stdout",
     "output_type": "stream",
     "text": [
      "Array1 [ 0 10 20 40 60]\n",
      "Array2 [0, 40]\n",
      "Compare each element of Array1 and Array2\n",
      "[ True False False  True False]\n"
     ]
    }
   ],
   "source": [
    "import numpy as np\n",
    "array1=np.array([0,10,20,40,60])\n",
    "print('Array1',array1)\n",
    "array2=[0,40]\n",
    "print('Array2',array2)\n",
    "print('Compare each element of Array1 and Array2')\n",
    "print(np.in1d(array1,array2))"
   ]
  },
  {
   "cell_type": "markdown",
   "metadata": {},
   "source": [
    "Q54. Write the NumPy program to find common values between two arrays?"
   ]
  },
  {
   "cell_type": "code",
   "execution_count": 99,
   "metadata": {},
   "outputs": [
    {
     "name": "stdout",
     "output_type": "stream",
     "text": [
      "Array1: [ 0 10 20 40 60]\n",
      "Array2: [10, 30, 40]\n",
      "Common values between array1 and array2\n",
      "[10 40]\n"
     ]
    }
   ],
   "source": [
    "import numpy as np\n",
    "array1=np.array([0,10,20,40,60])\n",
    "print('Array1:',array1)\n",
    "array2=[10,30,40]\n",
    "print('Array2:',array2)\n",
    "print('Common values between array1 and array2')\n",
    "print(np.intersect1d(array1,array2))"
   ]
  },
  {
   "cell_type": "markdown",
   "metadata": {},
   "source": [
    "Q55. Write the NumPy program to get the unique elements of an array?"
   ]
  },
  {
   "cell_type": "code",
   "execution_count": 100,
   "metadata": {},
   "outputs": [
    {
     "name": "stdout",
     "output_type": "stream",
     "text": [
      "Origional array:\n",
      "[10 10 20 20 30 30]\n",
      "Unique elements of the above array:\n",
      "[10 20 30]\n",
      "Original array\n",
      "[[1 1]\n",
      " [2 3]]\n",
      "Unique elements of the above array:\n",
      "[1 2 3]\n"
     ]
    }
   ],
   "source": [
    "import numpy as np\n",
    "x=np.array([10,10,20,20,30,30])\n",
    "print('Origional array:')\n",
    "print(x)\n",
    "print('Unique elements of the above array:')\n",
    "print(np.unique(x))\n",
    "x=np.array([[1,1],[2,3]])\n",
    "print('Original array')\n",
    "print(x)\n",
    "print('Unique elements of the above array:')\n",
    "print(np.unique(x))"
   ]
  },
  {
   "cell_type": "markdown",
   "metadata": {},
   "source": [
    "Q56. Write the NumPy program to find the set exclusive-or of two arrays. Set exclusive-or will return the sorted, unique values that are in only one (not both) of the input arrays?"
   ]
  },
  {
   "cell_type": "code",
   "execution_count": 101,
   "metadata": {},
   "outputs": [
    {
     "name": "stdout",
     "output_type": "stream",
     "text": [
      "Array1: [ 0 10 20 40 60 80]\n",
      "Array2 [10, 30, 40, 50, 70]\n",
      "Unique values that are only in one (not both) of the input arrays\n",
      "[ 0 20 30 50 60 70 80]\n"
     ]
    }
   ],
   "source": [
    "import numpy as np\n",
    "array1=np.array([0,10,20,40,60,80])\n",
    "print('Array1:',array1)\n",
    "array2=[10,30,40,50,70]\n",
    "print('Array2',array2)\n",
    "print('Unique values that are only in one (not both) of the input arrays')\n",
    "print(np.setxor1d(array1,array2))"
   ]
  },
  {
   "cell_type": "code",
   "execution_count": 105,
   "metadata": {},
   "outputs": [
    {
     "name": "stdout",
     "output_type": "stream",
     "text": [
      "False\n",
      "True\n",
      "False\n",
      "True\n"
     ]
    }
   ],
   "source": [
    "import numpy as np\n",
    "print(np.all([[True,False],[True,True]]))\n",
    "print(np.all([[True,True],[True,True]]))\n",
    "print(np.all([10,20,0,-50]))\n",
    "print(np.all([10,20,-50]))"
   ]
  },
  {
   "cell_type": "markdown",
   "metadata": {},
   "source": [
    "Q58 Write the NumPy program to test whether any array element along the given axis evaluates to True?"
   ]
  },
  {
   "cell_type": "code",
   "execution_count": 106,
   "metadata": {},
   "outputs": [
    {
     "name": "stdout",
     "output_type": "stream",
     "text": [
      "False\n",
      "True\n",
      "True\n",
      "True\n"
     ]
    }
   ],
   "source": [
    "import numpy as np\n",
    "print(np.any([[False,False],[False,False]]))\n",
    "print(np.any([[True,True],[True,True]]))\n",
    "print(np.any([10,20,0,-50]))\n",
    "print(np.any([10,20,-50]))"
   ]
  },
  {
   "cell_type": "code",
   "execution_count": 107,
   "metadata": {},
   "outputs": [
    {
     "name": "stdout",
     "output_type": "stream",
     "text": [
      "Original array\n",
      "[1, 2, 3, 4]\n",
      "Repating 2 times\n",
      "[1 2 3 4 1 2 3 4]\n",
      "Repating 3 times\n",
      "[1 2 3 4 1 2 3 4 1 2 3 4]\n"
     ]
    }
   ],
   "source": [
    "import numpy as np\n",
    "a=[1,2,3,4]\n",
    "print('Original array')\n",
    "print(a)\n",
    "print('Repating 2 times')\n",
    "x=np.tile(a,2)\n",
    "print(x)\n",
    "print('Repating 3 times')\n",
    "x=np.tile(a,3)\n",
    "print(x)"
   ]
  },
  {
   "cell_type": "markdown",
   "metadata": {},
   "source": [
    "Q60. Write the NumPy program to find the indices of the maximum and minimum values with the given axis of an array?"
   ]
  },
  {
   "cell_type": "code",
   "execution_count": 108,
   "metadata": {},
   "outputs": [
    {
     "name": "stdout",
     "output_type": "stream",
     "text": [
      "Origional array [1 2 3 4 5 6]\n",
      "Maximum values:  5\n",
      "Minimum values:  0\n"
     ]
    }
   ],
   "source": [
    "import numpy as np\n",
    "x=np.array([1,2,3,4,5,6])\n",
    "print('Origional array',x)\n",
    "print('Maximum values: ',np.argmax(x))\n",
    "print('Minimum values: ',np.argmin(x))"
   ]
  },
  {
   "cell_type": "markdown",
   "metadata": {},
   "source": [
    "Q61. Write the NumPy program compare two arrays using numpy?"
   ]
  },
  {
   "cell_type": "code",
   "execution_count": 109,
   "metadata": {},
   "outputs": [
    {
     "name": "stdout",
     "output_type": "stream",
     "text": [
      "Array a:  [1 2]\n",
      "Array b:  [4 5]\n",
      "a>b\n",
      "[False False]\n",
      "a>=b\n",
      "[False False]\n",
      "a<b\n",
      "[ True  True]\n",
      "a<=b\n",
      "[ True  True]\n"
     ]
    }
   ],
   "source": [
    "import numpy as np\n",
    "a=np.array([1,2])\n",
    "b=np.array([4,5])\n",
    "print('Array a: ',a)\n",
    "print('Array b: ',b)\n",
    "print(\"a>b\")\n",
    "print(np.greater(a,b))\n",
    "print(\"a>=b\")\n",
    "print(np.greater_equal(a,b))\n",
    "print(\"a<b\")\n",
    "print(np.less(a,b))\n",
    "print(\"a<=b\")\n",
    "print(np.less_equal(a,b))"
   ]
  },
  {
   "cell_type": "markdown",
   "metadata": {},
   "source": [
    "Q62. Write the NumPy program to sort an along the first, last axis of an array?"
   ]
  },
  {
   "cell_type": "code",
   "execution_count": 110,
   "metadata": {},
   "outputs": [
    {
     "name": "stdout",
     "output_type": "stream",
     "text": [
      "Origional array: \n",
      "[[4 6]\n",
      " [2 1]]\n",
      "Sort along the first axis: \n",
      "[[2 1]\n",
      " [4 6]]\n",
      "Sort along the last axis: \n",
      "[[1 2]\n",
      " [4 6]]\n"
     ]
    }
   ],
   "source": [
    "import numpy as np\n",
    "a=np.array([[4,6],[2,1]])\n",
    "print('Origional array: ')\n",
    "print(a)\n",
    "print('Sort along the first axis: ')\n",
    "x=np.sort(a,axis=0)\n",
    "print(x)\n",
    "print('Sort along the last axis: ')\n",
    "y=np.sort(x,axis=1)\n",
    "print(y)"
   ]
  },
  {
   "cell_type": "markdown",
   "metadata": {},
   "source": [
    "Q63. Write the NumPy program to sort pairs of first name and last name return their indices (first by last name, then by first name)."
   ]
  },
  {
   "cell_type": "code",
   "execution_count": 113,
   "metadata": {},
   "outputs": [
    {
     "name": "stdout",
     "output_type": "stream",
     "text": [
      "[1 3 2 4 0]\n"
     ]
    }
   ],
   "source": [
    "import numpy as np\n",
    "first_names =    ('Margery', 'Betsey', 'Shelley', 'Lanell', 'Genesis')\n",
    "last_names = ('Woolum', 'Battle', 'Plotner', 'Brien', 'Stahl')\n",
    "x=np.lexsort((first_names,last_names))\n",
    "print(x)"
   ]
  },
  {
   "cell_type": "markdown",
   "metadata": {},
   "source": [
    "Q64. Write the NumPy program to get the values and indices of the elements that are bigger than 10 in the given array?"
   ]
  },
  {
   "cell_type": "code",
   "execution_count": 114,
   "metadata": {},
   "outputs": [
    {
     "name": "stdout",
     "output_type": "stream",
     "text": [
      "Origional array: \n",
      "[[ 0 10 20]\n",
      " [20 30 40]]\n",
      "Values bigger than 10= [20 20 30 40]\n",
      "Their indices are (array([0, 1, 1, 1], dtype=int64), array([2, 0, 1, 2], dtype=int64))\n"
     ]
    }
   ],
   "source": [
    "import numpy as np\n",
    "x=np.array(([0,10,20],[20,30,40]))\n",
    "print('Origional array: ')\n",
    "print(x)\n",
    "print('Values bigger than 10=',x[x>10])\n",
    "print('Their indices are',np.nonzero(x>10))"
   ]
  },
  {
   "cell_type": "markdown",
   "metadata": {},
   "source": [
    "Q65. Write the NumPy program to find the memory size of a NumPy array?"
   ]
  },
  {
   "cell_type": "code",
   "execution_count": 116,
   "metadata": {},
   "outputs": [
    {
     "name": "stdout",
     "output_type": "stream",
     "text": [
      "128 bytes\n"
     ]
    }
   ],
   "source": [
    "import numpy as np\n",
    "n=np.zeros((4,4))\n",
    "print(\"%d bytes\" % (n.size * n.itemsize))"
   ]
  },
  {
   "cell_type": "markdown",
   "metadata": {},
   "source": [
    "Q66. Write the NumPy program to create an array of ones and an array of zeros?"
   ]
  },
  {
   "cell_type": "code",
   "execution_count": 118,
   "metadata": {},
   "outputs": [
    {
     "name": "stdout",
     "output_type": "stream",
     "text": [
      "Create an array of zeros\n",
      "Default type is float\n",
      "[[0. 0.]]\n",
      "Type changes to int\n",
      "[[0 0]]\n",
      "Create an array of ones\n",
      "Default type is float\n",
      "[[1. 1.]]\n",
      "Type changes to int\n",
      "[[1 1]]\n"
     ]
    }
   ],
   "source": [
    "import numpy as np\n",
    "print('Create an array of zeros')\n",
    "x=np.zeros((1,2))\n",
    "print('Default type is float')\n",
    "print(x)\n",
    "print(\"Type changes to int\")\n",
    "x = np.zeros((1,2), dtype = np.int)\n",
    "print(x)\n",
    "print(\"Create an array of ones\")\n",
    "y= np.ones((1,2)) \n",
    "print(\"Default type is float\")\n",
    "print(y)\n",
    "print(\"Type changes to int\")\n",
    "y = np.ones((1,2), dtype = np.int)\n",
    "print(y)"
   ]
  },
  {
   "cell_type": "markdown",
   "metadata": {},
   "source": [
    "Q67. Write the NumPy program to change the dimension of an array?"
   ]
  },
  {
   "cell_type": "code",
   "execution_count": 120,
   "metadata": {},
   "outputs": [
    {
     "name": "stdout",
     "output_type": "stream",
     "text": [
      "6 Rows and 0 columns\n",
      "(6,)\n",
      "(3,3)->3 rows and 3 columns\n",
      "[[1 2 3]\n",
      " [4 5 6]\n",
      " [7 8 9]]\n",
      "Change arary shape to (3,3)->3 rows and 3 columns\n",
      "[[1 2 3]\n",
      " [4 5 6]\n",
      " [7 8 9]]\n"
     ]
    }
   ],
   "source": [
    "import numpy as np\n",
    "x=np.array([1,2,3,4,5,6])\n",
    "print('6 Rows and 0 columns')\n",
    "print(x.shape)\n",
    "y=np.array([[1,2,3],[4,5,6],[7,8,9]])\n",
    "print(\"(3,3)->3 rows and 3 columns\")\n",
    "print(y)\n",
    "x=np.array([1,2,3,4,5,6,7,8,9])\n",
    "print('Change arary shape to (3,3)->3 rows and 3 columns')\n",
    "x.shape = (3, 3)\n",
    "print(x)"
   ]
  },
  {
   "cell_type": "markdown",
   "metadata": {},
   "source": [
    "Q68. Write the NumPy program to create a new shape to an array without changing its data ?"
   ]
  },
  {
   "cell_type": "code",
   "execution_count": 122,
   "metadata": {},
   "outputs": [
    {
     "name": "stdout",
     "output_type": "stream",
     "text": [
      "Reshape 3x2:\n",
      "[[1 2]\n",
      " [3 4]\n",
      " [5 6]]\n",
      "Reshape 2x3\n",
      "[[1 2 3]\n",
      " [4 5 6]]\n"
     ]
    }
   ],
   "source": [
    "import numpy as np\n",
    "x=np.array([1,2,3,4,5,6])\n",
    "y=np.reshape(x,(3,2))\n",
    "print('Reshape 3x2:')\n",
    "print(y)\n",
    "z=np.reshape(x,(2,3))\n",
    "print('Reshape 2x3')\n",
    "print(z)"
   ]
  },
  {
   "cell_type": "markdown",
   "metadata": {},
   "source": [
    "Q69. Write the NumPy program to create a new array of 3*5, filled with 2?"
   ]
  },
  {
   "cell_type": "code",
   "execution_count": 123,
   "metadata": {},
   "outputs": [
    {
     "name": "stdout",
     "output_type": "stream",
     "text": [
      "[[2 2 2 2 2]\n",
      " [2 2 2 2 2]\n",
      " [2 2 2 2 2]]\n",
      "[[2 2 2 2 2]\n",
      " [2 2 2 2 2]\n",
      " [2 2 2 2 2]]\n"
     ]
    }
   ],
   "source": [
    "import numpy as np\n",
    "#using no.full\n",
    "x=np.full((3,5),2,dtype=np.int)\n",
    "print(x)\n",
    "#using no.ones\n",
    "y=np.ones([3,5],dtype=np.uint)*2\n",
    "print(y)"
   ]
  },
  {
   "cell_type": "markdown",
   "metadata": {},
   "source": [
    "Q70. Write the NumPy program to create a 3-D array with ones on a diagonal and zeros elsewhere?"
   ]
  },
  {
   "cell_type": "code",
   "execution_count": 124,
   "metadata": {},
   "outputs": [
    {
     "name": "stdout",
     "output_type": "stream",
     "text": [
      "[[1. 0. 0.]\n",
      " [0. 1. 0.]\n",
      " [0. 0. 1.]]\n"
     ]
    }
   ],
   "source": [
    "import numpy as np\n",
    "x=np.eye(3)\n",
    "print(x)"
   ]
  },
  {
   "cell_type": "markdown",
   "metadata": {},
   "source": [
    "Q71. Write the NumPy program to split an array of 14 elements into the 3 arrays and each of which has 2, 4, and 8 elements in original order?"
   ]
  },
  {
   "cell_type": "code",
   "execution_count": 127,
   "metadata": {},
   "outputs": [
    {
     "name": "stdout",
     "output_type": "stream",
     "text": [
      "Origional array:  [ 1  2  3  4  5  6  7  8  9 10 11 12 13 14]\n",
      "After spliting:\n",
      "[array([1, 2]), array([3, 4, 5, 6]), array([ 7,  8,  9, 10, 11, 12, 13, 14])]\n"
     ]
    }
   ],
   "source": [
    "import numpy as np\n",
    "x=np.arange(1,15)\n",
    "print('Origional array: ',x)\n",
    "print('After spliting:')\n",
    "print(np.split(x,[2,6]))"
   ]
  },
  {
   "cell_type": "markdown",
   "metadata": {},
   "source": [
    "Q72. Write the NumPy program to split of an array of shape 4x4 it into two arrays along the second axis ?"
   ]
  },
  {
   "cell_type": "code",
   "execution_count": 128,
   "metadata": {},
   "outputs": [
    {
     "name": "stdout",
     "output_type": "stream",
     "text": [
      "Origional array:  [[ 0  1  2  3]\n",
      " [ 4  5  6  7]\n",
      " [ 8  9 10 11]\n",
      " [12 13 14 15]]\n",
      "After spliting horizontally:\n",
      "[array([[ 0,  1],\n",
      "       [ 4,  5],\n",
      "       [ 8,  9],\n",
      "       [12, 13]]), array([[ 2,  3],\n",
      "       [ 6,  7],\n",
      "       [10, 11],\n",
      "       [14, 15]]), array([], shape=(4, 0), dtype=int32)]\n"
     ]
    }
   ],
   "source": [
    "import numpy as np\n",
    "x=np.arange(16).reshape((4,4))\n",
    "print('Origional array: ',x)\n",
    "print('After spliting horizontally:')\n",
    "print(np.hsplit(x,[2,6]))"
   ]
  },
  {
   "cell_type": "markdown",
   "metadata": {},
   "source": [
    "Q73. Write the NumPy program to create a 5x5 matrix with row values ranging from 0 to 4?"
   ]
  },
  {
   "cell_type": "code",
   "execution_count": 129,
   "metadata": {},
   "outputs": [
    {
     "name": "stdout",
     "output_type": "stream",
     "text": [
      "Origional array: \n",
      "[[0. 0. 0. 0. 0.]\n",
      " [0. 0. 0. 0. 0.]\n",
      " [0. 0. 0. 0. 0.]\n",
      " [0. 0. 0. 0. 0.]\n",
      " [0. 0. 0. 0. 0.]]\n",
      "Row values ragning from 0 to 4\n",
      "[[0. 1. 2. 3. 4.]\n",
      " [0. 1. 2. 3. 4.]\n",
      " [0. 1. 2. 3. 4.]\n",
      " [0. 1. 2. 3. 4.]\n",
      " [0. 1. 2. 3. 4.]]\n"
     ]
    }
   ],
   "source": [
    "import numpy as np\n",
    "x=np.zeros((5,5))\n",
    "print('Origional array: ')\n",
    "print(x)\n",
    "print('Row values ragning from 0 to 4')\n",
    "x+=np.arange(5)\n",
    "print(x)"
   ]
  },
  {
   "cell_type": "markdown",
   "metadata": {},
   "source": [
    "Q74. Write the NumPy program to create an array of zeros and three column types (integer, float, character)?"
   ]
  },
  {
   "cell_type": "code",
   "execution_count": 131,
   "metadata": {},
   "outputs": [
    {
     "name": "stdout",
     "output_type": "stream",
     "text": [
      "[(1, 2., b'Albert Einstein') (2, 2., b'Edmond Halley')\n",
      " (3, 3., b'Gertude B.Elion')]\n"
     ]
    }
   ],
   "source": [
    "import numpy as np\n",
    "x=np.zeros((3,),dtype=('i4,f4,a40'))\n",
    "new_data=[(1,2.,'Albert Einstein'),(2,2.,'Edmond Halley'),(3,3.,'Gertude B.Elion')]\n",
    "x[:]=new_data\n",
    "print(x)"
   ]
  },
  {
   "cell_type": "markdown",
   "metadata": {},
   "source": [
    "Q75. Write the NumPy program to remove the negative values in the numpy array with 0?"
   ]
  },
  {
   "cell_type": "code",
   "execution_count": 132,
   "metadata": {},
   "outputs": [
    {
     "name": "stdout",
     "output_type": "stream",
     "text": [
      "Origional array: \n",
      "[-1 -4  0  2  3  4  5 -6]\n",
      "Replace the negative values of the array with 0\n",
      "[0 0 0 2 3 4 5 0]\n"
     ]
    }
   ],
   "source": [
    "import numpy as np\n",
    "x=np.array([-1,-4,0,2,3,4,5,-6])\n",
    "print('Origional array: ')\n",
    "print(x)\n",
    "print('Replace the negative values of the array with 0')\n",
    "x[x<0]=0\n",
    "print(x)"
   ]
  },
  {
   "cell_type": "markdown",
   "metadata": {},
   "source": [
    "Q76. Write the NumPy program to compute the histogram of a set of data?"
   ]
  },
  {
   "cell_type": "code",
   "execution_count": 134,
   "metadata": {},
   "outputs": [
    {
     "data": {
      "image/png": "[encoded data removed]",
      "text/plain": [
       "<Figure size 432x288 with 1 Axes>"
      ]
     },
     "metadata": {
      "needs_background": "light"
     },
     "output_type": "display_data"
    }
   ],
   "source": [
    "import numpy as np\n",
    "import matplotlib.pyplot as plt\n",
    "plt.hist([1,2,1],bins=[0,1,2,3,5])\n",
    "plt.show()"
   ]
  },
  {
   "cell_type": "markdown",
   "metadata": {},
   "source": [
    "Q77. Write the NumPy program to compute the line graph of a set of data?"
   ]
  },
  {
   "cell_type": "code",
   "execution_count": 135,
   "metadata": {},
   "outputs": [
    {
     "name": "stderr",
     "output_type": "stream",
     "text": [
      "C:\\Users\\Admin\\Anaconda3\\lib\\site-packages\\matplotlib\\figure.py:445: UserWarning: Matplotlib is currently using module://ipykernel.pylab.backend_inline, which is a non-GUI backend, so cannot show the figure.\n",
      "  % get_backend())\n"
     ]
    },
    {
     "data": {
      "image/png": "[encoded data removed]",
      "text/plain": [
       "<Figure size 432x288 with 1 Axes>"
      ]
     },
     "metadata": {
      "needs_background": "light"
     },
     "output_type": "display_data"
    }
   ],
   "source": [
    "import numpy as np\n",
    "import matplotlib.pyplot as plt\n",
    "arr=np.random.randint(1,50,10)\n",
    "y,x=np.histogram(arr,bins=np.arange(51))\n",
    "fig,ax=plt.subplots()\n",
    "ax.plot(x[:-1],y)\n",
    "fig.show()"
   ]
  },
  {
   "cell_type": "markdown",
   "metadata": {},
   "source": [
    "Q78. Write the NumPy program to extracts all the elements from second row from given (4x4) array?"
   ]
  },
  {
   "cell_type": "code",
   "execution_count": 1,
   "metadata": {},
   "outputs": [
    {
     "name": "stdout",
     "output_type": "stream",
     "text": [
      "Original array:\n",
      "[[ 0  1  2  3]\n",
      " [ 4  5  6  7]\n",
      " [ 8  9 10 11]\n",
      " [12 13 14 15]]\n",
      "\n",
      "Extracted data: Second row\n",
      "[4 5 6 7]\n"
     ]
    }
   ],
   "source": [
    "import numpy as np\n",
    "arra_data = np.arange(0,16).reshape((4, 4))\n",
    "print(\"Original array:\")\n",
    "print(arra_data)\n",
    "print(\"\\nExtracted data: Second row\")\n",
    "print(arra_data[1,:])"
   ]
  },
  {
   "cell_type": "markdown",
   "metadata": {},
   "source": [
    "Q79. Write the NumPy program to extract first element of the second row and fourth element of fourth row from a given (4x4) array?"
   ]
  },
  {
   "cell_type": "code",
   "execution_count": 2,
   "metadata": {},
   "outputs": [
    {
     "name": "stdout",
     "output_type": "stream",
     "text": [
      "Original array:\n",
      "[[ 0  1  2  3]\n",
      " [ 4  5  6  7]\n",
      " [ 8  9 10 11]\n",
      " [12 13 14 15]]\n",
      "\n",
      "Extracted data: First element of the second row and fourth element of fourth row  \n",
      "[ 4 15]\n"
     ]
    }
   ],
   "source": [
    "import numpy as np\n",
    "arra_data = np.arange(0,16).reshape((4, 4))\n",
    "print(\"Original array:\")\n",
    "print(arra_data)\n",
    "print(\"\\nExtracted data: First element of the second row and fourth element of fourth row  \")\n",
    "print(arra_data[[1,3], [0,3]])"
   ]
  },
  {
   "cell_type": "markdown",
   "metadata": {},
   "source": [
    "Q80. Write the NumPy program to add two arrays A and B of sizes (3,3) and (,3)?"
   ]
  },
  {
   "cell_type": "code",
   "execution_count": 3,
   "metadata": {},
   "outputs": [
    {
     "name": "stdout",
     "output_type": "stream",
     "text": [
      "Original array:\n",
      "Array-1\n",
      "[[1. 1. 1.]\n",
      " [1. 1. 1.]\n",
      " [1. 1. 1.]]\n",
      "Array-2\n",
      "[0 1 2]\n",
      "A + B:\n",
      "[[1. 2. 3.]\n",
      " [1. 2. 3.]\n",
      " [1. 2. 3.]]\n"
     ]
    }
   ],
   "source": [
    "import numpy as np\n",
    "A = np.ones((3,3))\n",
    "B = np.arange(3)\n",
    "print(\"Original array:\")\n",
    "print(\"Array-1\")\n",
    "print(A)\n",
    "print(\"Array-2\")\n",
    "print(B)\n",
    "print(\"A + B:\")\n",
    "new_array = A + B\n",
    "print(new_array)"
   ]
  },
  {
   "cell_type": "markdown",
   "metadata": {},
   "source": [
    "Q81. Write the NumPy program to copy data from a given array to another array?"
   ]
  },
  {
   "cell_type": "code",
   "execution_count": 4,
   "metadata": {},
   "outputs": [
    {
     "name": "stdout",
     "output_type": "stream",
     "text": [
      "Original array:\n",
      "[24 27 30 29 18 14]\n",
      "\n",
      "Copy of the said array:\n",
      "[24 27 30 29 18 14]\n"
     ]
    }
   ],
   "source": [
    "import numpy as np\n",
    "x = np.array([24, 27, 30, 29, 18, 14])\n",
    "print(\"Original array:\")\n",
    "print(x)\n",
    "y = np.empty_like (x)\n",
    "y[:] = x\n",
    "print(\"\\nCopy of the said array:\")\n",
    "print(y)"
   ]
  },
  {
   "cell_type": "markdown",
   "metadata": {},
   "source": [
    "Q82. Write the NumPy program to calculate the sum of all columns of the 2D numpy array?"
   ]
  },
  {
   "cell_type": "code",
   "execution_count": 5,
   "metadata": {},
   "outputs": [
    {
     "name": "stdout",
     "output_type": "stream",
     "text": [
      "Original array:\n",
      "[[ 0  1  2  3  4  5  6  7  8]\n",
      " [ 9 10 11 12 13 14 15 16 17]\n",
      " [18 19 20 21 22 23 24 25 26]\n",
      " [27 28 29 30 31 32 33 34 35]]\n",
      "\n",
      "Sum of all columns:\n",
      "[54 58 62 66 70 74 78 82 86]\n"
     ]
    }
   ],
   "source": [
    "import numpy as np\n",
    "num = np.arange(36)\n",
    "arr1 = np.reshape(num, [4, 9])\n",
    "print(\"Original array:\")\n",
    "print(arr1)\n",
    "result  = arr1.sum(axis=0)\n",
    "print(\"\\nSum of all columns:\")\n",
    "print(result)"
   ]
  },
  {
   "cell_type": "markdown",
   "metadata": {},
   "source": [
    "Q83. Write the NumPy program to calculate averages without NaNs along the given array?"
   ]
  },
  {
   "cell_type": "code",
   "execution_count": 6,
   "metadata": {},
   "outputs": [
    {
     "name": "stdout",
     "output_type": "stream",
     "text": [
      "Original array:\n",
      "[[10. 20. 30.]\n",
      " [40. 50. nan]\n",
      " [nan  6. nan]\n",
      " [nan nan nan]]\n",
      "Averages without NaNs along the said array:\n",
      "[20. 45.  6. nan]\n"
     ]
    }
   ],
   "source": [
    "import numpy as np\n",
    "arr1 = np.array([[10, 20 ,30], [40, 50, np.nan], [np.nan, 6, np.nan], [np.nan, np.nan, np.nan]])\n",
    "print(\"Original array:\")\n",
    "print(arr1)\n",
    "temp = np.ma.masked_array(arr1,np.isnan(arr1))\n",
    "result = np.mean(temp, axis=1)\n",
    "print(\"Averages without NaNs along the said array:\")\n",
    "print(result.filled(np.nan))"
   ]
  },
  {
   "cell_type": "markdown",
   "metadata": {},
   "source": [
    "Q84. Create two arrays of six elements. Write the NumPy program to count the number of instances of a value occurring in one array on the condition of another array."
   ]
  },
  {
   "cell_type": "code",
   "execution_count": 7,
   "metadata": {},
   "outputs": [
    {
     "name": "stdout",
     "output_type": "stream",
     "text": [
      "Original arrays:\n",
      "[ 10 -10  10 -10 -10  10]\n",
      "[0.85 0.45 0.9  0.8  0.12 0.6 ]\n",
      "\n",
      "Number of instances of a value occurring in one array on the condition of another array:\n",
      "3\n"
     ]
    }
   ],
   "source": [
    "import numpy as np\n",
    "x = np.array([10,-10,10,-10,-10,10])\n",
    "y = np.array([.85,.45,.9,.8,.12,.6])\n",
    "print(\"Original arrays:\")\n",
    "print(x)\n",
    "print(y)\n",
    "result = np.sum((x == 10) & (y > .5))\n",
    "print(\"\\nNumber of instances of a value occurring in one array on the condition of another array:\")\n",
    "print(result)"
   ]
  },
  {
   "cell_type": "code",
   "execution_count": 8,
   "metadata": {},
   "outputs": [
    {
     "name": "stdout",
     "output_type": "stream",
     "text": [
      "\n",
      "Original dictionary:\n",
      "{'column0': {'a': 1, 'b': 0.0, 'c': 0.0, 'd': 2.0}, 'column1': {'a': 3.0, 'b': 1, 'c': 0.0, 'd': -1.0}, 'column2': {'a': 4, 'b': 1, 'c': 5.0, 'd': -1.0}, 'column3': {'a': 3.0, 'b': -1.0, 'c': -1.0, 'd': -1.0}}\n",
      "Type:  <class 'dict'>\n",
      "\n",
      "ndarray:\n",
      "[[ 1.  0.  0.  2.]\n",
      " [ 3.  1.  0. -1.]\n",
      " [ 4.  1.  5. -1.]\n",
      " [ 3. -1. -1. -1.]]\n",
      "Type:  <class 'numpy.ndarray'>\n"
     ]
    }
   ],
   "source": [
    "import numpy as np\n",
    "from ast import literal_eval\n",
    "udict = \"\"\"{\"column0\":{\"a\":1,\"b\":0.0,\"c\":0.0,\"d\":2.0},\n",
    "   \"column1\":{\"a\":3.0,\"b\":1,\"c\":0.0,\"d\":-1.0},\n",
    "   \"column2\":{\"a\":4,\"b\":1,\"c\":5.0,\"d\":-1.0},\n",
    "   \"column3\":{\"a\":3.0,\"b\":-1.0,\"c\":-1.0,\"d\":-1.0}\n",
    "  }\"\"\"\n",
    "t = literal_eval(udict)\n",
    "print(\"\\nOriginal dictionary:\")\n",
    "print(t)\n",
    "print(\"Type: \",type(t))\n",
    "result_nparra = np.array([[v[j] for j in ['a', 'b', 'c', 'd']] for k, v in t.items()])\n",
    "print(\"\\nndarray:\")\n",
    "print(result_nparra)\n",
    "print(\"Type: \",type(result_nparra))\n"
   ]
  },
  {
   "cell_type": "markdown",
   "metadata": {},
   "source": [
    "Q86. Write the Numpy program to find and store the non-zero unique rows in an array after comparing each row with other row in the given matrix?"
   ]
  },
  {
   "cell_type": "code",
   "execution_count": 9,
   "metadata": {},
   "outputs": [
    {
     "name": "stdout",
     "output_type": "stream",
     "text": [
      "Original array:\n",
      "[[ 1  1  0]\n",
      " [ 0  0  0]\n",
      " [ 0  2  3]\n",
      " [ 0  0  0]\n",
      " [ 0 -1  1]\n",
      " [ 0  0  0]]\n",
      "\n",
      "Non-zero unique rows:\n",
      "[[ 1  1  0]\n",
      " [ 0  2  3]\n",
      " [ 0 -1  1]]\n"
     ]
    }
   ],
   "source": [
    "import numpy as np\n",
    "arra = np.array([[ 1,  1,  0],\n",
    "                 [ 0,  0,  0],\n",
    "                 [ 0,  2,  3],\n",
    "                 [ 0,  0,  0],\n",
    "                 [ 0, -1,  1],\n",
    "                 [ 0,  0,  0]])\n",
    "\n",
    "print(\"Original array:\")\n",
    "print(arra)\n",
    "temp = {(0, 0, 0)}\n",
    "result = []\n",
    "for idx, row in enumerate(map(tuple, arra)):\n",
    "    if row not in temp:\n",
    "        result.append(idx)\n",
    "print(\"\\nNon-zero unique rows:\")\n",
    "print(arra[result])"
   ]
  },
  {
   "cell_type": "markdown",
   "metadata": {},
   "source": [
    "Q87. Write the NumPy program to multiply the matrix by another matrix of complex numbers and create a new matrix of complex numbers?"
   ]
  },
  {
   "cell_type": "code",
   "execution_count": 10,
   "metadata": {},
   "outputs": [
    {
     "name": "stdout",
     "output_type": "stream",
     "text": [
      "First array:\n",
      "[1.+2.j 3.+4.j]\n",
      "Second array:\n",
      "[5.+6.j 7.+8.j]\n",
      "Product of above two arrays:\n",
      "(70-8j)\n"
     ]
    }
   ],
   "source": [
    "import numpy as np\n",
    "x = np.array([1+2j,3+4j])\n",
    "print(\"First array:\")\n",
    "print(x)\n",
    "y = np.array([5+6j,7+8j])\n",
    "print(\"Second array:\")\n",
    "print(y)\n",
    "z = np.vdot(x, y)\n",
    "print(\"Product of above two arrays:\")\n",
    "print(z)"
   ]
  },
  {
   "cell_type": "markdown",
   "metadata": {},
   "source": [
    "Q88. Write a NumPy program to generate the matrix product of two Arrays?"
   ]
  },
  {
   "cell_type": "code",
   "execution_count": 12,
   "metadata": {},
   "outputs": [
    {
     "name": "stdout",
     "output_type": "stream",
     "text": [
      "Matrices and vectors.\n",
      "x:\n",
      "[[1, 0], [1, 1]]\n",
      "y:\n",
      "[[3, 1], [2, 2]]\n",
      "Matrix product of above two arrays:\n",
      "[[3 1]\n",
      " [5 3]]\n"
     ]
    }
   ],
   "source": [
    "import numpy as np\n",
    "x = [[1, 0], [1, 1]]\n",
    "y = [[3, 1], [2, 2]]\n",
    "print(\"Matrices and vectors.\")\n",
    "print(\"x:\")\n",
    "print(x)\n",
    "print(\"y:\")\n",
    "print(y)\n",
    "print(\"Matrix product of above two arrays:\")\n",
    "print(np.matmul(x, y))"
   ]
  },
  {
   "cell_type": "markdown",
   "metadata": {},
   "source": [
    "Q89. Write the NumPy program to find roots of the following Polynomials?"
   ]
  },
  {
   "cell_type": "markdown",
   "metadata": {},
   "source": [
    "a) (x2 - 4x + 7) b) x4 - 11x3 + 9x2 + 11x ? 10"
   ]
  },
  {
   "cell_type": "code",
   "execution_count": 13,
   "metadata": {},
   "outputs": [
    {
     "name": "stdout",
     "output_type": "stream",
     "text": [
      "Roots of the first polynomial:\n",
      "[1. 1.]\n",
      "Roots of the second polynomial:\n",
      "[11.04461946+0.j        -0.8711421 +0.j         0.91326132+0.4531004j\n",
      "  0.91326132-0.4531004j]\n"
     ]
    }
   ],
   "source": [
    "import numpy as np\n",
    "print(\"Roots of the first polynomial:\")\n",
    "print(np.roots([1, -2, 1]))\n",
    "print(\"Roots of the second polynomial:\")\n",
    "print(np.roots([1, -12, 10, 7, -10]))"
   ]
  },
  {
   "cell_type": "markdown",
   "metadata": {},
   "source": [
    "Q90. Write the NumPy program to calculate inverse of sine, cosine, and inverse tangent for all elements in a given array?"
   ]
  },
  {
   "cell_type": "code",
   "execution_count": 14,
   "metadata": {},
   "outputs": [
    {
     "name": "stdout",
     "output_type": "stream",
     "text": [
      "Inverse sine: [-1.57079633  0.          1.57079633]\n",
      "Inverse cosine: [3.14159265 1.57079633 0.        ]\n",
      "Inverse tangent: [-0.78539816  0.          0.78539816]\n"
     ]
    }
   ],
   "source": [
    "import numpy as np\n",
    "x = np.array([-1., 0, 1.])\n",
    "print(\"Inverse sine:\", np.arcsin(x))\n",
    "print(\"Inverse cosine:\", np.arccos(x))\n",
    "print(\"Inverse tangent:\", np.arctan(x))"
   ]
  },
  {
   "cell_type": "markdown",
   "metadata": {},
   "source": [
    "Q91. Write the NumPy program to calculate the difference between in neighbouring elements, element-wise of a given array?"
   ]
  },
  {
   "cell_type": "code",
   "execution_count": 15,
   "metadata": {},
   "outputs": [
    {
     "name": "stdout",
     "output_type": "stream",
     "text": [
      "Original array: \n",
      "[1 3 5 7 0]\n",
      "Difference between neighboring elements, element-wise, and prepend [0, 0] and append[100] to the said array:\n",
      "[  0   0   2   2   2  -7 200]\n"
     ]
    }
   ],
   "source": [
    "import numpy as np\n",
    "x = np.array([1, 3, 5, 7, 0])\n",
    "print(\"Original array: \")\n",
    "print(x)\n",
    "r1 = np.ediff1d(x, to_begin=[0, 0], to_end=[200])\n",
    "r2 = np.insert(np.append(np.diff(x), 200), 0, [0, 0])\n",
    "assert np.array_equiv(r1, r2)\n",
    "print(\"Difference between neighboring elements, element-wise, and prepend [0, 0] and append[100] to the said array:\")\n",
    "print(r2)"
   ]
  },
  {
   "cell_type": "markdown",
   "metadata": {},
   "source": [
    "Q92. Write the Python program to find the maximum and the minimum value of a given flattened array?"
   ]
  },
  {
   "cell_type": "code",
   "execution_count": 16,
   "metadata": {},
   "outputs": [
    {
     "name": "stdout",
     "output_type": "stream",
     "text": [
      "Original flattened array:\n",
      "[[0 1]\n",
      " [2 3]]\n",
      "Maximum value of the above flattened array:\n",
      "3\n",
      "Minimum value of the above flattened array:\n",
      "0\n"
     ]
    }
   ],
   "source": [
    "import numpy as np\n",
    "a = np.arange(4).reshape((2,2))\n",
    "print(\"Original flattened array:\")\n",
    "print(a)\n",
    "print(\"Maximum value of the above flattened array:\")\n",
    "print(np.amax(a))\n",
    "print(\"Minimum value of the above flattened array:\")\n",
    "print(np.amin(a))"
   ]
  },
  {
   "cell_type": "markdown",
   "metadata": {},
   "source": [
    "Q93. Write the NumPy program to calculate the difference between in the maximum and the minimum values of a given array along the second axis ?"
   ]
  },
  {
   "cell_type": "code",
   "execution_count": 17,
   "metadata": {},
   "outputs": [
    {
     "name": "stdout",
     "output_type": "stream",
     "text": [
      "\n",
      "Original array:\n",
      "[[ 0  1  2  3  4  5]\n",
      " [ 6  7  8  9 10 11]]\n",
      "\n",
      "Difference between the maximum and the minimum values of the said array:\n",
      "[5 5]\n"
     ]
    }
   ],
   "source": [
    "import numpy as np\n",
    "x = np.arange(12).reshape((2, 6))\n",
    "print(\"\\nOriginal array:\")\n",
    "print(x)\n",
    "r1 = np.ptp(x, 1)\n",
    "r2 = np.amax(x, 1) - np.amin(x, 1)\n",
    "assert np.allclose(r1, r2)\n",
    "print(\"\\nDifference between the maximum and the minimum values of the said array:\")\n",
    "print(r1)"
   ]
  },
  {
   "cell_type": "markdown",
   "metadata": {},
   "source": [
    "Q94. Write the NumPy program to compute the weighted of the given array ?"
   ]
  },
  {
   "cell_type": "code",
   "execution_count": 18,
   "metadata": {},
   "outputs": [
    {
     "name": "stdout",
     "output_type": "stream",
     "text": [
      "\n",
      "Original array:\n",
      "[0 1 2 3 4]\n",
      "\n",
      "Weighted average of the said array:\n",
      "2.6666666666666665\n"
     ]
    }
   ],
   "source": [
    "import numpy as np\n",
    "x = np.arange(5)\n",
    "print(\"\\nOriginal array:\")\n",
    "print(x)\n",
    "weights = np.arange(1, 6)\n",
    "r1 = np.average(x, weights=weights)\n",
    "r2 = (x*(weights/weights.sum())).sum()\n",
    "assert np.allclose(r1, r2)\n",
    "print(\"\\nWeighted average of the said array:\")\n",
    "print(r1)"
   ]
  },
  {
   "cell_type": "markdown",
   "metadata": {},
   "source": [
    "Q95. Write the NumPy program to compute the mean, standard deviation, and the variance of a given array along the second axis?"
   ]
  },
  {
   "cell_type": "code",
   "execution_count": 19,
   "metadata": {},
   "outputs": [
    {
     "name": "stdout",
     "output_type": "stream",
     "text": [
      "\n",
      "Original array:\n",
      "[0 1 2 3 4 5]\n",
      "\n",
      "Mean:  2.5\n",
      "\n",
      "std:  1\n",
      "\n",
      "variance:  2.9166666666666665\n"
     ]
    }
   ],
   "source": [
    "import numpy as np\n",
    "x = np.arange(6)\n",
    "print(\"\\nOriginal array:\")\n",
    "print(x)\n",
    "r1 = np.mean(x)\n",
    "r2 = np.average(x)\n",
    "assert np.allclose(r1, r2)\n",
    "print(\"\\nMean: \", r1)\n",
    "r1 = np.std(x)\n",
    "r2 = np.sqrt(np.mean((x - np.mean(x)) ** 2 ))\n",
    "assert np.allclose(r1, r2)\n",
    "print(\"\\nstd: \", 1)\n",
    "r1= np.var(x)\n",
    "r2 = np.mean((x - np.mean(x)) ** 2 )\n",
    "assert np.allclose(r1, r2)\n",
    "print(\"\\nvariance: \", r1)"
   ]
  },
  {
   "cell_type": "markdown",
   "metadata": {},
   "source": [
    "Q96. Write the Numpy program to compute the covariance matrix of the two given arrays?"
   ]
  },
  {
   "cell_type": "code",
   "execution_count": 20,
   "metadata": {},
   "outputs": [
    {
     "name": "stdout",
     "output_type": "stream",
     "text": [
      "\n",
      "Original array1:\n",
      "[0 1 2]\n",
      "\n",
      "Original array1:\n",
      "[2 1 0]\n",
      "\n",
      "Covariance matrix of the said arrays:\n",
      " [[ 1. -1.]\n",
      " [-1.  1.]]\n"
     ]
    }
   ],
   "source": [
    "import numpy as np\n",
    "x = np.array([0, 1, 2])\n",
    "y = np.array([2, 1, 0])\n",
    "print(\"\\nOriginal array1:\")\n",
    "print(x)\n",
    "print(\"\\nOriginal array1:\")\n",
    "print(y)\n",
    "print(\"\\nCovariance matrix of the said arrays:\\n\",np.cov(x, y))"
   ]
  },
  {
   "cell_type": "markdown",
   "metadata": {},
   "source": [
    "Q97. Write a NumPy program to compute the cross-correlation of two given arrays ?"
   ]
  },
  {
   "cell_type": "code",
   "execution_count": 21,
   "metadata": {},
   "outputs": [
    {
     "name": "stdout",
     "output_type": "stream",
     "text": [
      "\n",
      "Original array1:\n",
      "[0 1 3]\n",
      "\n",
      "Original array1:\n",
      "[2 4 5]\n",
      "\n",
      "Cross-correlation of the said arrays:\n",
      " [[2.33333333 2.16666667]\n",
      " [2.16666667 2.33333333]]\n"
     ]
    }
   ],
   "source": [
    "import numpy as np\n",
    "x = np.array([0, 1, 3])\n",
    "y = np.array([2, 4, 5])\n",
    "print(\"\\nOriginal array1:\")\n",
    "print(x)\n",
    "print(\"\\nOriginal array1:\")\n",
    "print(y)\n",
    "print(\"\\nCross-correlation of the said arrays:\\n\",np.cov(x, y))"
   ]
  },
  {
   "cell_type": "code",
   "execution_count": 22,
   "metadata": {},
   "outputs": [
    {
     "name": "stdout",
     "output_type": "stream",
     "text": [
      "Original array:\n",
      "[0, 1, 6, 1, 4, 1, 2, 2, 7]\n",
      "Number of occurrences of each value in array: \n",
      "[1 3 2 0 1 0 1 1]\n"
     ]
    }
   ],
   "source": [
    "import numpy as np\n",
    "array1 = [0, 1, 6, 1, 4, 1, 2, 2, 7] \n",
    "print(\"Original array:\")\n",
    "print(array1)\n",
    "print(\"Number of occurrences of each value in array: \")\n",
    "print(np.bincount(array1))\n"
   ]
  },
  {
   "cell_type": "markdown",
   "metadata": {},
   "source": [
    "Q100. Write a Numpy program to compute the histogram of nums against the bins?"
   ]
  },
  {
   "cell_type": "code",
   "execution_count": 24,
   "metadata": {},
   "outputs": [
    {
     "name": "stdout",
     "output_type": "stream",
     "text": [
      "nums:  [0.5 0.7 1.  1.2 1.3 2.1]\n",
      "bins:  [0 1 2 3]\n",
      "Result: (array([2, 3, 1], dtype=int64), array([0, 1, 2, 3]))\n"
     ]
    },
    {
     "data": {
      "image/png": "[encoded data removed]",
      "text/plain": [
       "<Figure size 432x288 with 1 Axes>"
      ]
     },
     "metadata": {
      "needs_background": "light"
     },
     "output_type": "display_data"
    }
   ],
   "source": [
    "import numpy as np\n",
    "import matplotlib.pyplot as plt\n",
    "nums = np.array([0.5, 0.7, 1.0, 1.2, 1.3, 2.1])\n",
    "bins = np.array([0, 1, 2, 3])\n",
    "print(\"nums: \",nums)\n",
    "print(\"bins: \",bins)\n",
    "print(\"Result:\", np.histogram(nums, bins))\n",
    "plt.hist(nums, bins=bins)\n",
    "plt.show()"
   ]
  },
  {
   "cell_type": "markdown",
   "metadata": {},
   "source": [
    "Q101. Write the Python program to add, subtract, multiply and divide two pandas series ?"
   ]
  },
  {
   "cell_type": "code",
   "execution_count": 25,
   "metadata": {},
   "outputs": [
    {
     "name": "stdout",
     "output_type": "stream",
     "text": [
      "Add two Series:\n",
      "0     3\n",
      "1     7\n",
      "2    11\n",
      "3    15\n",
      "4    19\n",
      "dtype: int64\n",
      "Subtract two Series:\n",
      "0    1\n",
      "1    1\n",
      "2    1\n",
      "3    1\n",
      "4    1\n",
      "dtype: int64\n",
      "Multiply two Series:\n",
      "0     2\n",
      "1    12\n",
      "2    30\n",
      "3    56\n",
      "4    90\n",
      "dtype: int64\n",
      "Divide Series1 by Series2:\n",
      "0    2.000000\n",
      "1    1.333333\n",
      "2    1.200000\n",
      "3    1.142857\n",
      "4    1.111111\n",
      "dtype: float64\n"
     ]
    }
   ],
   "source": [
    "import pandas as pd\n",
    "ds1 = pd.Series([2, 4, 6, 8, 10])\n",
    "ds2 = pd.Series([1, 3, 5, 7, 9])\n",
    "ds = ds1 + ds2\n",
    "print(\"Add two Series:\")\n",
    "print(ds)\n",
    "print(\"Subtract two Series:\")\n",
    "ds = ds1 - ds2\n",
    "print(ds)\n",
    "print(\"Multiply two Series:\")\n",
    "ds = ds1 * ds2\n",
    "print(ds)\n",
    "print(\"Divide Series1 by Series2:\")\n",
    "ds = ds1 / ds2\n",
    "print(ds)"
   ]
  },
  {
   "cell_type": "markdown",
   "metadata": {},
   "source": [
    "Q102. Write a Python program to convert a dictionary to the Pandas Series?"
   ]
  },
  {
   "cell_type": "code",
   "execution_count": 26,
   "metadata": {},
   "outputs": [
    {
     "name": "stdout",
     "output_type": "stream",
     "text": [
      "Original dictionary:\n",
      "{'a': 100, 'b': 200, 'c': 300, 'd': 400, 'e': 800}\n",
      "Converted series:\n",
      "a    100\n",
      "b    200\n",
      "c    300\n",
      "d    400\n",
      "e    800\n",
      "dtype: int64\n"
     ]
    }
   ],
   "source": [
    "import pandas as pd\n",
    "d1 = {'a': 100, 'b': 200, 'c':300, 'd':400, 'e':800}\n",
    "print(\"Original dictionary:\")\n",
    "print(d1)\n",
    "new_series = pd.Series(d1)\n",
    "print(\"Converted series:\")\n",
    "print(new_series)"
   ]
  },
  {
   "cell_type": "markdown",
   "metadata": {},
   "source": [
    "Q103. Write a python program to change the data type of given a column or a Series?"
   ]
  },
  {
   "cell_type": "code",
   "execution_count": 27,
   "metadata": {},
   "outputs": [
    {
     "name": "stdout",
     "output_type": "stream",
     "text": [
      "Original Data Series:\n",
      "0       100\n",
      "1       200\n",
      "2    python\n",
      "3    300.12\n",
      "4       400\n",
      "dtype: object\n",
      "Change the said data type to numeric:\n",
      "0    100.00\n",
      "1    200.00\n",
      "2       NaN\n",
      "3    300.12\n",
      "4    400.00\n",
      "dtype: float64\n"
     ]
    }
   ],
   "source": [
    "import pandas as pd\n",
    "s1 = pd.Series(['100', '200', 'python', '300.12', '400'])\n",
    "print(\"Original Data Series:\")\n",
    "print(s1)\n",
    "print(\"Change the said data type to numeric:\")\n",
    "s2 = pd.to_numeric(s1, errors='coerce')\n",
    "print(s2)"
   ]
  },
  {
   "cell_type": "markdown",
   "metadata": {},
   "source": [
    "Q104. Write the python pandas program to convert the first column of a DataFrame as a Series?"
   ]
  },
  {
   "cell_type": "code",
   "execution_count": 28,
   "metadata": {},
   "outputs": [
    {
     "name": "stdout",
     "output_type": "stream",
     "text": [
      "Original DataFrame\n",
      "   col1  col2  col3\n",
      "0     1     4     7\n",
      "1     2     5     5\n",
      "2     3     6     8\n",
      "3     4     9    12\n",
      "4     7     5     1\n",
      "5    11     0    11\n",
      "\n",
      "1st column as a Series:\n",
      "0     1\n",
      "1     2\n",
      "2     3\n",
      "3     4\n",
      "4     7\n",
      "5    11\n",
      "Name: col1, dtype: int64\n",
      "<class 'pandas.core.series.Series'>\n"
     ]
    },
    {
     "name": "stderr",
     "output_type": "stream",
     "text": [
      "C:\\Users\\Admin\\Anaconda3\\lib\\site-packages\\ipykernel_launcher.py:6: DeprecationWarning: \n",
      ".ix is deprecated. Please use\n",
      ".loc for label based indexing or\n",
      ".iloc for positional indexing\n",
      "\n",
      "See the documentation here:\n",
      "http://pandas.pydata.org/pandas-docs/stable/indexing.html#ix-indexer-is-deprecated\n",
      "  \n"
     ]
    }
   ],
   "source": [
    "import pandas as pd\n",
    "d = {'col1': [1, 2, 3, 4, 7, 11], 'col2': [4, 5, 6, 9, 5, 0], 'col3': [7, 5, 8, 12, 1,11]}\n",
    "df = pd.DataFrame(data=d)\n",
    "print(\"Original DataFrame\")\n",
    "print(df)\n",
    "s1 = df.ix[:,0]\n",
    "print(\"\\n1st column as a Series:\")\n",
    "print(s1)\n",
    "print(type(s1))"
   ]
  },
  {
   "cell_type": "markdown",
   "metadata": {},
   "source": [
    "Q105. Write a pandas program to create the mean and standard deviation of the data of a given Series?"
   ]
  },
  {
   "cell_type": "code",
   "execution_count": 29,
   "metadata": {},
   "outputs": [
    {
     "name": "stdout",
     "output_type": "stream",
     "text": [
      "Original Data Series:\n",
      "0     1\n",
      "1     2\n",
      "2     3\n",
      "3     4\n",
      "4     5\n",
      "5     6\n",
      "6     7\n",
      "7     8\n",
      "8     9\n",
      "9     5\n",
      "10    3\n",
      "dtype: int64\n",
      "Mean of the said Data Series:\n",
      "4.818181818181818\n",
      "Standard deviation of the said Data Series:\n",
      "2.522624895547565\n"
     ]
    }
   ],
   "source": [
    "import pandas as pd\n",
    "s = pd.Series(data = [1,2,3,4,5,6,7,8,9,5,3])\n",
    "print(\"Original Data Series:\")\n",
    "print(s)\n",
    "print(\"Mean of the said Data Series:\")\n",
    "print(s.mean())\n",
    "print(\"Standard deviation of the said Data Series:\")\n",
    "print(s.std())"
   ]
  },
  {
   "cell_type": "markdown",
   "metadata": {},
   "source": [
    "Q106. Write a pandas program to get powers of an array values element-wise?"
   ]
  },
  {
   "cell_type": "code",
   "execution_count": 30,
   "metadata": {},
   "outputs": [
    {
     "name": "stdout",
     "output_type": "stream",
     "text": [
      "    X   Y   Z\n",
      "0  78  84  86\n",
      "1  85  94  97\n",
      "2  96  89  96\n",
      "3  80  83  72\n",
      "4  86  86  83\n"
     ]
    }
   ],
   "source": [
    "import pandas as pd\n",
    "df = pd.DataFrame({'X':[78,85,96,80,86], 'Y':[84,94,89,83,86],'Z':[86,97,96,72,83]});\n",
    "print(df)"
   ]
  },
  {
   "cell_type": "markdown",
   "metadata": {},
   "source": [
    "Q107. Write the pandas program to get the first 3 rows of a given DataFrame?"
   ]
  },
  {
   "cell_type": "code",
   "execution_count": 31,
   "metadata": {},
   "outputs": [
    {
     "name": "stdout",
     "output_type": "stream",
     "text": [
      "First three rows of the data frame:\n",
      "        name  score  attempts qualify\n",
      "a  Anastasia   12.5         1     yes\n",
      "b       Dima    9.0         3      no\n",
      "c  Katherine   16.5         2     yes\n"
     ]
    }
   ],
   "source": [
    "import pandas as pd\n",
    "import numpy as np\n",
    "\n",
    "exam_data  = {'name': ['Anastasia', 'Dima', 'Katherine', 'James', 'Emily', 'Michael', 'Matthew', 'Laura', 'Kevin', 'Jonas'],\n",
    "        'score': [12.5, 9, 16.5, np.nan, 9, 20, 14.5, np.nan, 8, 19],\n",
    "        'attempts': [1, 3, 2, 3, 2, 3, 1, 1, 2, 1],\n",
    "        'qualify': ['yes', 'no', 'yes', 'no', 'no', 'yes', 'yes', 'no', 'no', 'yes']}\n",
    "labels = ['a', 'b', 'c', 'd', 'e', 'f', 'g', 'h', 'i', 'j']\n",
    "\n",
    "df = pd.DataFrame(exam_data , index=labels)\n",
    "print(\"First three rows of the data frame:\")\n",
    "print(df.iloc[:3])"
   ]
  },
  {
   "cell_type": "markdown",
   "metadata": {},
   "source": [
    "Q108: Write the pandas program to select the specified columns and the rows from a given data frame?"
   ]
  },
  {
   "cell_type": "code",
   "execution_count": 32,
   "metadata": {},
   "outputs": [
    {
     "name": "stdout",
     "output_type": "stream",
     "text": [
      "Select specific columns and rows:\n",
      "   score qualify\n",
      "b    9.0      no\n",
      "d    NaN      no\n",
      "f   20.0     yes\n",
      "g   14.5     yes\n"
     ]
    }
   ],
   "source": [
    "import pandas as pd\n",
    "import numpy as np\n",
    "\n",
    "exam_data  = {'name': ['Anastasia', 'Dima', 'Katherine', 'James', 'Emily', 'Michael', 'Matthew', 'Laura', 'Kevin', 'Jonas'],\n",
    "        'score': [12.5, 9, 16.5, np.nan, 9, 20, 14.5, np.nan, 8, 19],\n",
    "        'attempts': [1, 3, 2, 3, 2, 3, 1, 1, 2, 1],\n",
    "        'qualify': ['yes', 'no', 'yes', 'no', 'no', 'yes', 'yes', 'no', 'no', 'yes']}\n",
    "labels = ['a', 'b', 'c', 'd', 'e', 'f', 'g', 'h', 'i', 'j']\n",
    "\n",
    "df = pd.DataFrame(exam_data , index=labels)\n",
    "print(\"Select specific columns and rows:\")\n",
    "print(df.iloc[[1, 3, 5, 6], [1, 3]])"
   ]
  },
  {
   "cell_type": "markdown",
   "metadata": {},
   "source": [
    "Q109. Write the pandas program to calculate mean score for each different student in DataFrame?"
   ]
  },
  {
   "cell_type": "code",
   "execution_count": 33,
   "metadata": {},
   "outputs": [
    {
     "name": "stdout",
     "output_type": "stream",
     "text": [
      "\n",
      "Mean score for each different student in data frame:\n",
      "13.5625\n"
     ]
    }
   ],
   "source": [
    "import pandas as pd\n",
    "import numpy as np\n",
    "exam_data  = {'name': ['Anastasia', 'Dima', 'Katherine', 'James', 'Emily', 'Michael', 'Matthew', 'Laura', 'Kevin', 'Jonas'],\n",
    "        'score': [12.5, 9, 16.5, np.nan, 9, 20, 14.5, np.nan, 8, 19],\n",
    "        'attempts': [1, 3, 2, 3, 2, 3, 1, 1, 2, 1],\n",
    "        'qualify': ['yes', 'no', 'yes', 'no', 'no', 'yes', 'yes', 'no', 'no', 'yes']}\n",
    "labels = ['a', 'b', 'c', 'd', 'e', 'f', 'g', 'h', 'i', 'j']\n",
    "\n",
    "df = pd.DataFrame(exam_data , index=labels)\n",
    "print(\"\\nMean score for each different student in data frame:\")\n",
    "print(df['score'].mean())"
   ]
  },
  {
   "cell_type": "markdown",
   "metadata": {},
   "source": [
    "Q110. Write the Pandas program to rename columns of a given DataFrame ?"
   ]
  },
  {
   "cell_type": "code",
   "execution_count": 34,
   "metadata": {},
   "outputs": [
    {
     "name": "stdout",
     "output_type": "stream",
     "text": [
      "Original DataFrame\n",
      "   col1  col2  col3\n",
      "0     1     4     7\n",
      "1     2     5     8\n",
      "2     3     6     9\n",
      "New DataFrame after renaming columns:\n",
      "   Column1  Column2  Column3\n",
      "0        1        4        7\n",
      "1        2        5        8\n",
      "2        3        6        9\n"
     ]
    }
   ],
   "source": [
    "import pandas as pd\n",
    "d = {'col1': [1, 2, 3], 'col2': [4, 5, 6], 'col3': [7, 8, 9]}\n",
    "df = pd.DataFrame(data=d)\n",
    "print(\"Original DataFrame\")\n",
    "print(df)\n",
    "df.columns = ['Column1', 'Column2', 'Column3']\n",
    "df = df.rename(columns={'col1': 'Column1', 'col2': 'Column2', 'col3': 'Column3'})\n",
    "print(\"New DataFrame after renaming columns:\")\n",
    "print(df)"
   ]
  },
  {
   "cell_type": "markdown",
   "metadata": {},
   "source": [
    "Q111. Write a pandas program to count city-wise number of people from a given of data set (city, name of the person)?"
   ]
  },
  {
   "cell_type": "code",
   "execution_count": 35,
   "metadata": {},
   "outputs": [
    {
     "name": "stdout",
     "output_type": "stream",
     "text": [
      "          city  Number of people\n",
      "0   California                 4\n",
      "1      Georgia                 2\n",
      "2  Los Angeles                 4\n"
     ]
    }
   ],
   "source": [
    "import pandas as pd\n",
    "df1 = pd.DataFrame({'name': ['Anastasia', 'Dima', 'Katherine', 'James', 'Emily', 'Michael', 'Matthew', 'Laura', 'Kevin', 'Jonas'],\n",
    "'city': ['California', 'Los Angeles', 'California', 'California', 'California', 'Los Angeles', 'Los Angeles', 'Georgia', 'Georgia', 'Los Angeles']})\n",
    "g1 = df1.groupby([\"city\"]).size().reset_index(name='Number of people')\n",
    "print(g1)"
   ]
  },
  {
   "cell_type": "markdown",
   "metadata": {},
   "source": [
    "Q112. Write a pandas program to widen output display to see more columns?"
   ]
  },
  {
   "cell_type": "code",
   "execution_count": 36,
   "metadata": {},
   "outputs": [
    {
     "name": "stdout",
     "output_type": "stream",
     "text": [
      "Original DataFrame\n",
      "   col1  col2  col3\n",
      "0     1     4     7\n",
      "1     4     5     8\n",
      "2     3     6     9\n",
      "3     4     7     0\n",
      "4     5     8     1\n"
     ]
    }
   ],
   "source": [
    "import pandas as pd\n",
    "import numpy as np\n",
    "d = {'col1': [1, 4, 3, 4, 5], 'col2': [4, 5, 6, 7, 8], 'col3': [7, 8, 9, 0, 1]}\n",
    "df = pd.DataFrame(data=d)\n",
    "pd.set_option('display.max_rows', 500)\n",
    "pd.set_option('display.max_columns', 500)\n",
    "pd.set_option('display.width', 1000)\n",
    "print(\"Original DataFrame\")\n",
    "print(df)"
   ]
  },
  {
   "cell_type": "markdown",
   "metadata": {},
   "source": [
    "Q113. Write a pandas program to convert the data frame column type from string to DateTime?"
   ]
  },
  {
   "cell_type": "code",
   "execution_count": 37,
   "metadata": {},
   "outputs": [
    {
     "name": "stdout",
     "output_type": "stream",
     "text": [
      "String Date:\n",
      "0    3/11/2000\n",
      "1    3/12/2000\n",
      "2    3/13/2000\n",
      "dtype: object\n",
      "Original DataFrame (string to datetime):\n",
      "           0\n",
      "0 2000-03-11\n",
      "1 2000-03-12\n",
      "2 2000-03-13\n"
     ]
    }
   ],
   "source": [
    "import pandas as pd\n",
    "import numpy as np\n",
    "s = pd.Series(['3/11/2000', '3/12/2000', '3/13/2000'])\n",
    "print(\"String Date:\")\n",
    "print(s)\n",
    "r = pd.to_datetime(pd.Series(s))\n",
    "df = pd.DataFrame(r)\n",
    "print(\"Original DataFrame (string to datetime):\")\n",
    "print(df)"
   ]
  },
  {
   "cell_type": "markdown",
   "metadata": {},
   "source": [
    "Q114. Write a pandas program to append the data to an empty DataFrame?"
   ]
  },
  {
   "cell_type": "code",
   "execution_count": 38,
   "metadata": {},
   "outputs": [
    {
     "name": "stdout",
     "output_type": "stream",
     "text": [
      "After appending some data:\n",
      "   col1  col2\n",
      "0     0     0\n",
      "1     1     1\n",
      "2     2     2\n"
     ]
    }
   ],
   "source": [
    "import pandas as pd\n",
    "import numpy as np\n",
    "df = pd.DataFrame()\n",
    "data = pd.DataFrame({\"col1\": range(3),\"col2\": range(3)})\n",
    "print(\"After appending some data:\")\n",
    "df = df.append(data)\n",
    "print(df)"
   ]
  },
  {
   "cell_type": "markdown",
   "metadata": {},
   "source": [
    "Q115. Write a pandas program to count the number of columns of a DataFrame?"
   ]
  },
  {
   "cell_type": "code",
   "execution_count": 39,
   "metadata": {},
   "outputs": [
    {
     "name": "stdout",
     "output_type": "stream",
     "text": [
      "Original DataFrame\n",
      "   col1  col2  col3\n",
      "0     1     4     7\n",
      "1     2     5     8\n",
      "2     3     6    12\n",
      "3     4     9     1\n",
      "4     7     5    11\n",
      "\n",
      "Number of columns:\n",
      "3\n"
     ]
    }
   ],
   "source": [
    "import pandas as pd\n",
    "d = {'col1': [1, 2, 3, 4, 7], 'col2': [4, 5, 6, 9, 5], 'col3': [7, 8, 12, 1, 11]}\n",
    "df = pd.DataFrame(data=d)\n",
    "print(\"Original DataFrame\")\n",
    "print(df)\n",
    "print(\"\\nNumber of columns:\")\n",
    "print(len(df.columns))"
   ]
  },
  {
   "cell_type": "markdown",
   "metadata": {},
   "source": [
    "Q116. Write a Pandas program to remove the last n rows of a given DataFrame ?"
   ]
  },
  {
   "cell_type": "code",
   "execution_count": 40,
   "metadata": {},
   "outputs": [
    {
     "name": "stdout",
     "output_type": "stream",
     "text": [
      "Original DataFrame\n",
      "   col1  col2  col3\n",
      "0     1     4     7\n",
      "1     2     5     5\n",
      "2     3     6     8\n",
      "3     4     9    12\n",
      "4     7     5     1\n",
      "5    11     0    11\n",
      "\n",
      "After removing last 3 rows of the said DataFrame:\n",
      "   col1  col2  col3\n",
      "0     1     4     7\n",
      "1     2     5     5\n",
      "2     3     6     8\n"
     ]
    }
   ],
   "source": [
    "import pandas as pd\n",
    "d = {'col1': [1, 2, 3, 4, 7, 11], 'col2': [4, 5, 6, 9, 5, 0], 'col3': [7, 5, 8, 12, 1,11]}\n",
    "df = pd.DataFrame(data=d)\n",
    "print(\"Original DataFrame\")\n",
    "print(df)\n",
    "print(\"\\nAfter removing last 3 rows of the said DataFrame:\")\n",
    "df1 = df.iloc[:3]\n",
    "print(df1)"
   ]
  },
  {
   "cell_type": "markdown",
   "metadata": {},
   "source": [
    "Q117. Write a Pandas program to import excel data (coalpublic2013.xlsx ) into a Pandas data frame"
   ]
  },
  {
   "cell_type": "code",
   "execution_count": 41,
   "metadata": {},
   "outputs": [
    {
     "data": {
      "text/html": [
       "<div>\n",
       "<style scoped>\n",
       "    .dataframe tbody tr th:only-of-type {\n",
       "        vertical-align: middle;\n",
       "    }\n",
       "\n",
       "    .dataframe tbody tr th {\n",
       "        vertical-align: top;\n",
       "    }\n",
       "\n",
       "    .dataframe thead th {\n",
       "        text-align: right;\n",
       "    }\n",
       "</style>\n",
       "<table border=\"1\" class=\"dataframe\">\n",
       "  <thead>\n",
       "    <tr style=\"text-align: right;\">\n",
       "      <th></th>\n",
       "      <th>Year</th>\n",
       "      <th>MSHA ID</th>\n",
       "      <th>Mine_Name</th>\n",
       "      <th>Production</th>\n",
       "      <th>Labor_Hours</th>\n",
       "    </tr>\n",
       "  </thead>\n",
       "  <tbody>\n",
       "    <tr>\n",
       "      <th>40</th>\n",
       "      <td>2013</td>\n",
       "      <td>103372</td>\n",
       "      <td>Cane Creek Mine</td>\n",
       "      <td>66258</td>\n",
       "      <td>32401</td>\n",
       "    </tr>\n",
       "    <tr>\n",
       "      <th>41</th>\n",
       "      <td>2013</td>\n",
       "      <td>103376</td>\n",
       "      <td>Town Creek</td>\n",
       "      <td>299167</td>\n",
       "      <td>176499</td>\n",
       "    </tr>\n",
       "    <tr>\n",
       "      <th>42</th>\n",
       "      <td>2013</td>\n",
       "      <td>103389</td>\n",
       "      <td>Carbon Hill Mine</td>\n",
       "      <td>76241</td>\n",
       "      <td>84966</td>\n",
       "    </tr>\n",
       "    <tr>\n",
       "      <th>43</th>\n",
       "      <td>2013</td>\n",
       "      <td>103410</td>\n",
       "      <td>Coal Valley Mine</td>\n",
       "      <td>407841</td>\n",
       "      <td>158591</td>\n",
       "    </tr>\n",
       "    <tr>\n",
       "      <th>44</th>\n",
       "      <td>2013</td>\n",
       "      <td>103423</td>\n",
       "      <td>Dutton Hill Mine</td>\n",
       "      <td>37275</td>\n",
       "      <td>9162</td>\n",
       "    </tr>\n",
       "    <tr>\n",
       "      <th>45</th>\n",
       "      <td>2013</td>\n",
       "      <td>1519322</td>\n",
       "      <td>Ghm #25</td>\n",
       "      <td>25054</td>\n",
       "      <td>3108</td>\n",
       "    </tr>\n",
       "    <tr>\n",
       "      <th>46</th>\n",
       "      <td>2013</td>\n",
       "      <td>103321</td>\n",
       "      <td>Poplar Springs</td>\n",
       "      <td>189370</td>\n",
       "      <td>76366</td>\n",
       "    </tr>\n",
       "    <tr>\n",
       "      <th>47</th>\n",
       "      <td>2013</td>\n",
       "      <td>103358</td>\n",
       "      <td>Old Union</td>\n",
       "      <td>284563</td>\n",
       "      <td>161805</td>\n",
       "    </tr>\n",
       "    <tr>\n",
       "      <th>48</th>\n",
       "      <td>2013</td>\n",
       "      <td>5000030</td>\n",
       "      <td>Usibelli</td>\n",
       "      <td>1631584</td>\n",
       "      <td>286079</td>\n",
       "    </tr>\n",
       "    <tr>\n",
       "      <th>49</th>\n",
       "      <td>2013</td>\n",
       "      <td>201195</td>\n",
       "      <td>Kayenta Mine</td>\n",
       "      <td>7602722</td>\n",
       "      <td>1015333</td>\n",
       "    </tr>\n",
       "  </tbody>\n",
       "</table>\n",
       "</div>"
      ],
      "text/plain": [
       "    Year  MSHA ID         Mine_Name  Production  Labor_Hours\n",
       "40  2013   103372   Cane Creek Mine       66258        32401\n",
       "41  2013   103376        Town Creek      299167       176499\n",
       "42  2013   103389  Carbon Hill Mine       76241        84966\n",
       "43  2013   103410  Coal Valley Mine      407841       158591\n",
       "44  2013   103423  Dutton Hill Mine       37275         9162\n",
       "45  2013  1519322           Ghm #25       25054         3108\n",
       "46  2013   103321    Poplar Springs      189370        76366\n",
       "47  2013   103358         Old Union      284563       161805\n",
       "48  2013  5000030          Usibelli     1631584       286079\n",
       "49  2013   201195      Kayenta Mine     7602722      1015333"
      ]
     },
     "execution_count": 41,
     "metadata": {},
     "output_type": "execute_result"
    }
   ],
   "source": [
    "import pandas as pd\n",
    "import numpy as np\n",
    "df = pd.read_excel(r'E:\\coalpublic2013.xlsx')\n",
    "df.tail(n=10)"
   ]
  },
  {
   "cell_type": "markdown",
   "metadata": {},
   "source": [
    "Q118. Write a Pandas program to import excel data (coalpublic2013.xlsx ) into a data frame and find details where \"Mine Name\" starts with \"P."
   ]
  },
  {
   "cell_type": "code",
   "execution_count": 44,
   "metadata": {},
   "outputs": [
    {
     "data": {
      "text/html": [
       "<div>\n",
       "<style scoped>\n",
       "    .dataframe tbody tr th:only-of-type {\n",
       "        vertical-align: middle;\n",
       "    }\n",
       "\n",
       "    .dataframe tbody tr th {\n",
       "        vertical-align: top;\n",
       "    }\n",
       "\n",
       "    .dataframe thead th {\n",
       "        text-align: right;\n",
       "    }\n",
       "</style>\n",
       "<table border=\"1\" class=\"dataframe\">\n",
       "  <thead>\n",
       "    <tr style=\"text-align: right;\">\n",
       "      <th></th>\n",
       "      <th>Year</th>\n",
       "      <th>MSHA ID</th>\n",
       "      <th>Mine_Name</th>\n",
       "      <th>Production</th>\n",
       "      <th>Labor_Hours</th>\n",
       "    </tr>\n",
       "  </thead>\n",
       "  <tbody>\n",
       "    <tr>\n",
       "      <th>13</th>\n",
       "      <td>2013</td>\n",
       "      <td>103332</td>\n",
       "      <td>Powhatan Mine</td>\n",
       "      <td>140521</td>\n",
       "      <td>61394</td>\n",
       "    </tr>\n",
       "    <tr>\n",
       "      <th>18</th>\n",
       "      <td>2013</td>\n",
       "      <td>102976</td>\n",
       "      <td>Piney Woods Preparation Plant</td>\n",
       "      <td>0</td>\n",
       "      <td>14828</td>\n",
       "    </tr>\n",
       "    <tr>\n",
       "      <th>19</th>\n",
       "      <td>2013</td>\n",
       "      <td>102976</td>\n",
       "      <td>Piney Woods Preparation Plant</td>\n",
       "      <td>0</td>\n",
       "      <td>23193</td>\n",
       "    </tr>\n",
       "    <tr>\n",
       "      <th>46</th>\n",
       "      <td>2013</td>\n",
       "      <td>103321</td>\n",
       "      <td>Poplar Springs</td>\n",
       "      <td>189370</td>\n",
       "      <td>76366</td>\n",
       "    </tr>\n",
       "  </tbody>\n",
       "</table>\n",
       "</div>"
      ],
      "text/plain": [
       "    Year  MSHA ID                      Mine_Name  Production  Labor_Hours\n",
       "13  2013   103332                  Powhatan Mine      140521        61394\n",
       "18  2013   102976  Piney Woods Preparation Plant           0        14828\n",
       "19  2013   102976  Piney Woods Preparation Plant           0        23193\n",
       "46  2013   103321                 Poplar Springs      189370        76366"
      ]
     },
     "execution_count": 44,
     "metadata": {},
     "output_type": "execute_result"
    }
   ],
   "source": [
    "import pandas as pd\n",
    "import numpy as np\n",
    "df = pd.read_excel(r'C:\\Users\\Admin\\Desktop\\coalpublic2013.xlsx')\n",
    "df[df[\"Mine_Name\"].map(lambda x: x.startswith('P'))].head()"
   ]
  },
  {
   "cell_type": "markdown",
   "metadata": {},
   "source": [
    "Q119. Write a Pandas program to import excel data (employee.xlsx ) into a Pandas dataframe and find the list of employees where hire_date> 01-01-07."
   ]
  },
  {
   "cell_type": "code",
   "execution_count": 45,
   "metadata": {},
   "outputs": [
    {
     "data": {
      "text/html": [
       "<div>\n",
       "<style scoped>\n",
       "    .dataframe tbody tr th:only-of-type {\n",
       "        vertical-align: middle;\n",
       "    }\n",
       "\n",
       "    .dataframe tbody tr th {\n",
       "        vertical-align: top;\n",
       "    }\n",
       "\n",
       "    .dataframe thead th {\n",
       "        text-align: right;\n",
       "    }\n",
       "</style>\n",
       "<table border=\"1\" class=\"dataframe\">\n",
       "  <thead>\n",
       "    <tr style=\"text-align: right;\">\n",
       "      <th></th>\n",
       "      <th>emp_id</th>\n",
       "      <th>first_name</th>\n",
       "      <th>last_name</th>\n",
       "      <th>hire_date</th>\n",
       "    </tr>\n",
       "  </thead>\n",
       "  <tbody>\n",
       "    <tr>\n",
       "      <th>4</th>\n",
       "      <td>104</td>\n",
       "      <td>Bruce</td>\n",
       "      <td>Ernst</td>\n",
       "      <td>2007-05-21</td>\n",
       "    </tr>\n",
       "    <tr>\n",
       "      <th>7</th>\n",
       "      <td>107</td>\n",
       "      <td>Diana</td>\n",
       "      <td>Lorentz</td>\n",
       "      <td>2007-02-07</td>\n",
       "    </tr>\n",
       "    <tr>\n",
       "      <th>13</th>\n",
       "      <td>113</td>\n",
       "      <td>Luis</td>\n",
       "      <td>Popp</td>\n",
       "      <td>2007-12-07</td>\n",
       "    </tr>\n",
       "    <tr>\n",
       "      <th>19</th>\n",
       "      <td>119</td>\n",
       "      <td>Karen</td>\n",
       "      <td>Colmenares</td>\n",
       "      <td>2007-08-10</td>\n",
       "    </tr>\n",
       "  </tbody>\n",
       "</table>\n",
       "</div>"
      ],
      "text/plain": [
       "    emp_id first_name   last_name  hire_date\n",
       "4      104      Bruce       Ernst 2007-05-21\n",
       "7      107      Diana     Lorentz 2007-02-07\n",
       "13     113       Luis        Popp 2007-12-07\n",
       "19     119      Karen  Colmenares 2007-08-10"
      ]
     },
     "execution_count": 45,
     "metadata": {},
     "output_type": "execute_result"
    }
   ],
   "source": [
    "import pandas as pd\n",
    "import numpy as np\n",
    "df = pd.read_excel(r'C:\\Users\\Admin\\Desktop\\employee.xlsx')\n",
    "df[df['hire_date'] >='20070101']"
   ]
  },
  {
   "cell_type": "markdown",
   "metadata": {},
   "source": [
    "Q120. Write a Pandas program to import excel data (employee.xlsx ) into a Pandas dataframe and find a list of the employees of a specified year"
   ]
  },
  {
   "cell_type": "code",
   "execution_count": 46,
   "metadata": {},
   "outputs": [
    {
     "data": {
      "text/html": [
       "<div>\n",
       "<style scoped>\n",
       "    .dataframe tbody tr th:only-of-type {\n",
       "        vertical-align: middle;\n",
       "    }\n",
       "\n",
       "    .dataframe tbody tr th {\n",
       "        vertical-align: top;\n",
       "    }\n",
       "\n",
       "    .dataframe thead th {\n",
       "        text-align: right;\n",
       "    }\n",
       "</style>\n",
       "<table border=\"1\" class=\"dataframe\">\n",
       "  <thead>\n",
       "    <tr style=\"text-align: right;\">\n",
       "      <th></th>\n",
       "      <th>emp_id</th>\n",
       "      <th>first_name</th>\n",
       "      <th>last_name</th>\n",
       "    </tr>\n",
       "    <tr>\n",
       "      <th>hire_date</th>\n",
       "      <th></th>\n",
       "      <th></th>\n",
       "      <th></th>\n",
       "    </tr>\n",
       "  </thead>\n",
       "  <tbody>\n",
       "    <tr>\n",
       "      <th>2005-09-21</th>\n",
       "      <td>101</td>\n",
       "      <td>Neena</td>\n",
       "      <td>Kochhar</td>\n",
       "    </tr>\n",
       "    <tr>\n",
       "      <th>2005-06-25</th>\n",
       "      <td>105</td>\n",
       "      <td>David</td>\n",
       "      <td>Austin</td>\n",
       "    </tr>\n",
       "    <tr>\n",
       "      <th>2005-09-28</th>\n",
       "      <td>110</td>\n",
       "      <td>John</td>\n",
       "      <td>Chen</td>\n",
       "    </tr>\n",
       "    <tr>\n",
       "      <th>2005-09-30</th>\n",
       "      <td>111</td>\n",
       "      <td>Ismael</td>\n",
       "      <td>Sciarra</td>\n",
       "    </tr>\n",
       "    <tr>\n",
       "      <th>2005-12-24</th>\n",
       "      <td>116</td>\n",
       "      <td>Shelli</td>\n",
       "      <td>Baida</td>\n",
       "    </tr>\n",
       "    <tr>\n",
       "      <th>2005-07-24</th>\n",
       "      <td>117</td>\n",
       "      <td>Sigal</td>\n",
       "      <td>Tobias</td>\n",
       "    </tr>\n",
       "  </tbody>\n",
       "</table>\n",
       "</div>"
      ],
      "text/plain": [
       "            emp_id first_name last_name\n",
       "hire_date                              \n",
       "2005-09-21     101      Neena   Kochhar\n",
       "2005-06-25     105      David    Austin\n",
       "2005-09-28     110       John      Chen\n",
       "2005-09-30     111     Ismael   Sciarra\n",
       "2005-12-24     116     Shelli     Baida\n",
       "2005-07-24     117      Sigal    Tobias"
      ]
     },
     "execution_count": 46,
     "metadata": {},
     "output_type": "execute_result"
    }
   ],
   "source": [
    "import pandas as pd\n",
    "import numpy as np\n",
    "df = pd.read_excel(r'C:\\Users\\Admin\\Desktop\\employee.xlsx')\n",
    "df2 = df.set_index(['hire_date'])\n",
    "result = df2[\"2005\"]\n",
    "result"
   ]
  },
  {
   "cell_type": "markdown",
   "metadata": {},
   "source": [
    "Q121. Write a pandas program to import three datasheets from a given excel data (coalpublic2013.xlsx ) in to a single dataframe"
   ]
  },
  {
   "cell_type": "code",
   "execution_count": 47,
   "metadata": {},
   "outputs": [
    {
     "name": "stdout",
     "output_type": "stream",
     "text": [
      "    Year  MSHA ID                       Mine_Name  Production  Labor_Hours\n",
      "0   2013   103381            Tacoa Highwall Miner       56004        22392\n",
      "1   2013   103404                Reid School Mine       28807         8447\n",
      "2   2013   100759  North River #1 Underground Min     1440115       474784\n",
      "3   2013   103246                      Bear Creek       87587        29193\n",
      "4   2013   103451                     Knight Mine      147499        46393\n",
      "5   2013   103433              Crane Central Mine       69339        47195\n",
      "6   2013   100329                    Concord Mine           0       144002\n",
      "7   2013   100851                  Oak Grove Mine     2269014      1001809\n",
      "8   2013   102901                Shoal Creek Mine           0        12396\n",
      "9   2013   102901                Shoal Creek Mine     1453024      1237415\n",
      "10  2013   103180             Sloan Mountain Mine      327780       196963\n",
      "11  2013   103182                        Fishtrap      175058        87314\n",
      "12  2013   103285                     Narley Mine      154861        90584\n",
      "13  2013   103332                   Powhatan Mine      140521        61394\n",
      "14  2013   103375                    Johnson Mine         580         1900\n",
      "15  2013   103419               Maxine-Pratt Mine      125824       107469\n",
      "16  2013   103432                   Skelton Creek        8252          220\n",
      "17  2013   103437           Black Warrior Mine No     1145924        70926\n",
      "18  2013   102976   Piney Woods Preparation Plant           0        14828\n",
      "19  2013   102976   Piney Woods Preparation Plant           0        23193\n",
      "20  2013   103380                          Calera           0        12621\n",
      "21  2013   103380                          Calera           0         1402\n",
      "22  2013   103422                 Clark No 1 Mine      122727       140250\n",
      "23  2013   103467             Helena Surface Mine       59664        30539\n",
      "24  2013   101247                       No 4 Mine     2622528      1551141\n",
      "25  2013   101401                       No 7 Mine     5405412      2464719\n",
      "26  2013   103172   Searles Mine No.2, 3, 4, 5, 6      258078       119542\n",
      "27  2013   103179             Fleetwood Mine No 1       75937        63745\n",
      "28  2013   103303                    Shannon Mine      317491       164388\n",
      "29  2013   103323                   Deerlick Mine      133452        46381\n",
      "30  2013   103364           Brc Alabama No. 7 Llc           0        14324\n",
      "31  2013   103436                Swann's Crossing      137511        77190\n",
      "32  2013   100347                    Choctaw Mine      537429       215295\n",
      "33  2013   101362                 Manchester Mine      219457       116914\n",
      "34  2013   102996                  Jap Creek Mine      375715       164093\n",
      "35  2013   103155              Corinth Prep Plant           0        27996\n",
      "36  2013   103155              Corinth Prep Plant           0        51994\n",
      "37  2013   103195     Mccollum/Sparks Branch Mine       71910        17411\n",
      "38  2013   103342             Reese's Branch Mine      263888       115123\n",
      "39  2013   103370             Cresent Valley Mine        2860          621\n",
      "40  2013   103372                 Cane Creek Mine       66258        32401\n",
      "41  2013   103376                      Town Creek      299167       176499\n",
      "42  2013   103389                Carbon Hill Mine       76241        84966\n",
      "43  2013   103410                Coal Valley Mine      407841       158591\n",
      "44  2013   103423                Dutton Hill Mine       37275         9162\n",
      "45  2013  1519322                         Ghm #25       25054         3108\n",
      "46  2013   103321                  Poplar Springs      189370        76366\n",
      "47  2013   103358                       Old Union      284563       161805\n",
      "48  2013  5000030                        Usibelli     1631584       286079\n",
      "49  2013   201195                    Kayenta Mine     7602722      1015333\n",
      "0   2013   103381            Tacoa Highwall Miner       56004        22392\n",
      "1   2013   103404                Reid School Mine       28807         8447\n",
      "2   2013   100759  North River #1 Underground Min     1440115       474784\n",
      "3   2013   103246                      Bear Creek       87587        29193\n",
      "4   2013   103451                     Knight Mine      147499        46393\n",
      "5   2013   103433              Crane Central Mine       69339        47195\n",
      "6   2013   100329                    Concord Mine           0       144002\n",
      "7   2013   100851                  Oak Grove Mine     2269014      1001809\n",
      "8   2013   102901                Shoal Creek Mine           0        12396\n",
      "9   2013   102901                Shoal Creek Mine     1453024      1237415\n",
      "10  2013   103180             Sloan Mountain Mine      327780       196963\n",
      "11  2013   103182                        Fishtrap      175058        87314\n",
      "12  2013   103285                     Narley Mine      154861        90584\n",
      "13  2013   103332                   Powhatan Mine      140521        61394\n",
      "14  2013   103375                    Johnson Mine         580         1900\n",
      "15  2013   103419               Maxine-Pratt Mine      125824       107469\n",
      "16  2013   103432                   Skelton Creek        8252          220\n",
      "17  2013   103437           Black Warrior Mine No     1145924        70926\n",
      "18  2013   102976   Piney Woods Preparation Plant           0        14828\n",
      "19  2013   102976   Piney Woods Preparation Plant           0        23193\n",
      "20  2013   103380                          Calera           0        12621\n",
      "21  2013   103380                          Calera           0         1402\n",
      "22  2013   103422                 Clark No 1 Mine      122727       140250\n",
      "23  2013   103467             Helena Surface Mine       59664        30539\n",
      "24  2013   101247                       No 4 Mine     2622528      1551141\n",
      "25  2013   101401                       No 7 Mine     5405412      2464719\n",
      "26  2013   103172   Searles Mine No.2, 3, 4, 5, 6      258078       119542\n",
      "27  2013   103179             Fleetwood Mine No 1       75937        63745\n",
      "28  2013   103303                    Shannon Mine      317491       164388\n",
      "29  2013   103323                   Deerlick Mine      133452        46381\n",
      "30  2013   103364           Brc Alabama No. 7 Llc           0        14324\n",
      "31  2013   103436                Swann's Crossing      137511        77190\n",
      "32  2013   100347                    Choctaw Mine      537429       215295\n",
      "33  2013   101362                 Manchester Mine      219457       116914\n",
      "34  2013   102996                  Jap Creek Mine      375715       164093\n",
      "35  2013   103155              Corinth Prep Plant           0        27996\n",
      "36  2013   103155              Corinth Prep Plant           0        51994\n",
      "37  2013   103195     Mccollum/Sparks Branch Mine       71910        17411\n",
      "38  2013   103342             Reese's Branch Mine      263888       115123\n",
      "39  2013   103370             Cresent Valley Mine        2860          621\n",
      "40  2013   103372                 Cane Creek Mine       66258        32401\n",
      "41  2013   103376                      Town Creek      299167       176499\n",
      "42  2013   103389                Carbon Hill Mine       76241        84966\n",
      "43  2013   103410                Coal Valley Mine      407841       158591\n",
      "44  2013   103423                Dutton Hill Mine       37275         9162\n",
      "45  2013  1519322                         Ghm #25       25054         3108\n",
      "46  2013   103321                  Poplar Springs      189370        76366\n",
      "47  2013   103358                       Old Union      284563       161805\n",
      "48  2013  5000030                        Usibelli     1631584       286079\n",
      "49  2013   201195                    Kayenta Mine     7602722      1015333\n",
      "0   2013   103381            Tacoa Highwall Miner       56004        22392\n",
      "1   2013   103404                Reid School Mine       28807         8447\n",
      "2   2013   100759  North River #1 Underground Min     1440115       474784\n",
      "3   2013   103246                      Bear Creek       87587        29193\n",
      "4   2013   103451                     Knight Mine      147499        46393\n",
      "5   2013   103433              Crane Central Mine       69339        47195\n",
      "6   2013   100329                    Concord Mine           0       144002\n",
      "7   2013   100851                  Oak Grove Mine     2269014      1001809\n",
      "8   2013   102901                Shoal Creek Mine           0        12396\n",
      "9   2013   102901                Shoal Creek Mine     1453024      1237415\n",
      "10  2013   103180             Sloan Mountain Mine      327780       196963\n",
      "11  2013   103182                        Fishtrap      175058        87314\n",
      "12  2013   103285                     Narley Mine      154861        90584\n",
      "13  2013   103332                   Powhatan Mine      140521        61394\n",
      "14  2013   103375                    Johnson Mine         580         1900\n",
      "15  2013   103419               Maxine-Pratt Mine      125824       107469\n",
      "16  2013   103432                   Skelton Creek        8252          220\n",
      "17  2013   103437           Black Warrior Mine No     1145924        70926\n",
      "18  2013   102976   Piney Woods Preparation Plant           0        14828\n",
      "19  2013   102976   Piney Woods Preparation Plant           0        23193\n",
      "20  2013   103380                          Calera           0        12621\n",
      "21  2013   103380                          Calera           0         1402\n",
      "22  2013   103422                 Clark No 1 Mine      122727       140250\n",
      "23  2013   103467             Helena Surface Mine       59664        30539\n",
      "24  2013   101247                       No 4 Mine     2622528      1551141\n",
      "25  2013   101401                       No 7 Mine     5405412      2464719\n",
      "26  2013   103172   Searles Mine No.2, 3, 4, 5, 6      258078       119542\n",
      "27  2013   103179             Fleetwood Mine No 1       75937        63745\n",
      "28  2013   103303                    Shannon Mine      317491       164388\n",
      "29  2013   103323                   Deerlick Mine      133452        46381\n",
      "30  2013   103364           Brc Alabama No. 7 Llc           0        14324\n",
      "31  2013   103436                Swann's Crossing      137511        77190\n",
      "32  2013   100347                    Choctaw Mine      537429       215295\n",
      "33  2013   101362                 Manchester Mine      219457       116914\n",
      "34  2013   102996                  Jap Creek Mine      375715       164093\n",
      "35  2013   103155              Corinth Prep Plant           0        27996\n",
      "36  2013   103155              Corinth Prep Plant           0        51994\n",
      "37  2013   103195     Mccollum/Sparks Branch Mine       71910        17411\n",
      "38  2013   103342             Reese's Branch Mine      263888       115123\n",
      "39  2013   103370             Cresent Valley Mine        2860          621\n",
      "40  2013   103372                 Cane Creek Mine       66258        32401\n",
      "41  2013   103376                      Town Creek      299167       176499\n",
      "42  2013   103389                Carbon Hill Mine       76241        84966\n",
      "43  2013   103410                Coal Valley Mine      407841       158591\n",
      "44  2013   103423                Dutton Hill Mine       37275         9162\n",
      "45  2013  1519322                         Ghm #25       25054         3108\n",
      "46  2013   103321                  Poplar Springs      189370        76366\n",
      "47  2013   103358                       Old Union      284563       161805\n",
      "48  2013  5000030                        Usibelli     1631584       286079\n",
      "49  2013   201195                    Kayenta Mine     7602722      1015333\n"
     ]
    }
   ],
   "source": [
    "import pandas as pd\n",
    "import numpy as np\n",
    "df1 = pd.read_excel(r'C:\\Users\\Admin\\Desktop\\coalpublic2013.xlsx',sheet_name=0)\n",
    "df2 = pd.read_excel(r'C:\\Users\\Admin\\Desktop\\coalpublic2013.xlsx',sheet_name=1)\n",
    "df3 = pd.read_excel(r'C:\\Users\\Admin\\Desktop\\coalpublic2013.xlsx',sheet_name=2)\n",
    "df = pd.concat([df1, df2, df3])\n",
    "print(df)"
   ]
  },
  {
   "cell_type": "markdown",
   "metadata": {},
   "source": [
    "Q 122. Write a pandas program to import three datasheets from a given excel data (employee.xlsx ) into a single data frame and export the result into new Excel file."
   ]
  },
  {
   "cell_type": "code",
   "execution_count": 48,
   "metadata": {},
   "outputs": [],
   "source": [
    "import pandas as pd\n",
    "import numpy as np\n",
    "df1 = pd.read_excel(r'C:\\Users\\Admin\\Desktop\\coalpublic2013.xlsx',sheet_name=0)\n",
    "df2 = pd.read_excel(r'C:\\Users\\Admin\\Desktop\\coalpublic2013.xlsx',sheet_name=1)\n",
    "df3 = pd.read_excel(r'C:\\Users\\Admin\\Desktop\\coalpublic2013.xlsx',sheet_name=2)\n",
    "df = pd.concat([df1, df2, df3])\n",
    "df.to_excel(r'C:\\Users\\Admin\\Desktop\\output.xlsx', index=False)"
   ]
  },
  {
   "cell_type": "markdown",
   "metadata": {},
   "source": [
    "Q123. Write a pandas program to create the Pivot table with multiple indexes from the data set of the titanic.csv"
   ]
  },
  {
   "cell_type": "code",
   "execution_count": 50,
   "metadata": {},
   "outputs": [
    {
     "name": "stdout",
     "output_type": "stream",
     "text": [
      "                No of Parents/children aboard  No of Siblings/Spouce   alone  body Bag No       fare  survived\n",
      "sex    age                                                                                                    \n",
      "female 0.1667                               2                       1    0.0          0.0    20.5750         1\n",
      "       0.7500                               2                       4    0.0          0.0    38.5166         2\n",
      "       0.9167                               2                       1    0.0          0.0    27.7500         1\n",
      "       1.0000                               7                       4    0.0          0.0    97.3375         4\n",
      "       2.0000                              10                      10    0.0          0.0   279.6875         2\n",
      "       3.0000                               4                       5    0.0          0.0    76.4292         1\n",
      "       4.0000                               6                       4    0.0          0.0   114.1417         5\n",
      "       5.0000                               5                       7    1.0          0.0    90.8708         4\n",
      "       6.0000                               3                       4    0.0          0.0    64.2750         1\n",
      "       7.0000                               2                       0    0.0          0.0    26.2500         1\n",
      "       8.0000                               4                       4    0.0          0.0    73.3250         2\n",
      "       9.0000                               8                      11    0.0          0.0   124.0416         1\n",
      "       10.0000                              4                       5    0.0          0.0    71.0500         0\n",
      "       11.0000                              2                       4    0.0          0.0    31.2750         0\n",
      "       12.0000                              1                       2    1.0          0.0    54.7500         2\n",
      "       13.0000                              1                       0    1.0          0.0    26.7292         2\n",
      "       14.0000                              2                       3    1.0          0.0   169.1667         3\n",
      "       14.5000                              0                       1    0.0        328.0    14.4542         0\n",
      "       15.0000                              3                       1    2.0          0.0   280.0459         5\n",
      "       16.0000                              5                       6    4.0          0.0   262.4292         7\n",
      "       17.0000                              3                       6    4.0          0.0   234.6166         6\n",
      "       18.0000                             10                       9    8.0          0.0   854.0501        13\n",
      "       18.5000                              0                       0    1.0        299.0     7.2833         0\n",
      "       19.0000                              3                       5    4.0         53.0   259.9376         9\n",
      "       20.0000                              1                       4    3.0          0.0   112.0917         3\n",
      "       21.0000                              5                       5    6.0          0.0   466.6458         6\n",
      "       22.0000                              9                       7   12.0          0.0   688.2126        17\n",
      "       23.0000                              3                       5    6.0          0.0   595.5334         8\n",
      "       24.0000                             18                      13    9.0          0.0   917.3958        18\n",
      "       25.0000                              4                       4    1.0          0.0   278.6917         3\n",
      "       26.0000                              4                       4    4.0          0.0   322.8084         6\n",
      "       27.0000                              6                       5    3.0          0.0   392.2166         7\n",
      "       28.0000                              3                       6    5.0          0.0   381.7208         6\n",
      "       29.0000                              9                       5    4.0        206.0   625.3250         8\n",
      "       30.0000                              1                       6   13.0          0.0   687.8459        12\n",
      "       30.5000                              0                       0    1.0         61.0     7.7500         0\n",
      "       31.0000                              4                       4    5.0          0.0   535.9542         8\n",
      "       32.0000                              1                       1    2.0          0.0   104.7917         2\n",
      "       32.5000                              0                       0    1.0          0.0    13.0000         1\n",
      "       33.0000                              6                       7    3.0          0.0   499.0458         9\n",
      "       34.0000                              2                       1    2.0          0.0    79.0000         4\n",
      "       35.0000                              1                       6    5.0          0.0  1244.7875        10\n",
      "       36.0000                             11                       3    5.0          0.0   757.1708        10\n",
      "       37.0000                              0                       1    2.0          0.0   107.3375         1\n",
      "       38.0000                              7                       6    4.0          0.0   438.2000         5\n",
      "       39.0000                             13                       5    2.0        327.0   710.2291         6\n",
      "       40.0000                              2                       3    3.0          0.0   365.1875         5\n",
      "       41.0000                              8                       0    1.0          0.0   213.9000         2\n",
      "       42.0000                              0                       1    2.0          0.0   266.5250         3\n",
      "       43.0000                              7                       2    0.0          0.0   313.6792         2\n",
      "       44.0000                              1                       1    1.0          0.0   111.7000         2\n",
      "       45.0000                             11                       5    4.0          0.0   743.7417        10\n",
      "       47.0000                              1                       4    0.0          7.0   135.2292         3\n",
      "       48.0000                             11                       6    1.0          0.0   649.6542         7\n",
      "       49.0000                              0                       1    1.0          0.0   102.6584         2\n",
      "       50.0000                              3                       1    3.0          0.0   534.7333         5\n",
      "       51.0000                              1                       1    0.0          0.0   117.3583         2\n",
      "       52.0000                              1                       2    0.0          0.0   171.7667         2\n",
      "       53.0000                              0                       2    1.0          0.0    78.9250         2\n",
      "       54.0000                              4                       4    0.0          0.0   242.5250         4\n",
      "       55.0000                              0                       2    3.0          0.0   205.0541         4\n",
      "       56.0000                              1                       0    0.0          0.0    83.1583         1\n",
      "       57.0000                              0                       0    1.0         52.0    10.5000         0\n",
      "       58.0000                              2                       0    2.0          0.0   838.8625         4\n",
      "       59.0000                              0                       2    0.0          0.0    51.4792         1\n",
      "       60.0000                              4                       3    1.0          0.0   440.5417         3\n",
      "       62.0000                              0                       0    1.0          0.0    80.0000         1\n",
      "       63.0000                              0                       2    1.0          0.0   309.3250         2\n",
      "       64.0000                              3                       1    0.0          0.0   109.7083         2\n",
      "       76.0000                              0                       1    0.0          0.0    78.8500         1\n",
      "male   0.3333                               2                       0    0.0          0.0    14.4000         0\n",
      "       0.4167                               1                       0    0.0          0.0     8.5167         1\n",
      "       0.6667                               1                       1    0.0          0.0    14.5000         1\n",
      "       0.7500                               1                       1    0.0          0.0    13.7750         0\n",
      "       0.8333                               4                       1    0.0          0.0    57.1000         3\n",
      "       0.9167                               2                       1    0.0          0.0   151.5500         1\n",
      "       1.0000                               8                      12    0.0          0.0   183.1667         3\n",
      "       2.0000                               5                      13    0.0          4.0   138.8875         2\n",
      "       3.0000                               5                       7    0.0          0.0    92.0375         4\n",
      "       4.0000                               8                      12    0.0          0.0   181.2916         2\n",
      "       5.0000                               2                       4    0.0          0.0    31.3875         0\n",
      "       6.0000                               5                       4    0.0          0.0   183.2958         2\n",
      "       7.0000                               3                       9    0.0          0.0    84.0583         1\n",
      "       8.0000                               4                       5    0.0          0.0    98.3750         2\n",
      "       9.0000                               8                      10    0.0          0.0   117.8833         3\n",
      "       10.0000                              3                       7    0.0          0.0    57.0250         0\n",
      "       11.0000                              4                       6    1.0          0.0   185.6875         1\n",
      "       11.5000                              1                       1    0.0          1.0    14.5000         0\n",
      "       12.0000                              0                       1    0.0          0.0    11.2417         1\n",
      "       13.0000                              6                       6    0.0          0.0   314.0125         1\n",
      "       14.0000                              3                       9    2.0          0.0   160.8125         1\n",
      "       14.5000                              2                       8    0.0         67.0    69.5500         0\n",
      "       15.0000                              1                       1    0.0          0.0     7.2292         0\n",
      "       16.0000                              5                       8    7.0        190.0   191.4042         1\n",
      "       17.0000                              3                       4    8.0          0.0   303.4875         1\n",
      "       18.0000                              4                       7   13.0        573.0   441.8750         1\n",
      "       18.5000                              0                       0    2.0        352.0    20.2292         0\n",
      "       19.0000                              3                       5   16.0        119.0   492.1415         2\n",
      "       20.0000                              1                       2   15.0         89.0   147.7418         5\n",
      "       20.5000                              0                       0    1.0          0.0     7.2500         0\n",
      "       21.0000                              2                       7   24.0        238.0   537.3332         5\n",
      "       22.0000                              0                       3   19.0        435.0   317.3665         3\n",
      "       22.5000                              0                       0    1.0          9.0     7.2250         0\n",
      "       23.0000                              2                       4   12.0          0.0   307.6249         2\n",
      "       23.5000                              0                       0    1.0        188.0     7.2292         0\n",
      "       24.0000                              1                       9   19.0        560.0   773.1333         4\n",
      "       24.5000                              0                       0    1.0        284.0     8.0500         0\n",
      "       25.0000                              2                       7   21.0        714.0   464.8084         8\n",
      "       26.0000                              3                       6   16.0        103.0   306.1583         5\n",
      "       26.5000                              0                       0    1.0        304.0     7.2250         0\n",
      "       27.0000                              2                       4   15.0        424.0   687.7250         6\n",
      "       28.0000                              1                       4   19.0        766.0   488.8832         2\n",
      "       28.5000                              0                       0    3.0        384.0    51.0500         0\n",
      "       29.0000                              1                       8   12.0        421.0   298.8582         5\n",
      "       30.0000                              3                       6   17.0        587.0   539.0875         3\n",
      "       30.5000                              0                       0    1.0         50.0     8.0500         0\n",
      "       31.0000                              2                       7    8.0        165.0   323.9708         4\n",
      "       32.0000                              0                       4   18.0        725.0   405.4583         9\n",
      "       32.5000                              0                       1    2.0        386.0   251.0708         0\n",
      "       33.0000                              1                       1   11.0        482.0   130.6375         0\n",
      "       34.0000                              1                       5    7.0        799.0   196.5458         2\n",
      "       34.5000                              0                       0    2.0        266.0    14.2667         0\n",
      "       35.0000                              0                       0   12.0        322.0   660.0833         3\n",
      "       36.0000                              6                       5   13.0        408.0  1028.1875         4\n",
      "       36.5000                              2                       1    0.0         15.0    43.4000         1\n",
      "       37.0000                              3                       6    0.0        115.0   252.4375         1\n",
      "       38.0000                              1                       2    4.0        147.0   288.0708         1\n",
      "       38.5000                              0                       0    1.0         32.0     7.2500         0\n",
      "       39.0000                              8                       2    8.0        133.0   244.9042         2\n",
      "       40.0000                             16                       5    7.0        538.0   250.5291         1\n",
      "       40.5000                              2                       0    2.0        510.0    37.3500         0\n",
      "       41.0000                              0                       3    5.0          0.0   139.4916         0\n",
      "       42.0000                              2                       4   10.0        158.0   357.2084         3\n",
      "       43.0000                              2                       2    3.0          0.0    97.3666         1\n",
      "       44.0000                              1                       3    4.0        265.0   169.1250         1\n",
      "       45.0000                              1                       2    6.0          0.0   351.3000         4\n",
      "       45.5000                              0                       0    2.0        478.0    35.7250         0\n",
      "       46.0000                              0                       1    5.0        388.0   346.8167         0\n",
      "       47.0000                              0                       1    9.0        606.0   461.7833         0\n",
      "       48.0000                              0                       2    4.0        479.0   226.6292         3\n",
      "       49.0000                              3                       4    3.0          0.0   347.9167         3\n",
      "       50.0000                              1                       7    3.0        451.0   595.0250         1\n",
      "       51.0000                              1                       0    5.0        174.0   123.3084         1\n",
      "       52.0000                              1                       1    3.0        149.0   136.6500         1\n",
      "       53.0000                              1                       1    1.0          0.0   110.3583         2\n",
      "       54.0000                              1                       2    3.0        175.0   250.5917         1\n",
      "       55.0000                              1                       2    2.0        307.0   233.4000         0\n",
      "       55.5000                              0                       0    1.0        201.0     8.0500         0\n",
      "       56.0000                              0                       0    3.0          0.0    92.7458         1\n",
      "       57.0000                              1                       2    2.0          0.0   336.7375         0\n",
      "       58.0000                              2                       0    1.0        380.0   142.9750         0\n",
      "       59.0000                              0                       0    2.0          0.0    20.7500         0\n",
      "       60.0000                              2                       2    1.0          0.0   144.7500         1\n",
      "       60.5000                              0                       0    1.0        261.0     0.0000         0\n",
      "       61.0000                              3                       1    4.0        291.0   346.7833         0\n",
      "       62.0000                              0                       0    4.0          0.0    73.2875         1\n",
      "       63.0000                              0                       1    0.0          0.0    26.0000         0\n",
      "       64.0000                              4                       2    1.0        263.0   364.2500         0\n",
      "       65.0000                              1                       0    2.0        483.0    96.2792         0\n",
      "       66.0000                              0                       0    1.0          0.0    10.5000         0\n",
      "       67.0000                              0                       1    0.0         96.0   221.7792         0\n",
      "       70.0000                              1                       1    1.0        269.0    81.5000         0\n",
      "       70.5000                              0                       0    1.0        171.0     7.7500         0\n",
      "       71.0000                              0                       0    2.0         22.0    84.1584         0\n",
      "       74.0000                              0                       0    1.0          0.0     7.7750         0\n",
      "       80.0000                              0                       0    1.0          0.0    30.0000         1\n"
     ]
    }
   ],
   "source": [
    "import pandas as pd\n",
    "import numpy as np\n",
    "df = pd.read_csv(r'C:\\Users\\Admin\\Desktop\\Titanic.csv')\n",
    "result = pd.pivot_table(df, index = [\"sex\",\"age\"], aggfunc=np.sum)\n",
    "print(result)"
   ]
  },
  {
   "cell_type": "markdown",
   "metadata": {},
   "source": [
    "Q124. Write a Pandas program to create the Pivot table and find survival rate by gender?"
   ]
  },
  {
   "cell_type": "code",
   "execution_count": 52,
   "metadata": {},
   "outputs": [
    {
     "name": "stdout",
     "output_type": "stream",
     "text": [
      "pclass     First    Second     Third\n",
      "sex                                 \n",
      "female  0.965278  0.886792  0.490741\n",
      "male    0.340782  0.146199  0.152130\n"
     ]
    }
   ],
   "source": [
    "import pandas as pd\n",
    "import numpy as np\n",
    "df = pd.read_csv(r'C:\\Users\\Admin\\Desktop\\Titanic.csv')\n",
    "result = df.pivot_table('survived', index='sex', columns='pclass')\n",
    "print(result)"
   ]
  },
  {
   "cell_type": "markdown",
   "metadata": {},
   "source": [
    "Q125. Write a pandas program to make partition each of the passengers into 4 categories based on their age."
   ]
  },
  {
   "cell_type": "code",
   "execution_count": 56,
   "metadata": {},
   "outputs": [
    {
     "name": "stdout",
     "output_type": "stream",
     "text": [
      "0       (10.0, 30.0]\n",
      "1        (0.0, 10.0]\n",
      "2        (0.0, 10.0]\n",
      "3       (10.0, 30.0]\n",
      "4       (10.0, 30.0]\n",
      "5       (30.0, 60.0]\n",
      "6       (60.0, 80.0]\n",
      "7       (30.0, 60.0]\n",
      "8       (30.0, 60.0]\n",
      "9       (60.0, 80.0]\n",
      "10      (30.0, 60.0]\n",
      "11      (10.0, 30.0]\n",
      "12      (10.0, 30.0]\n",
      "13      (10.0, 30.0]\n",
      "14      (60.0, 80.0]\n",
      "15               NaN\n",
      "16      (10.0, 30.0]\n",
      "17      (30.0, 60.0]\n",
      "18      (30.0, 60.0]\n",
      "19      (30.0, 60.0]\n",
      "20      (30.0, 60.0]\n",
      "21      (30.0, 60.0]\n",
      "22      (10.0, 30.0]\n",
      "23      (30.0, 60.0]\n",
      "24      (10.0, 30.0]\n",
      "25      (10.0, 30.0]\n",
      "26      (10.0, 30.0]\n",
      "27      (10.0, 30.0]\n",
      "28      (30.0, 60.0]\n",
      "29      (10.0, 30.0]\n",
      "30      (30.0, 60.0]\n",
      "31      (30.0, 60.0]\n",
      "32      (10.0, 30.0]\n",
      "33      (30.0, 60.0]\n",
      "34      (30.0, 60.0]\n",
      "35      (30.0, 60.0]\n",
      "36      (10.0, 30.0]\n",
      "37               NaN\n",
      "38      (30.0, 60.0]\n",
      "39      (30.0, 60.0]\n",
      "40               NaN\n",
      "41      (30.0, 60.0]\n",
      "42      (30.0, 60.0]\n",
      "43      (30.0, 60.0]\n",
      "44      (30.0, 60.0]\n",
      "45      (30.0, 60.0]\n",
      "46               NaN\n",
      "47      (30.0, 60.0]\n",
      "48      (30.0, 60.0]\n",
      "49      (30.0, 60.0]\n",
      "50      (30.0, 60.0]\n",
      "51      (30.0, 60.0]\n",
      "52      (10.0, 30.0]\n",
      "53      (10.0, 30.0]\n",
      "54      (10.0, 30.0]\n",
      "55      (10.0, 30.0]\n",
      "56      (30.0, 60.0]\n",
      "57      (30.0, 60.0]\n",
      "58      (30.0, 60.0]\n",
      "59               NaN\n",
      "60      (30.0, 60.0]\n",
      "61      (60.0, 80.0]\n",
      "62      (30.0, 60.0]\n",
      "63      (30.0, 60.0]\n",
      "64      (10.0, 30.0]\n",
      "65      (30.0, 60.0]\n",
      "66      (30.0, 60.0]\n",
      "67      (10.0, 30.0]\n",
      "68      (30.0, 60.0]\n",
      "69               NaN\n",
      "70               NaN\n",
      "71      (10.0, 30.0]\n",
      "72      (10.0, 30.0]\n",
      "73      (10.0, 30.0]\n",
      "74               NaN\n",
      "75      (30.0, 60.0]\n",
      "76      (30.0, 60.0]\n",
      "77      (30.0, 60.0]\n",
      "78      (60.0, 80.0]\n",
      "79      (30.0, 60.0]\n",
      "80               NaN\n",
      "81      (60.0, 80.0]\n",
      "82      (30.0, 60.0]\n",
      "83      (60.0, 80.0]\n",
      "84      (30.0, 60.0]\n",
      "85      (30.0, 60.0]\n",
      "86      (30.0, 60.0]\n",
      "87      (10.0, 30.0]\n",
      "88      (30.0, 60.0]\n",
      "89      (30.0, 60.0]\n",
      "90      (10.0, 30.0]\n",
      "91      (30.0, 60.0]\n",
      "92      (10.0, 30.0]\n",
      "93      (30.0, 60.0]\n",
      "94       (0.0, 10.0]\n",
      "95      (30.0, 60.0]\n",
      "96      (30.0, 60.0]\n",
      "97      (10.0, 30.0]\n",
      "98      (30.0, 60.0]\n",
      "99      (30.0, 60.0]\n",
      "100     (30.0, 60.0]\n",
      "101     (30.0, 60.0]\n",
      "102     (10.0, 30.0]\n",
      "103     (30.0, 60.0]\n",
      "104     (30.0, 60.0]\n",
      "105     (30.0, 60.0]\n",
      "106              NaN\n",
      "107              NaN\n",
      "108              NaN\n",
      "109     (30.0, 60.0]\n",
      "110     (10.0, 30.0]\n",
      "111     (10.0, 30.0]\n",
      "112     (10.0, 30.0]\n",
      "113     (10.0, 30.0]\n",
      "114     (10.0, 30.0]\n",
      "115     (60.0, 80.0]\n",
      "116     (30.0, 60.0]\n",
      "117     (10.0, 30.0]\n",
      "118              NaN\n",
      "119     (30.0, 60.0]\n",
      "120     (30.0, 60.0]\n",
      "121              NaN\n",
      "122     (10.0, 30.0]\n",
      "123     (30.0, 60.0]\n",
      "124     (30.0, 60.0]\n",
      "125              NaN\n",
      "126     (30.0, 60.0]\n",
      "127     (30.0, 60.0]\n",
      "128     (30.0, 60.0]\n",
      "129     (30.0, 60.0]\n",
      "130     (10.0, 30.0]\n",
      "131     (30.0, 60.0]\n",
      "132     (10.0, 30.0]\n",
      "133     (30.0, 60.0]\n",
      "134              NaN\n",
      "135     (60.0, 80.0]\n",
      "136     (30.0, 60.0]\n",
      "137     (10.0, 30.0]\n",
      "138     (30.0, 60.0]\n",
      "139     (30.0, 60.0]\n",
      "140     (10.0, 30.0]\n",
      "141     (30.0, 60.0]\n",
      "142     (30.0, 60.0]\n",
      "143     (10.0, 30.0]\n",
      "144     (10.0, 30.0]\n",
      "145     (30.0, 60.0]\n",
      "146     (30.0, 60.0]\n",
      "147              NaN\n",
      "148     (30.0, 60.0]\n",
      "149     (30.0, 60.0]\n",
      "150     (30.0, 60.0]\n",
      "151     (10.0, 30.0]\n",
      "152              NaN\n",
      "153     (10.0, 30.0]\n",
      "154     (30.0, 60.0]\n",
      "155     (30.0, 60.0]\n",
      "156     (30.0, 60.0]\n",
      "157              NaN\n",
      "158     (30.0, 60.0]\n",
      "159     (10.0, 30.0]\n",
      "160     (30.0, 60.0]\n",
      "161     (30.0, 60.0]\n",
      "162     (30.0, 60.0]\n",
      "163     (30.0, 60.0]\n",
      "164     (30.0, 60.0]\n",
      "165     (30.0, 60.0]\n",
      "166              NaN\n",
      "167     (30.0, 60.0]\n",
      "168     (30.0, 60.0]\n",
      "169     (30.0, 60.0]\n",
      "170     (30.0, 60.0]\n",
      "171     (30.0, 60.0]\n",
      "172     (30.0, 60.0]\n",
      "173     (30.0, 60.0]\n",
      "174     (30.0, 60.0]\n",
      "175     (30.0, 60.0]\n",
      "176              NaN\n",
      "177     (30.0, 60.0]\n",
      "178     (30.0, 60.0]\n",
      "179              NaN\n",
      "180     (30.0, 60.0]\n",
      "181     (30.0, 60.0]\n",
      "182     (10.0, 30.0]\n",
      "183     (30.0, 60.0]\n",
      "184              NaN\n",
      "185     (30.0, 60.0]\n",
      "186     (30.0, 60.0]\n",
      "187     (10.0, 30.0]\n",
      "188     (30.0, 60.0]\n",
      "189     (10.0, 30.0]\n",
      "190     (10.0, 30.0]\n",
      "191     (10.0, 30.0]\n",
      "192     (30.0, 60.0]\n",
      "193     (10.0, 30.0]\n",
      "194     (10.0, 30.0]\n",
      "195     (10.0, 30.0]\n",
      "196              NaN\n",
      "197     (10.0, 30.0]\n",
      "198     (10.0, 30.0]\n",
      "199     (10.0, 30.0]\n",
      "200     (30.0, 60.0]\n",
      "201     (30.0, 60.0]\n",
      "202     (30.0, 60.0]\n",
      "203     (10.0, 30.0]\n",
      "204              NaN\n",
      "205     (60.0, 80.0]\n",
      "206     (30.0, 60.0]\n",
      "207     (30.0, 60.0]\n",
      "208     (30.0, 60.0]\n",
      "209     (10.0, 30.0]\n",
      "210     (30.0, 60.0]\n",
      "211     (30.0, 60.0]\n",
      "212     (30.0, 60.0]\n",
      "213     (30.0, 60.0]\n",
      "214     (10.0, 30.0]\n",
      "215     (30.0, 60.0]\n",
      "216     (10.0, 30.0]\n",
      "217     (60.0, 80.0]\n",
      "218     (30.0, 60.0]\n",
      "219              NaN\n",
      "220     (10.0, 30.0]\n",
      "221     (60.0, 80.0]\n",
      "222     (10.0, 30.0]\n",
      "223              NaN\n",
      "224     (30.0, 60.0]\n",
      "225     (10.0, 30.0]\n",
      "226     (10.0, 30.0]\n",
      "227     (10.0, 30.0]\n",
      "228     (10.0, 30.0]\n",
      "229     (10.0, 30.0]\n",
      "230     (10.0, 30.0]\n",
      "231     (30.0, 60.0]\n",
      "232     (30.0, 60.0]\n",
      "233     (30.0, 60.0]\n",
      "234     (30.0, 60.0]\n",
      "235              NaN\n",
      "236     (10.0, 30.0]\n",
      "237              NaN\n",
      "238     (30.0, 60.0]\n",
      "239     (30.0, 60.0]\n",
      "240     (30.0, 60.0]\n",
      "241              NaN\n",
      "242     (30.0, 60.0]\n",
      "243     (30.0, 60.0]\n",
      "244     (30.0, 60.0]\n",
      "245     (30.0, 60.0]\n",
      "246     (30.0, 60.0]\n",
      "247     (30.0, 60.0]\n",
      "248     (30.0, 60.0]\n",
      "249     (10.0, 30.0]\n",
      "            ...     \n",
      "1059    (10.0, 30.0]\n",
      "1060    (10.0, 30.0]\n",
      "1061    (10.0, 30.0]\n",
      "1062    (10.0, 30.0]\n",
      "1063    (30.0, 60.0]\n",
      "1064    (30.0, 60.0]\n",
      "1065    (10.0, 30.0]\n",
      "1066    (10.0, 30.0]\n",
      "1067    (10.0, 30.0]\n",
      "1068    (60.0, 80.0]\n",
      "1069             NaN\n",
      "1070             NaN\n",
      "1071             NaN\n",
      "1072             NaN\n",
      "1073             NaN\n",
      "1074             NaN\n",
      "1075    (10.0, 30.0]\n",
      "1076             NaN\n",
      "1077             NaN\n",
      "1078             NaN\n",
      "1079    (10.0, 30.0]\n",
      "1080             NaN\n",
      "1081             NaN\n",
      "1082     (0.0, 10.0]\n",
      "1083    (10.0, 30.0]\n",
      "1084    (30.0, 60.0]\n",
      "1085             NaN\n",
      "1086    (30.0, 60.0]\n",
      "1087    (10.0, 30.0]\n",
      "1088    (30.0, 60.0]\n",
      "1089    (10.0, 30.0]\n",
      "1090    (10.0, 30.0]\n",
      "1091    (10.0, 30.0]\n",
      "1092    (10.0, 30.0]\n",
      "1093    (10.0, 30.0]\n",
      "1094    (30.0, 60.0]\n",
      "1095             NaN\n",
      "1096     (0.0, 10.0]\n",
      "1097     (0.0, 10.0]\n",
      "1098     (0.0, 10.0]\n",
      "1099     (0.0, 10.0]\n",
      "1100    (10.0, 30.0]\n",
      "1101     (0.0, 10.0]\n",
      "1102     (0.0, 10.0]\n",
      "1103     (0.0, 10.0]\n",
      "1104    (10.0, 30.0]\n",
      "1105    (10.0, 30.0]\n",
      "1106    (30.0, 60.0]\n",
      "1107    (10.0, 30.0]\n",
      "1108    (10.0, 30.0]\n",
      "1109             NaN\n",
      "1110    (30.0, 60.0]\n",
      "1111     (0.0, 10.0]\n",
      "1112     (0.0, 10.0]\n",
      "1113    (10.0, 30.0]\n",
      "1114             NaN\n",
      "1115             NaN\n",
      "1116             NaN\n",
      "1117    (10.0, 30.0]\n",
      "1118    (10.0, 30.0]\n",
      "1119    (10.0, 30.0]\n",
      "1120    (10.0, 30.0]\n",
      "1121             NaN\n",
      "1122             NaN\n",
      "1123             NaN\n",
      "1124             NaN\n",
      "1125    (10.0, 30.0]\n",
      "1126    (10.0, 30.0]\n",
      "1127    (10.0, 30.0]\n",
      "1128             NaN\n",
      "1129    (10.0, 30.0]\n",
      "1130    (10.0, 30.0]\n",
      "1131    (30.0, 60.0]\n",
      "1132             NaN\n",
      "1133    (10.0, 30.0]\n",
      "1134    (10.0, 30.0]\n",
      "1135             NaN\n",
      "1136             NaN\n",
      "1137             NaN\n",
      "1138             NaN\n",
      "1139    (30.0, 60.0]\n",
      "1140    (10.0, 30.0]\n",
      "1141     (0.0, 10.0]\n",
      "1142     (0.0, 10.0]\n",
      "1143     (0.0, 10.0]\n",
      "1144     (0.0, 10.0]\n",
      "1145     (0.0, 10.0]\n",
      "1146    (30.0, 60.0]\n",
      "1147    (10.0, 30.0]\n",
      "1148    (30.0, 60.0]\n",
      "1149             NaN\n",
      "1150             NaN\n",
      "1151             NaN\n",
      "1152    (30.0, 60.0]\n",
      "1153    (30.0, 60.0]\n",
      "1154             NaN\n",
      "1155             NaN\n",
      "1156     (0.0, 10.0]\n",
      "1157    (10.0, 30.0]\n",
      "1158    (30.0, 60.0]\n",
      "1159             NaN\n",
      "1160    (30.0, 60.0]\n",
      "1161    (10.0, 30.0]\n",
      "1162             NaN\n",
      "1163             NaN\n",
      "1164             NaN\n",
      "1165    (10.0, 30.0]\n",
      "1166             NaN\n",
      "1167             NaN\n",
      "1168             NaN\n",
      "1169    (30.0, 60.0]\n",
      "1170             NaN\n",
      "1171    (10.0, 30.0]\n",
      "1172             NaN\n",
      "1173             NaN\n",
      "1174             NaN\n",
      "1175             NaN\n",
      "1176             NaN\n",
      "1177             NaN\n",
      "1178             NaN\n",
      "1179             NaN\n",
      "1180             NaN\n",
      "1181    (10.0, 30.0]\n",
      "1182    (10.0, 30.0]\n",
      "1183    (30.0, 60.0]\n",
      "1184             NaN\n",
      "1185             NaN\n",
      "1186             NaN\n",
      "1187     (0.0, 10.0]\n",
      "1188    (10.0, 30.0]\n",
      "1189     (0.0, 10.0]\n",
      "1190    (10.0, 30.0]\n",
      "1191    (10.0, 30.0]\n",
      "1192    (10.0, 30.0]\n",
      "1193             NaN\n",
      "1194             NaN\n",
      "1195             NaN\n",
      "1196    (10.0, 30.0]\n",
      "1197             NaN\n",
      "1198             NaN\n",
      "1199             NaN\n",
      "1200             NaN\n",
      "1201    (10.0, 30.0]\n",
      "1202             NaN\n",
      "1203    (30.0, 60.0]\n",
      "1204    (10.0, 30.0]\n",
      "1205    (10.0, 30.0]\n",
      "1206     (0.0, 10.0]\n",
      "1207     (0.0, 10.0]\n",
      "1208     (0.0, 10.0]\n",
      "1209     (0.0, 10.0]\n",
      "1210    (30.0, 60.0]\n",
      "1211    (30.0, 60.0]\n",
      "1212             NaN\n",
      "1213             NaN\n",
      "1214             NaN\n",
      "1215             NaN\n",
      "1216             NaN\n",
      "1217    (10.0, 30.0]\n",
      "1218    (10.0, 30.0]\n",
      "1219             NaN\n",
      "1220    (30.0, 60.0]\n",
      "1221             NaN\n",
      "1222    (30.0, 60.0]\n",
      "1223    (10.0, 30.0]\n",
      "1224    (10.0, 30.0]\n",
      "1225    (60.0, 80.0]\n",
      "1226    (10.0, 30.0]\n",
      "1227    (10.0, 30.0]\n",
      "1228    (30.0, 60.0]\n",
      "1229    (10.0, 30.0]\n",
      "1230     (0.0, 10.0]\n",
      "1231    (10.0, 30.0]\n",
      "1232    (10.0, 30.0]\n",
      "1233    (30.0, 60.0]\n",
      "1234    (10.0, 30.0]\n",
      "1235    (60.0, 80.0]\n",
      "1236    (10.0, 30.0]\n",
      "1237    (10.0, 30.0]\n",
      "1238    (10.0, 30.0]\n",
      "1239    (30.0, 60.0]\n",
      "1240     (0.0, 10.0]\n",
      "1241             NaN\n",
      "1242             NaN\n",
      "1243             NaN\n",
      "1244    (10.0, 30.0]\n",
      "1245             NaN\n",
      "1246             NaN\n",
      "1247             NaN\n",
      "1248    (30.0, 60.0]\n",
      "1249             NaN\n",
      "1250             NaN\n",
      "1251    (30.0, 60.0]\n",
      "1252    (30.0, 60.0]\n",
      "1253             NaN\n",
      "1254    (10.0, 30.0]\n",
      "1255             NaN\n",
      "1256     (0.0, 10.0]\n",
      "1257     (0.0, 10.0]\n",
      "1258    (10.0, 30.0]\n",
      "1259    (30.0, 60.0]\n",
      "1260    (10.0, 30.0]\n",
      "1261    (60.0, 80.0]\n",
      "1262             NaN\n",
      "1263    (10.0, 30.0]\n",
      "1264    (30.0, 60.0]\n",
      "1265     (0.0, 10.0]\n",
      "1266    (30.0, 60.0]\n",
      "1267    (10.0, 30.0]\n",
      "1268             NaN\n",
      "1269    (30.0, 60.0]\n",
      "1270    (10.0, 30.0]\n",
      "1271    (10.0, 30.0]\n",
      "1272    (30.0, 60.0]\n",
      "1273    (10.0, 30.0]\n",
      "1274    (30.0, 60.0]\n",
      "1275    (10.0, 30.0]\n",
      "1276    (30.0, 60.0]\n",
      "1277    (10.0, 30.0]\n",
      "1278    (10.0, 30.0]\n",
      "1279    (10.0, 30.0]\n",
      "1280    (10.0, 30.0]\n",
      "1281    (10.0, 30.0]\n",
      "1282             NaN\n",
      "1283             NaN\n",
      "1284             NaN\n",
      "1285    (30.0, 60.0]\n",
      "1286    (30.0, 60.0]\n",
      "1287    (30.0, 60.0]\n",
      "1288    (10.0, 30.0]\n",
      "1289    (10.0, 30.0]\n",
      "1290    (30.0, 60.0]\n",
      "1291             NaN\n",
      "1292             NaN\n",
      "1293             NaN\n",
      "1294    (10.0, 30.0]\n",
      "1295    (10.0, 30.0]\n",
      "1296    (10.0, 30.0]\n",
      "1297             NaN\n",
      "1298    (30.0, 60.0]\n",
      "1299    (10.0, 30.0]\n",
      "1300    (10.0, 30.0]\n",
      "1301    (30.0, 60.0]\n",
      "1302             NaN\n",
      "1303             NaN\n",
      "1304    (10.0, 30.0]\n",
      "1305             NaN\n",
      "1306    (10.0, 30.0]\n",
      "1307    (10.0, 30.0]\n",
      "1308    (10.0, 30.0]\n",
      "Name: age, Length: 1309, dtype: category\n",
      "Categories (4, interval[int64]): [(0, 10] < (10, 30] < (30, 60] < (60, 80]]\n"
     ]
    }
   ],
   "source": [
    "import pandas as pd\n",
    "import numpy as np\n",
    "df = pd.read_csv(r'C:\\Users\\Admin\\Desktop\\Titanic.csv')\n",
    "result = pd.cut(df['age'], [0, 10, 30, 60, 80])\n",
    "print(result)"
   ]
  },
  {
   "cell_type": "markdown",
   "metadata": {},
   "source": [
    "Q126. Write a pandas program to create the Pivot table and find survival rate by the gender, age of the different categories of various classes."
   ]
  },
  {
   "cell_type": "code",
   "execution_count": 57,
   "metadata": {},
   "outputs": [
    {
     "name": "stdout",
     "output_type": "stream",
     "text": [
      "pclass              First    Second     Third\n",
      "sex    age                                   \n",
      "female (0, 20]   0.937500  0.962963  0.515152\n",
      "       (20, 55]  0.970588  0.891892  0.435294\n",
      "male   (0, 20]   0.600000  0.464286  0.198020\n",
      "       (20, 55]  0.376068  0.075000  0.161826\n"
     ]
    }
   ],
   "source": [
    "import pandas as pd\n",
    "import numpy as np\n",
    "df = pd.read_csv(r'C:\\Users\\Admin\\Desktop\\Titanic.csv')\n",
    "age = pd.cut(df['age'], [0, 20, 55])\n",
    "result = df.pivot_table('survived', index=['sex', age], columns='pclass')\n",
    "print(result)"
   ]
  },
  {
   "cell_type": "markdown",
   "metadata": {},
   "source": [
    "Q127. Write a pandas program to create the Pivot table and calculate number of women and men were in a particular cabin class."
   ]
  },
  {
   "cell_type": "code",
   "execution_count": 58,
   "metadata": {},
   "outputs": [
    {
     "name": "stdout",
     "output_type": "stream",
     "text": [
      "       No of Parents/children aboard              No of Siblings/Spouce                 age              alone               boat              body Bag No              cabin              embarked               fare              home.dest               name              survived              ticket             \n",
      "pclass                         First Second Third                  First Second Third First Second Third First Second Third First Second Third       First Second Third First Second Third    First Second Third First Second Third     First Second Third First Second Third    First Second Third  First Second Third\n",
      "sex                                                                                                                                                                                                                                                                                                                    \n",
      "female                           144    106   216                    144    106   216   133    103   152   144    106   216   138     86    95           0      1     7   121     13     7      142    106   216   144    106   216       121    104    63   144    106   216      144    106   216    144    106   216\n",
      "male                             179    171   493                    179    171   493   151    158   349   179    171   493    63     26    78          35     30    48   135     10     9      179    171   493   179    171   493       168    157   132   179    171   493      179    171   493    179    171   493\n"
     ]
    }
   ],
   "source": [
    "import pandas as pd\n",
    "import numpy as np\n",
    "df = pd.read_csv(r'C:\\Users\\Admin\\Desktop\\Titanic.csv')\n",
    "result = df.pivot_table(index=['sex'], columns=['pclass'], aggfunc='count')\n",
    "print(result)\n"
   ]
  },
  {
   "cell_type": "markdown",
   "metadata": {},
   "source": [
    "Q128. Write a pandas program to create the Pivot table and separate the gender according to whether they travelled alone or not to get the probability of survival"
   ]
  },
  {
   "cell_type": "code",
   "execution_count": 59,
   "metadata": {},
   "outputs": [
    {
     "name": "stdout",
     "output_type": "stream",
     "text": [
      "pclass           First    Second     Third\n",
      "sex    alone                              \n",
      "female False  0.967391  0.906250  0.431034\n",
      "       True   0.961538  0.857143  0.560000\n",
      "male   False  0.408451  0.236364  0.181818\n",
      "       True   0.296296  0.103448  0.142473\n"
     ]
    }
   ],
   "source": [
    "import pandas as pd\n",
    "import numpy as np\n",
    "df = pd.read_csv(r'C:\\Users\\Admin\\Desktop\\Titanic.csv')\n",
    "result = df.pivot_table( 'survived' , [ 'sex' , 'alone' ] , 'pclass' )\n",
    "print(result)"
   ]
  },
  {
   "cell_type": "markdown",
   "metadata": {},
   "source": [
    "Q129. Write a pandas program to create the Pivot table and find the probability of survival by class, gender, solo boarding, and the port of embarkation."
   ]
  },
  {
   "cell_type": "code",
   "execution_count": 62,
   "metadata": {},
   "outputs": [
    {
     "name": "stdout",
     "output_type": "stream",
     "text": [
      "embarked             C                         Q                          S                    \n",
      "pclass           First    Second     Third First Second     Third     First    Second     Third\n",
      "sex    alone                                                                                   \n",
      "female False  1.000000  1.000000  0.652174   1.0    NaN  0.600000  0.938776  0.890909  0.349398\n",
      "       True   0.933333  1.000000  0.875000   NaN    1.0  0.586957  1.000000  0.842105  0.478261\n",
      "male   False  0.457143  0.166667  0.380952   0.0    NaN  0.083333  0.371429  0.244898  0.147727\n",
      "       True   0.342857  0.363636  0.142857   NaN    0.0  0.133333  0.273973  0.080000  0.143885\n"
     ]
    }
   ],
   "source": [
    "import pandas as pd\n",
    "import numpy as np\n",
    "df = pd.read_csv(r'C:\\Users\\Admin\\Desktop\\Titanic.csv')\n",
    "result = df.pivot_table('survived', ['sex' , 'alone' ], [ 'embarked', 'pclass' ])\n",
    "print(result)"
   ]
  },
  {
   "cell_type": "markdown",
   "metadata": {},
   "source": [
    "Q130. Write a pandas program to get current date, oldest date and number of days between Current date and the oldest date of Ufo dataset."
   ]
  },
  {
   "cell_type": "code",
   "execution_count": 65,
   "metadata": {},
   "outputs": [
    {
     "name": "stdout",
     "output_type": "stream",
     "text": [
      "Original Dataframe:\n",
      "            Date_time Country        City State    Shape                                            Summary        lat         lng\n",
      "0 2016-12-21 19:15:00     USA  Waynesboro    VA   Sphere               Bright round object hovering in sky.  38.065229  -78.905888\n",
      "1 2016-12-21 00:00:00     USA  Louisville    KY  Unknown  Multiple craft ascending from north of Shelbyv...  38.254238  -85.759407\n",
      "2 2016-12-20 22:30:00     USA  Santa Rosa    CA   Sphere  Bright orange planet-like object sighted near ...  38.440467 -122.714431\n",
      "3 2016-12-20 19:00:00     USA      Fresno    CA   Circle      Twelve orange globes in formation over Fresno  36.729529 -119.708861\n",
      "4 2016-12-19 21:53:00     USA     Reymert    AZ   Circle  While camping in the Cottonwood canyon Rd., al...  33.229779 -111.209290\n",
      "\n",
      "Current date of Ufo dataset:\n",
      "2016-12-21 19:15:00\n",
      "\n",
      "Oldest date of Ufo dataset:\n",
      "2016-01-01 00:00:00\n",
      "\n",
      "Number of days between Current date and oldest date of Ufo dataset:\n",
      "355\n"
     ]
    }
   ],
   "source": [
    "import pandas as pd\n",
    "df = pd.read_excel(r'C:\\Users\\Admin\\Desktop\\UFOs_coord.xlsx')\n",
    "df['Date_time'] = df['Date_time'].astype('datetime64[ns]')\n",
    "print(\"Original Dataframe:\")\n",
    "print(df.head())\n",
    "print(\"\\nCurrent date of Ufo dataset:\")\n",
    "print(df.Date_time.max())\n",
    "print(\"\\nOldest date of Ufo dataset:\")\n",
    "print(df.Date_time.min())\n",
    "print(\"\\nNumber of days between Current date and oldest date of Ufo dataset:\")\n",
    "print((df.Date_time.max() - df.Date_time.min()).days)"
   ]
  },
  {
   "cell_type": "markdown",
   "metadata": {},
   "source": [
    "Q131. Write a pandas program to get all sighting days of the unidentified flying object (ufo) between 2016-1-1 and 2016-12- 31."
   ]
  },
  {
   "cell_type": "code",
   "execution_count": 67,
   "metadata": {},
   "outputs": [
    {
     "name": "stdout",
     "output_type": "stream",
     "text": [
      "Original Dataframe:\n",
      "            Date_time Country        City State    Shape                                            Summary        lat         lng\n",
      "0 2016-12-21 19:15:00     USA  Waynesboro    VA   Sphere               Bright round object hovering in sky.  38.065229  -78.905888\n",
      "1 2016-12-21 00:00:00     USA  Louisville    KY  Unknown  Multiple craft ascending from north of Shelbyv...  38.254238  -85.759407\n",
      "2 2016-12-20 22:30:00     USA  Santa Rosa    CA   Sphere  Bright orange planet-like object sighted near ...  38.440467 -122.714431\n",
      "3 2016-12-20 19:00:00     USA      Fresno    CA   Circle      Twelve orange globes in formation over Fresno  36.729529 -119.708861\n",
      "4 2016-12-19 21:53:00     USA     Reymert    AZ   Circle  While camping in the Cottonwood canyon Rd., al...  33.229779 -111.209290\n",
      "               Date_time Country                City State      Shape                                            Summary        lat         lng\n",
      "0    2016-12-21 19:15:00     USA          Waynesboro    VA     Sphere               Bright round object hovering in sky.  38.065229  -78.905888\n",
      "1    2016-12-21 00:00:00     USA          Louisville    KY    Unknown  Multiple craft ascending from north of Shelbyv...  38.254238  -85.759407\n",
      "2    2016-12-20 22:30:00     USA          Santa Rosa    CA     Sphere  Bright orange planet-like object sighted near ...  38.440467 -122.714431\n",
      "3    2016-12-20 19:00:00     USA              Fresno    CA     Circle      Twelve orange globes in formation over Fresno  36.729529 -119.708861\n",
      "4    2016-12-19 21:53:00     USA             Reymert    AZ     Circle  While camping in the Cottonwood canyon Rd., al...  33.229779 -111.209290\n",
      "5    2016-12-19 21:50:00     USA             Redding    CA      Light  Stargazing I saw a star just appear then moves...  40.586356 -122.391675\n",
      "6    2016-12-19 20:02:00     USA             Gilbert    AZ      Light  Undulating swarm cloud of thousands of multi-c...  33.294207 -111.737947\n",
      "7    2016-12-19 19:02:00     USA             Phoenix    AZ     Circle  Bright light in the night sky. Disappears with...  33.448587 -112.077346\n",
      "8    2016-12-19 18:30:00     USA       Huber Heights    OH   Cylinder  Entire family sees very large, stationary, bri...  39.859024  -84.111363\n",
      "9    2016-12-19 18:00:00     USA              Conway    AR    Chevron  ((NUFORC Note: No information provided by witn...  35.088696  -92.442101\n",
      "10   2016-12-19 10:30:00     USA           Anchorage    AK     Circle  4 red silent crafts flying from North to South...  61.216313 -149.894852\n",
      "11   2016-12-19 06:50:00     USA    Town and Country    MO      Light  I was heading N on Barrett Stat. Rd, saw glimm...  38.612275  -90.463453\n",
      "12   2016-12-19 03:30:00     USA      Salt Lake City    UT   Triangle  Triangular shaped object changing speed. ((ano...  40.767013 -111.890431\n",
      "13   2016-12-19 01:27:00     USA          Richardson    TX   Triangle  3 triangular shaped craft - flying in V-format...  32.948179  -96.729720\n",
      "14   2016-12-18 22:00:00  CANADA          Wetaskiwin    AB      Light  Bright Red Light Seen by Roommate and Myself i...  52.968492 -113.367920\n",
      "15   2016-12-18 21:50:00     USA          Berryville    AR  Formation  I saw my dog looking up at the sky. Looked up ...  36.364792  -93.567967\n",
      "16   2016-12-18 21:15:00     USA            Honolulu    HI      Light  I observed what appeared to be 7-10 red lights...  21.304547 -157.855676\n",
      "17   2016-12-18 21:00:00     USA          St. George    UT    Chevron  V-shaped lights heading SW at high rate of spe...  37.104153 -113.584131\n",
      "18   2016-12-18 20:40:00     USA                Bend    OR      Other  Large fleet of lights flying together in unity...  44.058173 -121.315309\n",
      "19   2016-12-18 19:30:00     USA             Mission    KS      Light  Too yellow to be airplanes. And traveling in a...  39.027783  -94.655791\n",
      "20   2016-12-18 19:00:00     USA           Lancaster    OH      Light  I thought they were plane lights at first but ...  39.713675  -82.599329\n",
      "21   2016-12-17 21:00:00     USA           San Pedro    CA      Other  Object changing colors and slowly going up int...  33.735852 -118.292293\n",
      "22   2016-12-17 20:00:00     USA              Kahana    HI   Fireball  Fireball 4 seconds in duration coming from the...  21.554394 -157.873405\n",
      "23   2016-12-17 20:00:00     USA           San Diego    CA     Sphere  Was standing on top of Sunset Cliffs overlooki...  32.717421 -117.162771\n",
      "24   2016-12-17 19:53:00     USA              Waipio    HI     Circle  Single greenish-blue sphere seen on the Island...  21.417277 -157.998676\n",
      "25   2016-12-17 19:15:00     USA                Ojai    CA       Oval  Unidentified aerial object somewhat bright in ...  34.448050 -119.242889\n",
      "26   2016-12-17 07:30:00     USA              Weston    FL     Circle  Approx. 15 red ball shaped lights traveling in...  26.103632  -80.403102\n",
      "27   2016-12-17 00:08:00     USA           Fairfield    CA   Fireball                   Large craft chases smaller craft  38.249358 -122.039966\n",
      "28   2016-12-16 23:30:00     USA          Rio Rancho    NM   Fireball  The mysterious sound and wake of an explosion ...  35.269381 -106.632819\n",
      "29   2016-12-16 22:20:00     USA              Hixson    TN      Other  V-shaped lights hovered still, disappeared, th...  35.236207  -85.298206\n",
      "30   2016-12-16 22:00:00     USA           Dade City    FL     Circle  A giant ball of light falling in the Northern ...  28.364725  -82.195918\n",
      "31   2016-12-16 19:30:00     USA             La Veta    CO      Light  A light and a cloud moving at a high rate of s...  37.505012 -105.007775\n",
      "32   2016-12-16 18:30:00     USA               Kelso    WA      Other  Falling fire looking object with a whiteshape ...  46.142033 -122.906032\n",
      "33   2016-12-16 18:00:00     USA            Skiatook    OK      Light  Bright, dense blue and white lights making 180...  36.368425  -96.001385\n",
      "34   2016-12-16 06:25:00     USA         Carson City    NV    Unknown                       Object streaking across sky.  39.163798 -119.767403\n",
      "35   2016-12-15 21:00:00     USA            Syracuse    NY       Oval  UFO hovered and maneuvered over the highway ah...  43.048122  -76.147424\n",
      "36   2016-12-15 20:30:00     USA        Johnson City    TN   Triangle  Small, low flying, fast aircraft with bright l...  36.313440  -82.353473\n",
      "37   2016-12-15 20:00:00     USA               Davie    FL        Egg  Ultra-Bright White Blimp like Object. ((anonym...  26.075729  -80.284109\n",
      "38   2016-12-15 19:00:00     USA          Winchester    KS   Triangle  I was driving down Hwy 192 just outside Winche...  39.322221  -95.266915\n",
      "39   2016-12-15 19:00:00     USA         Middlefield    CT      Light                                     Bright lights.  41.717613  -81.208688\n",
      "40   2016-12-15 18:00:00     USA              Corbin    KY      Flash  I seen a very brite streak through the air I h...  36.948699  -84.096876\n",
      "41   2016-12-15 17:50:00     USA        Simpsonville    SC       Disk  Trail and horizontal lighted craft. ((anonymou...  34.737064  -82.254283\n",
      "42   2016-12-15 17:00:00     USA         Panama City    FL     Circle  2nd time this week, same spot see time same ci...  30.165156  -85.660559\n",
      "43   2016-12-15 07:12:00     USA            Chandler    AZ    Unknown  Dropping off my son at school and we saw a bla...  33.306713 -111.840849\n",
      "44   2016-12-15 05:37:00     USA               Ozark    AL    Unknown  It looked like a plane moving slowly in the sk...  33.547741  -86.559166\n",
      "45   2016-12-14 20:15:00     USA             Cumming    GA      Light  Walking tonight and wife asked what was fallin...  34.207320  -84.140192\n",
      "46   2016-12-14 19:54:00     USA  North Chesterfield    VA  Formation                       Odd Lights over Bon Air, VA.  38.656056  -90.574203\n",
      "47   2016-12-14 19:21:00     USA              Dabney    KY   Triangle  Two triangle-shaped aircraft with unusual ligh...  37.183968  -84.549942\n",
      "48   2016-12-14 17:00:00     USA             Clinton    CT     Circle                                     Was not a jet.  42.263060  -71.805222\n",
      "49   2016-12-14 09:00:00     USA           San Diego    CA       Oval                                  Angel, protector.  32.717421 -117.162771\n",
      "50   2016-12-14 06:00:00     USA    South Burlington    VT      Light  6am I was taking pictures of the moon. No star...  44.466994  -73.170960\n",
      "51   2016-12-14 05:35:00     USA     Prescott Valley    AZ    Unknown  Three blinking lights (in order) hovering w/ a...  34.610024 -112.315721\n",
      "52   2016-12-14 05:00:00     USA          Monroe Twp    NJ    Unknown       Loud chopper-like sound over Monroe twp, NJ.  40.318328  -74.420218\n",
      "53   2016-12-14 01:00:00     USA            Berthoud    CO       Disk  Large glowing disk in the sky moving slowly we...  40.308317 -105.081092\n",
      "54   2016-12-13 23:00:00     USA        Liberty Lake    WA   Triangle  Standing on my back porch to smoke a cig look ...  47.663137 -117.085572\n",
      "55   2016-12-13 22:20:00     USA             Chicago    IL      Light            Bright white light moving over Chicago.  41.875555  -87.624421\n",
      "56   2016-12-13 22:00:00     USA            La Jolla    CA      Light                       Bright floating white light.  32.847271 -117.274209\n",
      "57   2016-12-13 21:15:00     USA     Fort Lauderdale    FL     Circle  Rapidly moving green light flying south to nor...  26.125438  -80.138151\n",
      "58   2016-12-13 21:00:00     USA        Cedar Rapids    IA   Triangle  ((HOAX??)) WATCHING THE METEOER SHOWER WHEN WE...  41.975887  -91.670405\n",
      "59   2016-12-13 19:00:00     USA         Panama City    FL     Circle         Bright, beaming ball. ((anonymous report))  30.165156  -85.660559\n",
      "60   2016-12-13 19:00:00     USA                Hale    MI      Light  I saw orange lights that split into multiple l...  44.377795  -83.804709\n",
      "61   2016-12-13 19:00:00     USA             Dubuque    IA      Light  Stopped at the light at the intersection of Hi...  42.500622  -90.664797\n",
      "62   2016-12-13 18:30:00     USA           St. Johns    FL    Chevron  We were walking across parking lot to restaura...  29.903228  -81.414547\n",
      "63   2016-12-13 05:35:00     USA     West Des Moines    IA      Light  Large ball of light falling to earth at a incr...  41.564534  -93.759528\n",
      "64   2016-12-13 03:37:00     USA            Pasadena    CA    Unknown  Observed a pair of red light N of Pasadena no ...  34.147645 -118.144478\n",
      "65   2016-12-12 21:30:00     USA          Hagerstown    MD   Fireball                                    Green fire aux.  39.641922  -77.720264\n",
      "66   2016-12-12 20:45:00     USA        Jacksonville    FL      Light  Looking in the east night sky, two airplanes w...  30.332184  -81.655651\n",
      "67   2016-12-12 19:07:00     USA                Taos    NM      Light  Large light, equivalent to car lights 1 mile a...  36.407249 -105.573066\n",
      "68   2016-12-12 19:06:00     USA        Stevens Pass    WA   Changing  Shifting orb witnessed at Stevens Pass, WA. ((...  47.745635 -121.089172\n",
      "69   2016-12-12 19:00:00     USA            Marietta    GA      Light  The light remained in same location for at lea...  33.952847  -84.549615\n",
      "70   2016-12-12 18:50:00     USA   West Collingswood    NJ     Sphere  There were 2 red light sphere shaped craft ove...  39.906224  -75.092952\n",
      "71   2016-12-12 18:30:00     USA    South Lake Tahoe    CA      Light  Bright pulsating light that was met up or buzz...  38.929125 -119.987846\n",
      "72   2016-12-12 17:32:00     USA               Salem    OR      Other       Bright spark slowly cruising around the moon  44.939157 -123.033121\n",
      "73   2016-12-12 07:30:00     USA        Eden Prairie    MN      Light  Bright little point of light turns massive and...  44.845436  -93.529724\n",
      "74   2016-12-12 06:20:00     USA          Smithville    MO     Circle  Stationary bright light drops to the ground. (...  39.386944  -94.581066\n",
      "75   2016-11-12 22:30:00     USA               Casey    IA      Light  Blue/white light flying at an insane rate of s...  41.504987  -94.519415\n",
      "76   2016-11-12 20:00:00     USA          St. George    UT      Other               Strange diagonal string like lights.  37.104153 -113.584131\n",
      "77   2016-11-12 18:00:00     USA        Fort Collins    CO      Other  Line of 3-4 red lights that hovered, then move...  40.550853 -105.066808\n",
      "78   2016-11-12 17:45:00     USA              Helena    MT     Sphere  Bright orange/reddish circular light over Hele...  46.592712 -112.036109\n",
      "79   2016-11-12 16:00:00     USA        Independence    LA      Light  Light over sky in Louisiana and blinked red 3 ...  37.224236  -95.708313\n",
      "80   2016-11-12 14:00:00     USA             Chester    PA  Formation      Saw UFO, over DE river.....4 flashing lights.  39.849557  -75.355746\n",
      "81   2016-11-12 08:56:00     USA      Trabuco Canyon    CA     Sphere  Bright white light shines above mountain tops ...  33.662623 -117.589380\n",
      "82   2016-11-12 06:15:00     USA    Gallatin Gateway    MT     Circle          Orbs buzzing, flash around over mountains  45.591596 -111.197730\n",
      "83   2016-10-12 23:47:00     USA         Hot Springs    SD     Circle  I came outside on my front porch to get some f...  43.431646 -103.474363\n",
      "84   2016-10-12 22:00:00     USA              Erving    MA      Flash  Bright lights in different colors, moving in S...  42.600086  -72.398141\n",
      "85   2016-10-12 21:00:00     USA            Farragut    TN      Light  Bright light over Farragut. ((NUFORC Note: We ...  35.884524  -84.153526\n",
      "86   2016-10-12 21:00:00     USA               Delta    CO   Fireball  12/10/2016, Delta, CO, 7 orange/pink fireballs...  38.836878 -107.856829\n",
      "87   2016-10-12 20:41:00     USA      Virginia Beach    VA      Cigar                                Virginia Beach UFO.  36.852984  -75.977418\n",
      "88   2016-10-12 18:52:00     USA             Kayenta    AZ       Disk  Gigantict Disc with rotating side lights heade...  36.717954 -110.260601\n",
      "89   2016-10-12 18:30:00     USA             Lahaina    HI  Rectangle  White/blue bright object travelling west @ 6:3...  20.872684 -156.676273\n",
      "90   2016-10-12 18:15:00     USA              Navajo    NM      Light                        Single row of white lights.  35.904086 -109.033535\n",
      "91   2016-10-12 18:00:00     USA            Santa Fe    NM  Formation  Have never seen so many at one time flying tog...  35.687000 -105.937800\n",
      "92   2016-10-12 08:40:00     USA           Arlington    VA       Oval  Oval object making no noise moving N. to S. lo...  38.890396  -77.084158\n",
      "93   2016-10-12 08:37:00     USA             Hickory    NC       Cone  Caught a glimpse of what seemed to be a glare,...  35.733190  -81.341200\n",
      "94   2016-10-12 07:12:00     USA            Pearland    TX       Oval  White round object comes under front door and ...  29.563976  -95.286430\n",
      "95   2016-09-12 22:00:00     USA             Phoenix    AZ    Unknown  We were looking towards east and seen in the s...  33.448587 -112.077346\n",
      "96   2016-09-12 21:50:00     USA            Portland    OR      Flash                 Pulsing green light over Portland.  45.520247 -122.674195\n",
      "97   2016-09-12 21:39:00     USA             Oldsmar    FL     Sphere  Blue orb appears on the photos of the moon. ((...  28.069060  -82.650191\n",
      "98   2016-09-12 21:30:00     USA             Kingman    AZ   Triangle  Aircraft w/3 large bright white lights. Lights...  35.189443 -114.053006\n",
      "99   2016-09-12 20:30:00     USA      Fredericksburg    VA     Circle  Observed what appeared to be a hovering craft ...  38.303184  -77.460540\n",
      "100  2016-09-12 19:30:00     USA             Lancing    TN    Diamond  I saw a diamond shaped object with two bright ...  36.120631  -84.653831\n",
      "101  2016-09-12 19:00:00     USA           Tewksbury    MA   Triangle  On 495 N, caught sight of two unusually bright...  42.610648  -71.234225\n",
      "102  2016-09-12 16:30:00     USA             Newport    ME       Disk  Sighted a disk/saucer shaped craft with rotati...  44.835342  -69.273936\n",
      "103  2016-09-12 05:25:00  CANADA               Truro    NS       Oval  Oval/ 1st was oval yellowsish red white glowin...  45.366668  -63.300006\n",
      "104  2016-08-12 19:30:00     USA         Jerseyville    IL   Triangle         Near perfect triangle 3 solid huge lights.  39.120047  -90.328448\n",
      "105  2016-08-12 17:30:00     USA           St. Clair    MO      Light  Multiple colerd light on more than one occasio...  38.059294  -93.794545\n",
      "106  2016-08-12 17:15:00     USA            Cromwell    CT     Circle                     2 Crafts. ((anonymous report))  41.286134  -72.355758\n",
      "107  2016-08-12 16:00:00     USA             Atlanta    GA     Sphere  Seeing orange orbs on the ground and in the ai...  33.749099  -84.390185\n",
      "108  2016-07-12 00:00:00     USA     Saint Augustine    FL     Circle  I was in my car driving South on San Marco Blv...  29.894695  -81.314539\n",
      "109  2016-07-12 23:30:00     USA           Anchorage    AK      Flash  Three stationary light pulses over the Chugach...  61.216313 -149.894852\n",
      "110  2016-07-12 22:50:00     USA              Napili    HI   Fireball                             Large bright fireball.  20.971755 -156.675605\n",
      "111  2016-07-12 22:10:00     USA          Bellingham    WA   Fireball          Meteor like white decending east to west.  48.754402 -122.478860\n",
      "112  2016-07-12 19:15:00     USA          Snellville    GA     Circle  Moving light sphere. ((NUFORC Note: We suspect...  33.857328  -84.019911\n",
      "113  2016-07-12 18:53:00     USA           Las Vegas    NV      Other  Pyramid or triangle or similar shape.. maybe r...  36.166286 -115.149225\n",
      "114  2016-07-12 18:20:00     USA           Riverdale    GA   Cylinder  While standing outside smoking,my neighbors ca...  33.572611  -84.413259\n",
      "115  2016-07-12 18:00:00     USA            Plymouth    MA      Light  Noticed large bright light traveling E towards...  41.958437  -70.667258\n",
      "116  2016-07-12 07:00:00     USA             Orlando    FL   Fireball  I was outside on back porch and saw a bright r...  28.547979  -81.412784\n",
      "117  2016-06-12 20:45:00     USA          High Point    NC      Other  Unique Craft Spotted above trees, still motion...  35.955692  -80.005318\n",
      "118  2016-06-12 19:15:00     USA              Austin    NV   Fireball  I work for a major national ((deleted--corp.) ...  39.493259 -117.069538\n",
      "119  2016-06-12 19:00:00     USA              Austin    NV      Other  Dark yellow pulsating lights in the western sk...  39.493259 -117.069538\n",
      "120  2016-06-12 18:00:00     USA               Nairn    LA  Formation                                       Orange orbs.  29.427996  -89.610895\n",
      "121  2016-06-12 17:30:00     USA             Holland    PA     Sphere  It was a bright red sphere that lit up the woo...  40.172887  -74.992669\n",
      "122  2016-06-12 17:00:00     USA           Manhattan    NY    Unknown  I believe that an unknown creature teleported ...  40.790278  -73.959722\n",
      "123  2016-06-12 13:15:00     USA        Lake Jackson    TX    Unknown                   House Shaking Aerial Down Burst.  29.033857  -95.434386\n",
      "124  2016-06-12 07:15:00     USA               Union    IL    Chevron  There is never a static light in this area of ...  37.461645  -89.250479\n",
      "125  2016-06-12 05:00:00     USA          Osterville    MA      Light  Bright light traveling horizontally low across...  41.629340  -70.386680\n",
      "126  2016-06-12 01:40:00     USA             Sunrise    FL     Circle                          Multi Color changing UFO.  26.148245  -80.328886\n",
      "127  2016-05-12 22:40:00  CANADA              Regina    SK      Light                  2 blue lights balls moving close.  50.448095 -104.615818\n",
      "128  2016-05-12 20:05:00     USA             Niantic    CT   Triangle  Low flying UFO, \"S\" shape flight path, then fl...  32.780920 -117.252470\n",
      "129  2016-05-12 18:39:00     USA               Ivins    UT     Circle  Vertical red dots of lights on horizon that lo...  37.168591 -113.679406\n",
      "130  2016-05-12 18:15:00     USA             Haskell    NJ   Triangle                Triangle over Ringwood and Haskell.  41.028430  -74.295982\n",
      "131  2016-05-12 18:00:00     USA        Westmoreland    NH       Disk  As I was hiking through a field from a day of ...  42.962025  -72.442310\n",
      "132  2016-05-12 17:40:00  CANADA             Keswick    ON    Unknown  Silent white light/sphere in sky, light fades,...  44.227867  -79.461450\n",
      "133  2016-05-12 16:00:00     USA       Elizabethtown    PA   Changing  Light seen changing shape and color moving rap...  40.153364  -76.604252\n",
      "134  2016-05-12 04:00:00     USA             Webster    NY    Unknown                    Very loud bang and bed shaking.  43.212285  -77.429994\n",
      "135  2016-05-12 03:30:00     USA           Stratford    CT      Light  Very bright object moving slowly with flashing...  37.258471  -79.962260\n",
      "136  2016-05-12 01:40:00     USA             La Pine    OR   Fireball  Large bright orange fireball light silently St...  43.670400 -121.503636\n",
      "137  2016-04-12 23:10:00     USA         Sauk Rapids    MN   Triangle  This was a triangular craft. 3 or 4 lights on ...  45.591910  -94.166101\n",
      "138  2016-04-12 22:40:00     USA    Huntington Beach    CA    Chevron  Fast-moving craft with gray lights over suburb...  33.678334 -118.000017\n",
      "139  2016-04-12 20:00:00     USA            Freeport    ME    Diamond  Wife and I have seen roughly diamond shaped ob...  43.857307  -70.103760\n",
      "140  2016-04-12 19:32:00     USA         Sioux Falls    SD      Light  I was stopped at the intersection of 26th and ...  43.549975  -96.700327\n",
      "141  2016-04-12 19:10:00     USA              Arcade    GA     Circle         Very strange, very bright, flashing light.  34.077888  -83.561554\n",
      "142  2016-04-12 19:00:00     USA       Redwood Falls    MN     Circle  Bright light shot across the sky. It wasn't as...  44.539372  -95.116448\n",
      "143  2016-04-12 18:15:00     USA            Brinklow    MD     Circle  4 lights traveling clockwise, converging and t...  39.165940  -77.015533\n",
      "144  2016-04-12 18:00:00     USA       Winter Harbor    ME       Disk  I saw this Unidentified object following me do...  44.395523  -68.083649\n",
      "145  2016-04-12 17:30:00     USA              Severn    MD      Light  Strange, silent, orange moving lights in sky, ...  39.127886  -76.686913\n",
      "146  2016-04-12 15:03:00     USA       Mission Viejo    CA      Light  Bright lights dancing in the sky changing in b...  33.596568 -117.659405\n",
      "147  2016-04-12 14:16:00     USA              Marana    AZ    Unknown  Black nose aircraft near sun. ((anonymous repo...  32.444699 -111.215709\n",
      "148  2016-04-12 12:10:00  CANADA              London    ON      Other                    Possible military drone or UFO.  42.988576  -81.246643\n",
      "149  2016-03-12 23:37:00     USA             Matawan    NJ      Flash  Driving down Rt. 35, when we see a huge bright...  40.414830  -74.229589\n",
      "150  2016-03-12 21:00:00     USA          Morgantown    WV      Light               Blue light moving up and down o. Sky  39.629681  -79.955944\n",
      "151  2016-03-12 19:30:00     USA        Corte Madera    CA       Disk  Huge long luminous red cigar disc craft seen i...  37.925481 -122.527475\n",
      "152  2016-03-12 18:15:00     USA         Boone Grove    IN       Disk  Driving north from Wheatfield IN, into Bone Gr...  41.354760  -87.129474\n",
      "153  2016-03-12 18:00:00     USA           Rockville    MD       Oval  I saw 3-4 huge oval cloudy shapes darting zig ...  39.084005  -77.152757\n",
      "154  2016-03-12 17:15:00     USA     North Snohomish    WA  Formation  Bright oddly shaped light in the clouds in Nor...  47.939411 -122.077989\n",
      "155  2016-03-12 16:00:00     USA            Whittier    CA  Formation  I was standing outside in my backyard looking ...  33.974893 -118.033697\n",
      "156  2016-03-12 16:00:00     USA          Santa Cruz    CA      Light  1 dozen light orbs seen over 20 minutes travel...  36.973590 -122.026057\n",
      "157  2016-03-12 14:00:00     USA              Gorham    ME    Unknown  Saw a steady light going across sky. Suddenly ...  43.679694  -70.442934\n",
      "158  2016-02-12 22:00:00     USA        Philadelphia    PA      Light  Lights in the sky in Philly!!! ((NUFORC Note: ...  39.952399  -75.163590\n",
      "159  2016-02-12 20:00:00     USA          Reidsville    NC      Light  Last night around 8:00pm I was outside with me...  36.354859  -79.664475\n",
      "160  2016-02-12 18:00:00     USA             Raphine    VA     Circle  Large round craft over Raphine, VA, silent wit...  37.937355  -79.232810\n",
      "161  2016-02-12 17:13:00     USA             Chester    VA      Other  Two balls of lights hurling through air, then ...  37.356909  -77.442182\n",
      "162  2016-02-12 17:00:00     USA             Ashland    VA    Unknown  Looked like a meteor or something falling at a...  37.759401  -77.480660\n",
      "163  2016-02-12 09:26:00     USA          Snellville    GA   Triangle          It was amazing, it was my first sighting.  33.857328  -84.019911\n",
      "164  2016-01-12 20:35:00     USA          Plainville    CT     Circle       Two orange/pink lights following each other.  41.674543  -72.858156\n",
      "165  2016-01-12 19:45:00     USA            Portland    TN      Light                                2 brilliant lights.  36.581709  -86.516383\n",
      "166  2016-01-12 18:52:00     USA            Glendale    AZ      Light  Fastest light I've ever seen move in the sky w...  33.538985 -112.185816\n",
      "167  2016-01-12 18:45:00     USA              Conway    SC  Formation  3 orange lights followed by 5 blue/white flash...  33.836003  -79.047814\n",
      "168  2016-01-12 18:17:00     USA      San Bernardino    CA      Light        Scanning type light appears over mountains.  34.108345 -117.289765\n",
      "169  2016-01-12 18:00:00     USA             Amherst    NY       Oval  Odd, mostly stationary lights, in night sky, w...  42.978392  -78.799762\n",
      "170  2016-01-12 17:30:00     USA          Montgomery    AL     Circle  2 extremely bright lights moving slowly and di...  40.854156  -78.271103\n",
      "171  2016-01-12 16:30:00     USA         Asbury Park    NJ       Oval                             Jersey shore sighting.  40.220391  -74.012082\n",
      "172  2016-11-30 23:45:00     USA             Edmonds    WA   Changing  Silent curved shape changing object gliding th...  47.810574 -122.377495\n",
      "173  2016-11-30 23:30:00     USA         Camp Shelby    MS    Unknown  UFO arc maneuver near Camp Shelby, MS, air spa...  31.197532  -89.207826\n",
      "174  2016-11-30 21:00:00     USA            Riverton    WY     Circle  Seen two circular objects south of residence l...  38.515529 -121.532149\n",
      "175  2016-11-30 20:40:00     USA            Radcliff    KY   Triangle  As I was driving down Deckard School Rd. in Ra...  37.840346  -85.949130\n",
      "176  2016-11-30 20:00:00     USA           Kingsland    GA    Unknown  Intermittent bright light (not flashing like p...  30.799956  -81.689826\n",
      "177  2016-11-30 19:30:00     USA        Fayetteville    TX   Triangle  I was just star gazing around seven thirty pm ...  29.905782  -96.672753\n",
      "178  2016-11-29 23:30:00     USA             Belmont    MI     Circle  Ball of light approaching a river that slowed ...  40.005774  -81.009751\n",
      "179  2016-11-29 22:47:00     USA          Bridgeport    WV       Oval  Blinking lights, spinning in a circular rotation.  39.286479  -80.256198\n",
      "180  2016-11-29 22:27:00     USA     American Canyon    CA   Triangle  I observed a large object flying in the night ...  38.223457 -122.227043\n",
      "181  2016-11-29 22:15:00     USA    Colorado Springs    CO   Triangle  ((HOAX?)) I saw a big triangle with 3 lights o...  38.833958 -104.825348\n",
      "182  2016-11-29 21:00:00  CANADA       Niagara Falls    ON     Circle  Star-like and grey spheroid hover Niagara Fall...  43.108944  -79.063619\n",
      "183  2016-11-29 20:15:00     USA         Carlinville    IL  Rectangle  Was driving in a rural area in Carlinville, IL...  39.279770  -89.881766\n",
      "184  2016-11-29 19:45:00     USA           Fairfield    CA   Changing  11/29/2016, Fairfield, CA, large floating obje...  38.249358 -122.039966\n",
      "185  2016-11-29 19:45:00     USA           Englewood    CO    Unknown  At 7:45 PM on 11/29/16 in the sky heading nort...  39.648206 -104.987964\n",
      "186  2016-11-29 19:00:00     USA              Corona    CA     Circle  I was watching television in the house when i ...  37.006616 -121.996906\n",
      "187  2016-11-29 18:50:00     USA             Midland    MI   Triangle  Two bright lights over bay city rd, one came t...  43.615583  -84.247212\n",
      "188  2016-11-29 18:20:00     USA          Janesville    WI      Other  ((HOAX??)) Crescent shaped craft with seven ev...  42.715185  -88.990774\n",
      "189  2016-11-29 12:10:00     USA          Plainfield    IL   Changing  Bright white object hovering Southward over Pl...  41.623191  -88.228432\n",
      "190  2016-11-29 06:45:00     USA        Happy Valley    OR     Circle     Very large slow moving orb over Portland Area.  43.135892 -122.380470\n",
      "191  2016-11-29 06:00:00     USA        Anchor Point    AK   Fireball          Glowing flashing orbs moving erratically.  59.768260 -151.677552\n",
      "192  2016-11-29 00:17:00     USA             Fishers    IN   Triangle  I was driving northbound on SR 37 at approxima...  39.955593  -86.013873\n",
      "193  2016-11-28 23:00:00     USA           Sutherlin    OR      Other  Orange non-blinking tight group of lights flyi...  43.389663 -123.312360\n",
      "194  2016-11-28 23:00:00     USA            Tazewell    VA     Circle  Was walking dog looked up at sky what i though...  37.123604  -81.568413\n",
      "195  2016-11-28 22:00:00     USA               Athol    MA      Light  2 different lights at the same time, same spot...  42.595920  -72.226750\n",
      "196  2016-11-28 19:00:00     USA     American Canyon    CA    Chevron  This was a very large objuect in the sky and o...  38.223457 -122.227043\n",
      "197  2016-11-28 18:48:00     USA      Ste. Genevieve    MO      Light  Bright white light became dim orange/red for b...  37.981442  -90.041779\n",
      "198  2016-11-28 18:35:00     USA      St. Petersburg    FL     Circle  Same light shape 2 different days same approxi...  27.773305  -82.646993\n",
      "199  2016-11-28 18:30:00     USA         Waynesville    MO      Light  Saw a red orange white light off in the distan...  37.828652  -92.200723\n",
      "200  2016-11-28 18:00:00     USA             Seekonk    RI     Circle  White circular shaped object flying about 300 ...  41.867455  -71.379777\n",
      "201  2016-11-28 17:15:00     USA            Vineland    NJ   Changing  Mother noticed a bright light in the sky and d...  39.473152  -75.002026\n",
      "202  2016-11-28 16:45:00     USA           Fairfield    ME      Cross  One light in the center, the brightest then 4 ...  44.588511  -69.599075\n",
      "203  2016-11-28 06:51:00     USA              Athens    GA      Cigar                                White flying cigar.  33.943854  -83.397290\n",
      "204  2016-11-28 06:00:00     USA         Centerville    IL   Fireball  We where just sitting in the car an we seen 2 ...  31.257958  -95.978292\n",
      "205  2016-11-28 01:29:00     USA         Mooresville    NC      Light  2 really bright lights separately lit up my ro...  35.584860  -80.810072\n",
      "206  2016-11-28 00:00:00     USA      Grand Junction    CO    Unknown  Strange high-pitched frequencies and a beam of...  39.063956 -108.550732\n",
      "207  2016-11-27 22:15:00  CANADA      Carrying Place    ON      Light  White light, maybe elliptical in shape with se...  43.808812  -79.233402\n",
      "208  2016-11-27 19:30:00     USA      St. Petersburg    FL     Circle  Same light shape 2 different days same approxi...  27.773305  -82.646993\n",
      "209  2016-11-27 16:58:00     USA           Bay Shore    NY      Light  Super bright spherical stationary object hover...  40.725099  -73.245395\n",
      "210  2016-11-27 12:45:00     USA            Longmont    CO  Rectangle  One rectangular object was in the sky with wha...  40.167212 -105.101929\n",
      "211  2016-11-27 12:35:00     USA             Kenmore    WA     Circle                                       Bird or UFO?  47.757320 -122.244015\n",
      "212  2016-11-27 11:30:00     USA                Maui    HI    Unknown  Two brown metal pipes side by side in cloud th...  20.802957 -156.310683\n",
      "213  2016-11-27 10:00:00     USA           Allentown    PA   Fireball  ((HOAX??)) Orange UFO in a swarm in Allentown,...  40.602206  -75.471279\n",
      "214  2016-11-27 03:20:00     USA        Lake Charles    LA      Light  Was at bridge and green oval orb shot pass me ...  30.226595  -93.217376\n",
      "215  2016-11-27 00:07:00     USA             Raymond    NE     Circle  Bright circular light moving from Raymond to L...  40.956282  -96.783411\n",
      "216  2016-11-26 23:42:00     USA              Bailey    CO       Disk  I had stepped out on my tiny porch to view the...  34.034919 -102.814937\n",
      "217  2016-11-26 23:33:00     USA              Bergen    NY   Triangle                     Triangle shaped flying object.  43.085391  -77.941714\n",
      "218  2016-11-26 23:30:00     USA          Middletown    NY      Light  distant bright twinking light shifting colors ...  41.445927  -74.422934\n",
      "219  2016-11-26 22:30:00     USA           Charlotte    NC      Light                  White very bright burst of light.  35.227087  -80.843127\n",
      "220  2016-11-26 22:00:00     USA           Davenport    FL     Circle  Slow fireball with no tail floating over Centr...  28.161405  -81.601742\n",
      "221  2016-11-26 21:45:00     USA          Allen Park    MI      Light                        Strange blue pulsing light.  42.257539  -83.211037\n",
      "222  2016-11-26 19:35:00     USA           Naugatuck    CT      Light  Bright light originally mistaken for a star. B...  41.486019  -73.050943\n",
      "223  2016-11-26 19:27:00     USA              Venice    FL      Light                     UFO spotting in Venice lights.  27.099871  -82.454413\n",
      "224  2016-11-26 19:00:00     USA            Fairview    OR   Triangle  A large craft with 4 solid white lights was fl...  45.546930 -122.437039\n",
      "225  2016-11-26 18:30:00     USA           McDonough    GA      Light  3 lights in the night sky one was bigger the o...  33.447336  -84.146861\n",
      "226  2016-11-26 18:00:00     USA           Spearfish    SD       Disk                                  \"Classic\" saucer.  44.490817 -103.859370\n",
      "227  2016-11-26 18:00:00     USA           Shallotte    NC   Changing                     Red and green dropping lights.  33.973228  -78.385837\n",
      "228  2016-11-26 17:30:00     USA            Brooklyn    NY   Triangle  I noticed two yellow light which resemble airp...  40.645310  -73.955023\n",
      "229  2016-11-26 16:56:00     USA         McChord AFB    WA   Fireball  Looked up above my house on jblm, Lewis main. ...  47.137700 -122.476500\n",
      "230  2016-11-26 15:00:00     USA           Vacaville    CA     Sphere  Bright light staying perfectly still in s west...  38.356577 -121.987744\n",
      "231  2016-11-26 04:00:00     USA       West New York    NJ      Light  It was a bright neon blue light that moved swi...  40.785529  -74.008300\n",
      "232  2016-11-25 22:00:00     USA              Olathe    KS    Chevron  I was standing outside and happened to look up...  38.884387  -94.816113\n",
      "233  2016-11-25 20:47:00     USA              Tyrone    GA      Light  I was driving with the boyfriend when we saw t...  33.672351  -82.861256\n",
      "234  2016-11-25 20:00:00     USA          Vero Beach    FL     Sphere  Saw a formation of approx. 2 doz. reddish/ ora...  27.638716  -80.397540\n",
      "235  2016-11-25 19:00:00     USA             Bedford    IN     Sphere  5 orange orbs, aligned somewhat vertically, th...  38.861162  -86.487215\n",
      "236  2016-11-25 19:00:00     USA              Nevada    NV      Light  Lights over Nevada seen from commercial airplane.  39.515882 -116.853723\n",
      "237  2016-11-25 18:30:00     USA             Brandon    FL   Fireball                                Ufo on fire in sky.  27.928464  -82.288045\n",
      "238  2016-11-25 18:30:00     USA         Port Orange    FL    Unknown  I saw a suspicious object in the sky at dusk t...  29.101510  -81.010554\n",
      "239  2016-11-25 17:30:00     USA            Torrance    CA      Light  Red, green ball of light moving sporadically, ...  33.835849 -118.340629\n",
      "240  2016-11-25 11:00:00     USA            Longmont    CO     Circle  My 9-year-old brother looked up into the sky b...  40.167212 -105.101929\n",
      "241  2016-11-25 07:48:00     USA      Corpus Christi    TX    Unknown  I have a picture. ((NUFORC Note: Lens flare? PD))  27.800254  -97.395574\n",
      "242  2016-11-25 01:30:00     USA       Warner Robins    GA      Light  Light in sky increases in brightness and then ...  32.598313  -83.625677\n",
      "243  2016-11-25 01:11:00     USA           Newcastle    WA      Flash  Flash of light over Newcastle, WA. Flashed twi...  47.539574 -122.156333\n",
      "244  2016-11-24 23:00:00     USA              Graham    NC     Circle  The object was blinking different colors. It w...  36.069026  -79.400576\n",
      "245  2016-11-24 21:45:00     USA           Annapolis    MD      Light              Orange lights by Severn River bridge.  38.978640  -76.492786\n",
      "246  2016-11-24 20:30:00     USA               Balko    OK      Light  Seen a red light heading south it turned blue ...  36.660075 -100.679207\n",
      "247  2016-11-24 19:30:00     USA               Largo    FL    Unknown              Erratic non-specific direction \"dot.\"  27.909467  -82.787324\n",
      "248  2016-11-24 19:12:00     USA          Woodbridge    NJ      Light  2 bright white lights flying NE over Fords, pa...  40.554180  -74.286001\n",
      "249  2016-11-24 19:12:00     USA          Woodbridge    NJ       Oval  2 bright white lights flying NE over Fords, pa...  40.554180  -74.286001\n",
      "...                  ...     ...                 ...   ...        ...                                                ...        ...         ...\n",
      "4927 2016-01-18 23:20:00     USA         Bakersfield    CA   Fireball  A ball engulfed in flames tumbled through the ...  35.373871 -119.019464\n",
      "4928 2016-01-18 22:40:00     USA          Scottsdale    AZ      Light       Bright white lights and lots of helicopters.  33.509121 -111.899236\n",
      "4929 2016-01-18 20:45:00     USA           Anchorage    AK      Light  Two separate bright lights within a few second...  61.216313 -149.894852\n",
      "4930 2016-01-18 20:45:00     USA            Goodyear    AZ      Light  Three in triangle form followed by approximate...  33.397565 -112.433329\n",
      "4931 2016-01-18 20:30:00     USA          Heber City    UT  Formation  Five oranges lights in a formation slowly movi...  40.506526 -111.413309\n",
      "4932 2016-01-18 20:00:00  CANADA       Fort McMurray    AB      Other  Was walking home from work seen four red circl...  56.724101 -111.376648\n",
      "4933 2016-01-18 19:07:00     USA              Effort    PA       Disk  2 blue/red/white lights saucers hovering near ...  40.939258  -75.434907\n",
      "4934 2016-01-18 16:00:00     USA           Hillsboro    ND     Circle  7 or 8 bright round, or cylinder shaped, orang...  47.403868  -97.062031\n",
      "4935 2016-01-18 07:41:00     USA             Coleman    WI      Other  Bright light with trail heading straight towar...  45.064984  -88.034270\n",
      "4936 2016-01-17 20:30:00     USA           Manhattan    NY      Other  Bright white circular cloud with rotating orbs...  40.790278  -73.959722\n",
      "4937 2016-01-17 19:30:00     USA            Angleton    TX      Light  Me and my wife we're driving from lake Jackson...  29.169410  -95.431885\n",
      "4938 2016-01-17 15:00:00     USA         Ponte Vedra    FL  Formation  10 oblong metallic objects creating formations...  30.227464  -81.380082\n",
      "4939 2016-01-17 14:56:00     USA             Mineola    TX      Other  Extreme altitude object moving at high speed N...  32.663188  -95.488289\n",
      "4940 2016-01-17 11:47:00     USA          Joppatowne    MD      Other                              ISS live feed images.  39.415624  -76.359251\n",
      "4941 2016-01-17 11:00:00     USA       San Francisco    CA   Triangle  A photo showing what appears to be a flying ob...  37.779281 -122.419236\n",
      "4942 2016-01-17 04:15:00     USA              Accord    NY   Triangle  Three gold/white lights - either an individual...  41.785649  -74.229037\n",
      "4943 2016-01-16 22:00:00     USA               Amery    WI      Other  Saw big white lights, scattered 100 miles appa...  45.306906  -92.362137\n",
      "4944 2016-01-16 21:12:00     USA            Neskowin    OR       Oval  The misty, illuminated oval traveled from the ...  45.106772 -123.984282\n",
      "4945 2016-01-16 21:00:00     USA                Bend    OR    Chevron  We were driving East on Cooley Road and saw an...  44.058173 -121.315309\n",
      "4946 2016-01-16 19:54:00     USA            Woodside    NY       Oval  We saw a large, oval bright blue light in the ...  42.521728  -78.765029\n",
      "4947 2016-01-16 19:54:00     USA            Woodside    NY       Oval  An enormous purple/indigo oval shaped light se...  42.521728  -78.765029\n",
      "4948 2016-01-16 19:35:00     USA         Mill Spring    NC      Cigar  Slim object with band of flickering lights see...  35.297666  -82.161017\n",
      "4949 2016-01-16 19:30:00     USA          Sacramento    CA     Circle    Flying object with red flames shooting from top  38.581572 -121.494400\n",
      "4950 2016-01-16 19:00:00     USA          Greensburg    PA      Other                  Lantern-shaped lights in the sky.  40.301458  -79.538929\n",
      "4951 2016-01-16 18:30:00     USA             Denvile    NJ     Circle  Driving along route 10 near tabor road in morr...  40.888009  -74.480052\n",
      "4952 2016-01-16 17:54:00     USA     Deerfield Beach    FL     Circle  2 dark circles moving parallel in the sky and ...  26.318342  -80.099631\n",
      "4953 2016-01-16 16:45:00     USA        Florham Park    NJ       Disk         Objects appeared in photo taken at sunset.  40.787878  -74.388207\n",
      "4954 2016-01-16 15:00:00     USA            Columbia    SC       Disk  Extremely fast bullet shaped craft moving E-W ...  34.000749  -81.034331\n",
      "4955 2016-01-16 03:00:00  CANADA      Kawartha Lakes    ON    Unknown        Bright Light followed by pulsating red glow  44.549484  -78.261440\n",
      "4956 2016-01-16 01:00:00     USA            Roseburg    OR   Fireball  I was standing on my front deck which faces to...  43.216505 -123.341738\n",
      "4957 2016-01-16 01:00:00     USA       Manassas Park    VA       Disk  At times resembles a star. At times resembles ...  38.784003  -77.469711\n",
      "4958 2016-01-15 00:00:00     USA            Scranton    PA  Rectangle                  ((HOAX??)) UFO over Scranton, PA.  41.408687  -75.662129\n",
      "4959 2016-01-15 23:00:00     USA              Warren    IL     Circle  Bright star. but with binoculars I saw green l...  40.844283  -90.616841\n",
      "4960 2016-01-15 22:30:00     USA            Morganza    MD      Light  ((HOAX??)) I happened to look up and stare for...  38.362091  -76.707915\n",
      "4961 2016-01-15 20:30:00     USA              Austin    TX     Circle  2 orange lights and a giant white circle spott...  30.271129  -97.743699\n",
      "4962 2016-01-15 20:00:00  CANADA       Sherwood Park    AB  Formation            Red lights in sky, flying in formation.  53.525696 -113.296631\n",
      "4963 2016-01-15 19:15:00     USA           Liverpool    NY      Light  Red/orange light moving very slowly above tree...  43.106456  -76.217705\n",
      "4964 2016-01-15 17:30:00     USA          Round Rock    TX      Light  I was playing with grand kid and lay on ground...  30.508235  -97.678893\n",
      "4965 2016-01-15 14:00:00     USA         Carson City    NV    Unknown  I was training horses (4) when they all stoppe...  39.163798 -119.767403\n",
      "4966 2016-01-15 11:45:00     USA                Road    TX    Diamond                                Diamond in the sky.  30.724113  -95.529881\n",
      "4967 2016-01-15 10:00:00     USA       Desert Center    CA     Sphere  White plastic, like a wastebasket trash bag, f...  33.713176 -115.400323\n",
      "4968 2016-01-14 22:30:00     USA          Mount Airy    NC      Light         ((HOAX??)) Blue light over Mount Airy, NC.  36.499330  -80.607161\n",
      "4969 2016-01-14 22:05:00     USA              Dayton    TN      Cigar  I saw a bright green, cigar-shaped object stre...  35.493959  -85.012453\n",
      "4970 2016-01-14 22:00:00     USA              Marion    IN   Triangle          Triangle shaped ufo over I-69 Marion exit  40.558374  -85.659144\n",
      "4971 2016-01-14 21:10:00     USA              Marion    IA   Fireball  Burning fireball traveling fast over Marion, I...  42.034166  -91.597677\n",
      "4972 2016-01-14 20:00:00     USA              Conway    SC      Flash  Bright blue green orb went across sky , then a...  33.836003  -79.047814\n",
      "4973 2016-01-14 19:55:00     USA            Florence    SC    Unknown  Neon light 'dripped' from the sky like a huge ...  34.198444  -79.767166\n",
      "4974 2016-01-14 18:45:00     USA    495 Maryland Hwy    MD   Triangle           Triangle UFO over Maryland Highway 495N.  39.426208  -79.334946\n",
      "4975 2016-01-14 18:30:00     USA             Burbank    OH   Fireball  I saw a rather large fireball in the sky that ...  40.988667  -81.994868\n",
      "4976 2016-01-14 18:25:00     USA             Antioch    IL     Sphere  Seen in the E sky heading N at least 50 or mor...  42.477242  -88.095640\n",
      "4977 2016-01-14 18:20:00     USA             Antioch    IL     Sphere                Formation of orange spheres in sky.  42.477242  -88.095640\n",
      "4978 2016-01-14 14:45:00     USA        Philadelphia    PA    Unknown  Flashing red/ green light, circling in sky. NE...  39.952399  -75.163590\n",
      "4979 2016-01-14 13:50:00     USA         Bakersfield    CA    Unknown  Plane trailing behind gray smoke coming from u...  35.373871 -119.019464\n",
      "4980 2016-01-14 13:00:00     USA              Jerome    AZ      Other  4 unknown objects in the daytime sky appear in...  34.748911 -112.113771\n",
      "4981 2016-01-14 07:20:00     USA           Bradenton    FL      Other  Unexplained Sighting Over BRADENTON, FL *Janua...  27.472417  -82.563375\n",
      "4982 2016-01-14 06:30:00     USA       Santa Clarita    CA     Circle  Very large UFO chased away with fighter jets n...  34.391664 -118.542586\n",
      "4983 2016-01-14 06:30:00     USA      Hendersonville    NC      Light  Very bright object in the sky with faint red l...  35.318728  -82.460953\n",
      "4984 2016-01-14 03:15:00     USA     North Hollywood    CA     Circle  Facing SE from 2nd floor apt. Facing Studio Ci...  34.172904 -118.374037\n",
      "4985 2016-01-13 23:19:00     USA         Albuquerque    NM       Oval  We watch a orange light on the E side of town ...  35.084103 -106.650985\n",
      "4986 2016-01-13 22:15:00     USA         Cedar Falls    IA   Fireball  Red/Orange sphere seen descending over Cedar F...  42.527762  -92.445465\n",
      "4987 2016-01-13 21:50:00     USA              Conway    AR      Light          Five yellow lights hovering in formation.  35.088696  -92.442101\n",
      "4988 2016-01-13 21:50:00     USA             Seattle    WA      Cigar  Cigar shape with wings, the wings were, one on...  47.603832 -122.330062\n",
      "4989 2016-01-13 21:50:00     USA           Sutherlin    CA   Fireball  I was driving home from work tonight going N a...  38.269053 -122.065163\n",
      "4990 2016-01-13 21:45:00     USA            Maumelle    AR    Chevron  2 large lights descended over the hwy., a row ...  34.866757  -92.404322\n",
      "4991 2016-01-13 20:11:00     USA               Mecca    CA      Other  Very bright just appeared then more appeared o...  33.570157 -116.074542\n",
      "4992 2016-01-13 19:00:00     USA         Albuquerque    NM      Light  2 adjacent yellow orange lights with large spa...  35.084103 -106.650985\n",
      "4993 2016-01-13 18:45:00  CANADA            Kamloops    BC    Unknown  Massive dome shaped bright brilliant blue ligh...  50.650853 -120.349746\n",
      "4994 2016-01-13 18:27:00     USA            Metairie    LA      Light  I was walking on Meadowdale St. by St. Ann's c...  30.001852  -90.176715\n",
      "4995 2016-01-13 18:05:00     USA            Longview    MO   Teardrop  Three large red and white lights hovered aand ...  38.904174  -94.404673\n",
      "4996 2016-01-13 16:20:00     USA             Phoenix    AZ      Other    Sighting of small white orbs high over Phoenix.  33.448587 -112.077346\n",
      "4997 2016-01-13 13:00:00     USA   Woodland Township    NJ      Light  Bright light with flashing lights hovering ove...  39.842075  -74.523057\n",
      "4998 2016-01-13 06:30:00     USA         Winter Park    FL  Rectangle  Wide object (football field plus) with bright ...  28.600062  -81.342744\n",
      "4999 2016-01-13 06:20:00     USA            Danville    VA    Diamond  I turned onto my road from my drive way. As so...  36.585972  -79.395023\n",
      "5000 2016-01-13 04:30:00     USA              Peoria    AZ      Light  I had gone out for a walk at 3:00am Wednesday ...  33.576620 -112.239826\n",
      "5001 2016-12-01 23:00:00     USA            Columbus    OH   Triangle                                   L-shaped lights.  39.962260  -83.000706\n",
      "5002 2016-12-01 22:30:00     USA           Lafayette    LA      Other  Half V-formation lights with plan not far behind.  30.224090  -92.019843\n",
      "5003 2016-12-01 22:30:00     USA   Elk Grove Village    IL      Cigar  I was outside with my boyfriend on our back pa...  42.004124  -87.970646\n",
      "5004 2016-12-01 22:30:00     USA           Knoxville    TN      Flash  I was driving to work last night when I saw a ...  35.960395  -83.921026\n",
      "5005 2016-12-01 20:30:00     USA    Lake Havasu City    AZ     Sphere  Bright, moving fast orange sphere over Lake Ha...  34.474279 -114.344001\n",
      "5006 2016-12-01 19:00:00     USA            Columbia    MS   Triangle  Aunt, sister, and I was traveling home when we...  38.444056  -90.213747\n",
      "5007 2016-12-01 17:40:00     USA             Houston    MO      Cigar  Two narrow, black cigar shaped objects in the ...  37.326159  -91.955988\n",
      "5008 2016-12-01 17:30:00     USA              Joplin    MO      Cigar  Grey cigar-shape, w/ short Chem Trail travelin...  37.084227  -94.513281\n",
      "5009 2016-12-01 14:00:00     USA    Colorado Springs    CO   Changing  Dark, elongated horizontal streak, which chang...  38.833958 -104.825348\n",
      "5010 2016-12-01 07:48:00     USA             Wichita    KS     Circle  We all looked and saw an airplane leaving a co...  37.692236  -97.337545\n",
      "5011 2016-12-01 02:10:00     USA           Lafayette    CO    Unknown  The sky was pitch black but when looking towar...  29.997819  -83.222153\n",
      "5012 2016-11-01 22:00:00     USA              Rifton    NY  Rectangle  Saw a rectangular object fireball orange/reddi...  41.837593  -74.037363\n",
      "5013 2016-11-01 21:30:00     USA             Gilbert    AZ   Triangle  Driving in Gilbert. Looking to the west toward...  33.294207 -111.737947\n",
      "5014 2016-11-01 21:00:00     USA              Biloxi    MS   Teardrop  Bright red lights moving slowly, that hovered ...  30.374673  -88.845943\n",
      "5015 2016-11-01 20:30:00  CANADA              Bolton    ON      Light  Circular changing lights. ((NUFORC Note: Possi...  43.879548  -79.738260\n",
      "5016 2016-11-01 20:20:00     USA            Fountain    CO    Diamond  Craft hovers over neighborhood, then moves sid...  40.125252  -87.249742\n",
      "5017 2016-11-01 20:00:00     USA           Nashville    NC      Light  \"Helicopter\" lights are completely silent whil...  35.974598  -77.965541\n",
      "5018 2016-11-01 19:50:00     USA             Ivanhoe    NC   Triangle  An object with red flashing lights flying low ...  34.610725  -78.241941\n",
      "5019 2016-11-01 19:30:00     USA              Denton    MD      Light  Traveling NW there were 4 dim lights perfectly...  38.884558  -75.827156\n",
      "5020 2016-11-01 19:30:00     USA        Wrightsville    GA     Circle                  Unbelievable lights over Georgia.  32.729328  -82.719859\n",
      "5021 2016-11-01 19:00:00     USA             Raleigh    NC      Other    Bright flashing and kept moving fast and faded.  35.780398  -78.639099\n",
      "5022 2016-11-01 18:30:00     USA        Natchitoches    LA      Light  Traveling north on interstate 49 in Louisiana ...  31.760673  -93.086021\n",
      "5023 2016-11-01 18:18:00     USA           Kingsburg    CA   Triangle               Triangle objects near Kingsburg, CA.  36.513840 -119.553893\n",
      "5024 2016-11-01 17:03:00     USA           St. Louis    MO   Fireball  I believe I was abducted for a short period of...  38.627273  -90.197889\n",
      "5025 2016-11-01 16:30:00     USA          Snellville    GA    Unknown            Two large light in clouds over Atlanta.  33.857328  -84.019911\n",
      "5026 2016-11-01 07:00:00     USA             Dixmont    ME   Triangle  Similr to the black knight satelite but had tr...  44.680347  -69.162822\n",
      "5027 2016-10-01 22:40:00     USA           Four Oaks    NC      Light              Strange yellow lights near Garner, NC  35.444884  -78.426949\n",
      "5028 2016-10-01 22:30:00     USA               Ocala    FL    Diamond  I walk my dogs every night about 10:30 or 11:0...  29.192421  -82.135205\n",
      "5029 2016-10-01 20:00:00     USA           Snohomish    WA   Changing  This all started on 10 January with 5 strange ...  48.007474 -121.730488\n",
      "5030 2016-10-01 16:53:00     USA              Denver    CO   Teardrop  Object had a tail and maintained shape and speed.  39.734838 -104.965327\n",
      "5031 2016-10-01 16:00:00     USA         Cooperstown    NY  Rectangle  Slow moving white rectangle with bright amber ...  42.700630  -74.924321\n",
      "5032 2016-09-01 22:00:00     USA           Hampshire    IL      Light  Light was always in the same place and always ...  42.097803  -88.530364\n",
      "5033 2016-09-01 22:00:00     USA           Rockville    VA   Triangle  Huge flash to right side of sky, then triangle...  37.725978  -77.678324\n",
      "5034 2016-09-01 21:30:00     USA   Bainbridge Island    WA      Light        2 glowing redish orbs spotted NW of island.  47.626263 -122.520451\n",
      "5035 2016-09-01 20:00:00     USA      Corona del Mar    CA      Light  ((HOAX. Contact information is bogus.)) Myster...  33.599523 -117.872484\n",
      "5036 2016-09-01 08:30:00     USA              Pueblo    CO      Light            Two bright red lights that disappeared.  38.187635 -104.535014\n",
      "5037 2016-09-01 00:00:00     USA          Hutchinson    KS    Unknown  Read Hutchinson News Kansas today front page o...  38.060844  -97.929774\n",
      "5038 2016-08-01 23:40:00     USA            Meridian    ID    Unknown                           Rapidly flashing lights.  43.608629 -116.392326\n",
      "5039 2016-08-01 23:00:00     USA            Issaquah    WA       Oval  January 9, 2016. Last night there was a very b...  47.534878 -122.043297\n",
      "5040 2016-08-01 22:15:00     USA            Surprise    AZ      Light  5 amber lights floating low in the sky, with 3...  33.629227 -112.368019\n",
      "5041 2016-08-01 21:30:00     USA            Pasadena    TX     Circle  Bright white large ball did not change size an...  29.691063  -95.209101\n",
      "5042 2016-08-01 19:20:00     USA          Susanville    CA      Light                           More Russian space-junk?  40.416284 -120.653006\n",
      "5043 2016-08-01 08:10:00     USA           Royal Oak    MI      Light  I saw a white light due south just above the h...  42.489480  -83.144648\n",
      "5044 2016-08-01 02:30:00     USA          Birmingham    AL      Other        What is this type of object without lights?  33.570499  -86.765783\n",
      "5045 2016-08-01 02:23:00     USA           Las Vegas    NV      Light                   Green blinking light in the sky.  36.166286 -115.149225\n",
      "5046 2016-07-01 21:18:00     USA              Odessa    TX   Cylinder                            Helicopter chasing UFO.  31.845715 -102.367687\n",
      "5047 2016-07-01 20:30:00     USA             Clanton    AL   Cylinder  Cylinder or Cigar Shaped Object (Vertical) wit...  32.838737  -86.629426\n",
      "5048 2016-07-01 20:00:00     USA               Unity    PA   Fireball  Yellowish/orange sphere seen over town of Mutu...  33.005399  -86.359143\n",
      "5049 2016-07-01 17:15:00     USA             Candler    NC     Sphere    Cluster of black spheres seen over Candler, NC.  35.536498  -82.692907\n",
      "5050 2016-07-01 16:40:00     USA      Brodheadsville    PA      Light  Object 'falling' with trails of steam/ice in t...  40.924706  -75.393846\n",
      "5051 2016-07-01 12:25:00     USA            Brooklyn    NY       Oval  Object shows up in photo but not to the naked ...  40.645310  -73.955023\n",
      "5052 2016-07-01 08:45:00     USA            Honolulu    HI      Light  ((HOAX??)) Objects looked like low descending ...  21.304547 -157.855676\n",
      "5053 2016-07-01 03:00:00     USA          Greenville    SC    Unknown  Object appeared to fall straight down through ...  34.851354  -82.398488\n",
      "5054 2016-06-01 23:16:00     USA             Jenkins    KY  Formation                          Formation Re-Fueling UFO.  37.173437  -82.630989\n",
      "5055 2016-06-01 21:30:00     USA              Holden    ME    Unknown                         High altitude object??????  44.752850  -68.678922\n",
      "5056 2016-06-01 21:30:00  CANADA     North Vancouver    BC       Disk  Giant mother ship sighted in Indian Arm-Mount ...  49.321542 -123.074341\n",
      "5057 2016-06-01 21:30:00  CANADA     North Vancouver    BC       Disk  We saw a giant silent floating disc hovering a...  49.321542 -123.074341\n",
      "5058 2016-06-01 19:30:00     USA          Scottsdale    AZ   Changing  Three bright lights in a triangle formation lo...  33.509121 -111.899236\n",
      "5059 2016-06-01 19:00:00     USA              Goliad    TX     Circle         Orange orb seen in South Tx, heading north  28.668325  -97.388326\n",
      "5060 2016-06-01 19:00:00     USA                 Bow    NH    Unknown  We were walking the dog.. we stood at the powe...  43.133061  -71.549149\n",
      "5061 2016-06-01 18:30:00     USA           Nashville    TN      Light  Green light quickly shoots across sky and chan...  36.162230  -86.774353\n",
      "5062 2016-06-01 18:00:00     USA         Albuquerque    NM   Triangle  Last night after dinner me and my girlfriend w...  35.084103 -106.650985\n",
      "5063 2016-06-01 18:00:00     USA              Vassar    MI   Triangle                            Silent, hovering craft.  43.371968  -83.583292\n",
      "5064 2016-06-01 17:30:00     USA       West Hartford    CT      Light  4 red lights in a line some distance apart fly...  39.371976  -84.453693\n",
      "5065 2016-06-01 06:30:00     USA              Oswego    IL  Rectangle                                ((HOAX??))3 lights.  41.682807  -88.351460\n",
      "5066 2016-06-01 06:00:00     USA            Hubertus    WI      Light  On my deck pre-dawn (dark) 6am 1/6/2016 observ...  43.236672  -88.221204\n",
      "5067 2016-06-01 05:55:00     USA         Phenix city    AL       Cone  I was heading to work around 05:50 when I spot...  32.470976  -85.000765\n",
      "5068 2016-06-01 05:50:00     USA           Arlington    WA    Chevron  As a pilot I recognized these as aircraft land...  48.181096 -122.138955\n",
      "5069 2016-06-01 05:45:00     USA            Sarasota    FL   Triangle      Triangle bright light, hovering low altitude.  27.336435  -82.530653\n",
      "5070 2016-06-01 04:30:00     USA              Putnam    CT    Unknown  Very bright light just under the moon. ((NUFOR...  41.033961  -73.625249\n",
      "5071 2016-06-01 03:00:00     USA      Carolina Beach    NC      Other    Reddish-orange lights sighted at Carolina Beach  34.035173  -77.893597\n",
      "5072 2016-06-01 00:46:00     USA            Hereford    PA      Light  There are 2 lights hovering just about the tre...  40.446826  -75.567174\n",
      "5073 2016-06-01 00:25:00     USA              Auburn    WA   Cylinder  Very bright light; looked like a plane and the...  47.307537 -122.230181\n",
      "5074 2016-06-01 00:00:00     USA     North Riverside    IL    Unknown  Bee-like flying light like the sun \"star color...  41.846860  -87.815202\n",
      "5075 2016-05-01 23:15:00     USA               Eliot    ME     Circle  Red light dropped straight in from sky to near...  43.153142  -70.800056\n",
      "5076 2016-05-01 22:40:00     USA        Philadelphia    PA       Oval  Dark half oval flying over house, then disappe...  39.952399  -75.163590\n",
      "5077 2016-05-01 21:45:00     USA     Windsor Heights    IA    Chevron  5 lights in chevron pattern, very low in the s...  41.597767  -93.708276\n",
      "5078 2016-05-01 21:35:00     USA           Las Vegas    NV   Triangle  Driving on 95S, saw a triangle with an inverte...  36.166286 -115.149225\n",
      "5079 2016-05-01 21:30:00     USA       State College    PA  Formation  Line of 10-15 lights west of State College mov...  40.794026  -77.860697\n",
      "5080 2016-05-01 21:18:00     USA           San Diego    CA      Light  I was sitting on my front porch when I witness...  32.717421 -117.162771\n",
      "5081 2016-05-01 20:30:00     USA         Scarborough    ME     Circle  Blinking light, white, red, green. Moving up a...  43.596226  -70.330056\n",
      "5082 2016-05-01 20:15:00     USA              Oxford    AL   Triangle  Triangular shaped UFO spotted on HW 21 heading...  40.326902  -75.330135\n",
      "5083 2016-05-01 20:10:00     USA          Lake Wylie    SC   Fireball  15-20 bright, red-orange lights moving from ho...  35.110418  -81.053796\n",
      "5084 2016-05-01 08:00:00     USA              Chapin    SC    Unknown  My niece and I were on the front balcony she l...  34.165979  -81.349821\n",
      "5085 2016-05-01 03:00:00     USA           Blue Hill    ME      Light  Bright light with blue strobe hovering over Bl...  44.414164  -68.586960\n",
      "5086 2016-05-01 00:05:00     USA             Seymour    TN   Changing  Intense ball of white light that changed shape...  35.881048  -83.776618\n",
      "5087 2016-05-01 00:00:00     USA             Jackson    NJ      Light  White light in sky south/southeast of Jackson,...  40.115177  -74.364777\n",
      "5088 2016-05-01 00:00:00     USA   Maurice River TWP    NJ    Unknown  Two bright flashes of light in clear night sky...  39.282771  -74.991542\n",
      "5089 2016-05-01 00:00:00     USA           Lordstown    OH      Light  Travelling W on I-80 near Lordstown, OH, I sud...  41.165613  -80.857585\n",
      "5090 2016-04-01 21:20:00     USA           San Diego    CA   Triangle  Driving home from class, looked up, and saw th...  32.717421 -117.162771\n",
      "5091 2016-04-01 21:00:00     USA          New Blaine    AR   Triangle  Triangle shape moving slowly north to south at...  35.289530  -93.420183\n",
      "5092 2016-04-01 20:44:00     USA           Twin Lake    MI       Oval  Seen it tonight and 2 nights ago. White, green...  32.489030  -90.820103\n",
      "5093 2016-04-01 20:30:00     USA          Orangevale    CA      Other  Pulsing, changing colors, but relatively stati...  38.684105 -121.218469\n",
      "5094 2016-04-01 20:30:00     USA      Citrus Heights    CA    Unknown          Colored lights in the sky over Sacramento  38.707125 -121.281061\n",
      "5095 2016-04-01 20:00:00     USA         Warrensburg    MO     Circle  We seen a very bright round light we thought i...  38.762789  -93.736050\n",
      "5096 2016-04-01 19:30:00     USA            Sarasota    FL       Oval  Three large red lights hovered over neighborho...  27.336435  -82.530653\n",
      "5097 2016-04-01 18:30:00     USA           Kennewick    WA   Triangle  Observed three fireballs in triangular formati...  46.211246 -119.137234\n",
      "5098 2016-04-01 18:30:00     USA      Roberts County    SD     Sphere               Mystery orb which changed direction.  45.600029  -97.000024\n",
      "5099 2016-04-01 17:45:00     USA             Suffolk    VA      Light         Objects over Suffolk, VA, January 4, 2016.  36.728210  -76.583570\n",
      "5100 2016-04-01 07:05:00     USA          Des Moines    IA  Formation   6 bright orange lights in 2 vertical lines of 3.  41.591064  -93.603715\n",
      "5101 2016-04-01 06:30:00  CANADA       Fort St. John    BC      Light  Flash of light a white beem at the end opened ...  56.250094 -120.833466\n",
      "5102 2016-04-01 03:00:00     USA         North Shore    HI      Light                              USO pipeline surfcam.  21.598879 -158.240852\n",
      "5103 2016-04-01 00:00:00     USA       Stanardsville    VA      Other  Dimming \"star\" moving in a circular pattern. (...  38.297352  -78.440010\n",
      "5104 2016-04-01 00:00:00     USA              Burien    WA    Unknown  ((HOAX??) This a.m. the sky was normal blue, b...  47.469918 -122.348527\n",
      "5105 2016-03-01 23:00:00     USA            Woodbury    MN   Triangle  Triangular aircraft with blue/pink lights arra...  44.923170  -92.958828\n",
      "5106 2016-03-01 22:40:00     USA        Delray Beach    FL    Unknown  It looked like a plane flying very low I follo...  26.461462  -80.072820\n",
      "5107 2016-03-01 21:45:00     USA             Milford    CT   Fireball  The object was turning colors (white, red, gre...  43.068241  -76.096600\n",
      "5108 2016-03-01 21:00:00  CANADA      Walpole Island    ON      Light  One bright light at helicopter height where bl...  42.567390  -82.495968\n",
      "5109 2016-03-01 20:30:00     USA             Taylors    SC      Light               20 odd orange lights in Taylors, SC.  34.920395  -82.296227\n",
      "5110 2016-03-01 20:00:00     USA        Forest Acres    SC      Light                           Red light over Columbia.  34.019322  -80.989813\n",
      "5111 2016-03-01 19:20:00     USA          Broomfield    CO  Formation  Group of 7 red orbs, moving independently at d...  39.937989 -105.058729\n",
      "5112 2016-03-01 19:05:00     USA         Chula Vista    CA   Fireball  Yellow ball of light flies over Chula Vista Ca...  32.640054 -117.084195\n",
      "5113 2016-03-01 18:15:00     USA              Santee    CA   Fireball  Wife and I facing N, fluorescent green streak ...  32.838383 -116.973917\n",
      "5114 2016-03-01 16:30:00     USA           Nashville    TN   Changing  White light above highway, changed shape, then...  36.162230  -86.774353\n",
      "5115 2016-03-01 06:30:00     USA          Hagerstown    MD    Unknown  At exactly 6:15am, Sunday morning, the third o...  39.641922  -77.720264\n",
      "5116 2016-03-01 01:20:00     USA             Newtown    CT   Fireball  Saw a bright white burning object falling from...  41.155126  -73.389651\n",
      "5117 2016-03-01 01:15:00     USA         Southington    CT   Teardrop  White ball surrounded by a green glow falls fr...  41.429159  -82.025083\n",
      "5118 2016-02-01 23:47:00     USA           Dickinson    ND   Fireball                 Fireball, orange then turns green.  46.879176 -102.789624\n",
      "5119 2016-02-01 22:00:00     USA            Gallatin    TN   Triangle  I came outside to smoke a cigarette around 10p...  36.388303  -86.447590\n",
      "5120 2016-02-01 21:35:00     USA   Black Canyon City    AZ      Light  Three orange lights fly south above I-17 towar...  34.073016 -112.126498\n",
      "5121 2016-02-01 21:30:00     USA         Spring Hill    TN      Other  4 objects with red lights in their centers in ...  35.751179  -86.930002\n",
      "5122 2016-02-01 20:45:00     USA            Billings    MT   Fireball  I saw a bright neon green fireball with a tail...  45.787496 -108.496070\n",
      "5123 2016-02-01 20:00:00     USA              Aurora    IN    Unknown  Approximately 20:00 hrs., SE of my home, was a...  41.760585  -88.320071\n",
      "5124 2016-02-01 20:00:00     USA            Meridian    ID      Light               Orange amber orbs drifting westward.  43.608629 -116.392326\n",
      "5125 2016-02-01 19:30:00     USA            Whitmire    SC     Circle      Orange circular lights in a uniformed parade.  34.502915  -81.611493\n",
      "5126 2016-02-01 19:15:00     USA             Norwich    CT   Triangle  I saw two triangular shaped objects with a glo...  32.688443  -97.147121\n",
      "5127 2016-02-01 19:15:00     USA             Phoenix    AZ       Oval  At about 19:15 hrs. this evening, walking dog,...  33.448587 -112.077346\n",
      "5128 2016-02-01 19:00:00     USA           Cornelius    OR  Formation  Red lights (non-flashing) in line (no sound) h...  45.519800 -123.055620\n",
      "5129 2016-02-01 19:00:00  CANADA          Whitecourt    AB      Flash                    Quick, bright flash in the sky.  54.137606 -115.675117\n",
      "5130 2016-02-01 17:00:00     USA         Pound Ridge    NY   Triangle  Dark gray triangular object spotted very close...  41.208707  -73.574848\n",
      "5131 2016-02-01 16:40:00     USA           Langhorne    PA    Unknown             Five yellow flying objects with tails.  40.174554  -74.922666\n",
      "5132 2016-02-01 16:30:00     USA           Annapolis    MD       Disk  Bright objects witnessed in the western sky ne...  38.978640  -76.492786\n",
      "5133 2016-02-01 16:00:00     USA         Scarborough    ME     Circle    Circular. Not moving. Bright. I have a picture.  43.596226  -70.330056\n",
      "5134 2016-02-01 14:10:00     USA         Albuquerque    NM  Formation  Multiple blue metallic lights heading east in ...  35.084103 -106.650985\n",
      "5135 2016-02-01 05:30:00     USA           Hollywood    FL     Circle  It was completely stationary and shaped like a...  26.011201  -80.149490\n",
      "5136 2016-02-01 04:00:00     USA               Tempe    AZ   Changing  Mothership UFO in Tempe probed by airforce hel...  33.414414 -111.909447\n",
      "5137 2016-02-01 03:00:00     USA      Imperial Beach    CA   Fireball                        Two fireballs side by side.  32.583944 -117.113085\n",
      "5138 2016-02-01 02:20:00     USA            St. Paul    MN      Light    Blinking white and red star-like object in sky.  44.950404  -93.101502\n",
      "5139 2016-01-01 23:32:00     USA          Branchland    WV     Sphere  Saw three white orbs while camping. Moving at ...  38.220923  -82.203753\n",
      "5140 2016-01-01 21:00:00     USA        French Creek    WV      Other     Huge object with multiple multicolored lights.  38.885656  -80.297305\n",
      "5141 2016-01-01 20:30:00     USA            Colville    WA     Circle  At ~8:30 pm I went out and turned off the yard...  48.546569 -117.905537\n",
      "5142 2016-01-01 20:30:00     USA      Salt Lake City    UT     Circle                    10 glowing orbs in western sky.  40.767013 -111.890431\n",
      "5143 2016-01-01 20:00:00     USA               Aptos    CA   Triangle  Driving northbound on Highway 1 coming through...  36.993561 -121.891991\n",
      "5144 2016-01-01 19:45:00     USA       Fuquay Varina    NC      Other  Rectangular object rise from the field and fol...  35.584429  -78.799982\n",
      "5145 2016-01-01 18:40:00     USA                Irmo    SC      Light  Two orange lights moving in a vertical formation.  34.085736  -81.182490\n",
      "5146 2016-01-01 17:00:00     USA            Newburgh    ME      Light          Fast moving light in later afternoon sky.  44.721737  -69.002263\n",
      "5147 2016-01-01 14:00:00     USA             Corinth    KY     Circle  Funny looking plane. ((NUFORC Note: Possibly a...  36.788931  -86.803886\n",
      "5148 2016-01-01 12:10:00     USA       Amelia Island    FL     Circle  An Orange Circle Object Flying in the Sky at A...  30.607738  -81.460091\n",
      "5149 2016-01-01 12:00:00     USA             Phoenix    AZ      Light  White, round, object in sky, zigzag. Phoenix, AZ.  33.448587 -112.077346\n",
      "5150 2016-01-01 05:30:00     USA             Medford    NY     Circle  Bright orange sphere in sky traveling N to E. ...  40.817599  -73.000107\n",
      "5151 2016-01-01 00:38:00     USA              Fenton    MO   Fireball                     Fireball object without sound.  38.513284  -90.440179\n",
      "5152 2016-01-01 00:30:00     USA           Bremerton    WA      Other  Two red and white cigar shaped craft seen flyi...  47.532797 -122.754161\n",
      "5153 2016-01-01 00:30:00     USA         Thermopolis    WY   Triangle  One black triangle shaped ufo hovering with fl...  43.646067 -108.212043\n",
      "5154 2016-01-01 00:26:00     USA           Kennewick    WA  Formation  Kennewick residents witness 3 orange lights in...  46.211246 -119.137234\n",
      "5155 2016-01-01 00:25:00     USA            Florence    KY      Light  Several large red moving objects appeared in a...  38.998950  -84.626611\n",
      "5156 2016-01-01 00:20:00     USA          Sacramento    CA   Fireball  I seen along with my fiance an orange fireball...  38.581572 -121.494400\n",
      "5157 2016-01-01 00:15:00     USA          Joppatowne    MD     Circle  My dad called me into his room to look at what...  39.415624  -76.359251\n",
      "5158 2016-01-01 00:15:00     USA            Longmont    CO    Diamond  4 or 5 red/orange lights moving W. One went do...  40.167212 -105.101929\n",
      "5159 2016-01-01 00:15:00     USA          Sacramento    CA   Fireball               Missiles or flares seen on New Year.  38.581572 -121.494400\n",
      "5160 2016-01-01 00:15:00     USA           Las Vegas    NV      Other  Red orbs after the New Year's eve celebration....  36.166286 -115.149225\n",
      "5161 2016-01-01 00:15:00     USA            Glendale    AZ      Light                        Lights and flash in the sky  33.538985 -112.185816\n",
      "5162 2016-01-01 00:12:00     USA             Malabar    FL       Oval  Eight orange orbs flew over my house minutes a...  28.003630  -80.565609\n",
      "5163 2016-01-01 00:10:00     USA            Bayville    NJ      Light                                     Orange lights.  39.901624  -74.214275\n",
      "5164 2016-01-01 00:05:00     USA          Titusville    FL     Sphere  1 Jan 2016 12:05AM Observed three red-orange s...  28.612219  -80.807554\n",
      "5165 2016-01-01 00:05:00     USA            Matthews    NC   Triangle       Pyramid formation lights above Matthews, NC.  35.117087  -80.723718\n",
      "5166 2016-01-01 00:05:00     USA           Las Vegas    NV      Light  My wife and I witnessed 3 bright red objects t...  36.166286 -115.149225\n",
      "5167 2016-01-01 00:04:00     USA            Richland    WA     Circle               Multiple craft, long duration event.  46.277841 -119.276907\n",
      "5168 2016-01-01 00:02:00     USA     Satellite Beach    FL     Sphere  Around the midnight, my wife and I went out to...  28.176123  -80.590052\n",
      "5169 2016-01-01 00:01:00     USA        Crystal City    MO      Light  I observed a orange light hovering over near o...  38.221166  -90.379009\n",
      "5170 2016-01-01 00:00:00     USA           Covington    WA     Sphere                6 objects low in sky heading north.  47.365779 -122.100222\n",
      "5171 2016-01-01 00:00:00     USA   Hereford Township    PA      Light  Red Light balls hovering, splitting, hovering ...  40.446826  -75.567174\n",
      "5172 2016-01-01 00:00:00     USA           Elk Grove    CA      Light  6-7 peach-colored craft moving easterly direct...  38.408799 -121.371618\n",
      "5173 2016-01-01 00:00:00     USA           Anchorage    AK     Circle                          New Years yellow objects.  61.216313 -149.894852\n",
      "5174 2016-01-01 00:00:00     USA           Sodaville    OR     Sphere  Two balls of orange light seen above the trees...  44.483395 -122.869982\n",
      "5175 2016-01-01 00:00:00     USA              Arnold    MO   Triangle  Triangle obj. moving W to SE from my position....  38.432832  -90.377619\n",
      "5176 2016-01-01 00:00:00     USA              Vernon    CT     Sphere                             Red sphere in the sky.  36.092946  -80.149628\n",
      "\n",
      "[5177 rows x 8 columns]\n"
     ]
    }
   ],
   "source": [
    "import pandas as pd\n",
    "df = pd.read_excel(r'C:\\Users\\Admin\\Desktop\\UFOs_coord.xlsx')\n",
    "df['Date_time'] = df['Date_time'].astype('datetime64[ns]')\n",
    "print(\"Original Dataframe:\")\n",
    "print(df.head())\n",
    "selected_period = df[(df['Date_time'] >= '2016-01-01 00:00:00') & (df['Date_time'] <= '2016-12-31 23:59:59')]\n",
    "print(selected_period)"
   ]
  },
  {
   "cell_type": "markdown",
   "metadata": {},
   "source": [
    "Q132. Write a Pandas program to extract the year, month, day, hour, minute, second, and weekday from unidentified flying object (UFO) reporting date."
   ]
  },
  {
   "cell_type": "code",
   "execution_count": 68,
   "metadata": {},
   "outputs": [
    {
     "name": "stdout",
     "output_type": "stream",
     "text": [
      "Original Dataframe:\n",
      "            Date_time Country        City State    Shape                                            Summary        lat         lng\n",
      "0 2016-12-21 19:15:00     USA  Waynesboro    VA   Sphere               Bright round object hovering in sky.  38.065229  -78.905888\n",
      "1 2016-12-21 00:00:00     USA  Louisville    KY  Unknown  Multiple craft ascending from north of Shelbyv...  38.254238  -85.759407\n",
      "2 2016-12-20 22:30:00     USA  Santa Rosa    CA   Sphere  Bright orange planet-like object sighted near ...  38.440467 -122.714431\n",
      "3 2016-12-20 19:00:00     USA      Fresno    CA   Circle      Twelve orange globes in formation over Fresno  36.729529 -119.708861\n",
      "4 2016-12-19 21:53:00     USA     Reymert    AZ   Circle  While camping in the Cottonwood canyon Rd., al...  33.229779 -111.209290\n",
      "\n",
      "Year:\n",
      "0    2016\n",
      "1    2016\n",
      "2    2016\n",
      "3    2016\n",
      "4    2016\n",
      "Name: Date_time, dtype: int64\n",
      "\n",
      "Month:\n",
      "0    12\n",
      "1    12\n",
      "2    12\n",
      "3    12\n",
      "4    12\n",
      "Name: Date_time, dtype: int64\n",
      "\n",
      "Day:\n",
      "0    21\n",
      "1    21\n",
      "2    20\n",
      "3    20\n",
      "4    19\n",
      "Name: Date_time, dtype: int64\n",
      "\n",
      "Hour:\n",
      "0    19\n",
      "1     0\n",
      "2    22\n",
      "3    19\n",
      "4    21\n",
      "Name: Date_time, dtype: int64\n",
      "\n",
      "Minute:\n",
      "0    15\n",
      "1     0\n",
      "2    30\n",
      "3     0\n",
      "4    53\n",
      "Name: Date_time, dtype: int64\n",
      "\n",
      "Second:\n",
      "0    0\n",
      "1    0\n",
      "2    0\n",
      "3    0\n",
      "4    0\n",
      "Name: Date_time, dtype: int64\n",
      "\n",
      "Weekday:\n",
      "0    Wednesday\n",
      "1    Wednesday\n",
      "2      Tuesday\n",
      "3      Tuesday\n",
      "4       Monday\n",
      "Name: Date_time, dtype: object\n"
     ]
    }
   ],
   "source": [
    "import pandas as pd\n",
    "df = pd.read_excel(r'C:\\Users\\Admin\\Desktop\\UFOs_coord.xlsx')\n",
    "df['Date_time'] = df['Date_time'].astype('datetime64[ns]')\n",
    "print(\"Original Dataframe:\")\n",
    "print(df.head())\n",
    "print(\"\\nYear:\")\n",
    "print(df.Date_time.dt.year.head())\n",
    "print(\"\\nMonth:\")\n",
    "print(df.Date_time.dt.month.head())\n",
    "print(\"\\nDay:\")\n",
    "print(df.Date_time.dt.day.head())\n",
    "print(\"\\nHour:\")\n",
    "print(df.Date_time.dt.hour.head())\n",
    "print(\"\\nMinute:\")\n",
    "print(df.Date_time.dt.minute.head())\n",
    "print(\"\\nSecond:\")\n",
    "print(df.Date_time.dt.second.head())\n",
    "print(\"\\nWeekday:\")\n",
    "print(df.Date_time.dt.weekday_name.head())"
   ]
  },
  {
   "cell_type": "markdown",
   "metadata": {},
   "source": [
    "cQ133. Write a pandas program to count year-country wise frequency of reporting dates of the unidentified flying object(UFO)."
   ]
  },
  {
   "cell_type": "code",
   "execution_count": 70,
   "metadata": {},
   "outputs": [
    {
     "name": "stdout",
     "output_type": "stream",
     "text": [
      "Original Dataframe:\n",
      "            Date_time Country        City State    Shape                                            Summary        lat         lng\n",
      "0 2016-12-21 19:15:00     USA  Waynesboro    VA   Sphere               Bright round object hovering in sky.  38.065229  -78.905888\n",
      "1 2016-12-21 00:00:00     USA  Louisville    KY  Unknown  Multiple craft ascending from north of Shelbyv...  38.254238  -85.759407\n",
      "2 2016-12-20 22:30:00     USA  Santa Rosa    CA   Sphere  Bright orange planet-like object sighted near ...  38.440467 -122.714431\n",
      "3 2016-12-20 19:00:00     USA      Fresno    CA   Circle      Twelve orange globes in formation over Fresno  36.729529 -119.708861\n",
      "4 2016-12-19 21:53:00     USA     Reymert    AZ   Circle  While camping in the Cottonwood canyon Rd., al...  33.229779 -111.209290\n",
      "\n",
      "Country-year wise frequency of reporting dates of UFO:\n",
      "Year  Country\n",
      "2016  CANADA      150\n",
      "      USA        5027\n",
      "dtype: int64\n"
     ]
    }
   ],
   "source": [
    "import pandas as pd\n",
    "df = pd.read_excel(r'C:\\Users\\Admin\\Desktop\\UFOs_coord.xlsx')\n",
    "df['Date_time'] = df['Date_time'].astype('datetime64[ns]')\n",
    "print(\"Original Dataframe:\")\n",
    "print(df.head())\n",
    "df['Year'] = df['Date_time'].apply(lambda x: \"%d\" % (x.year))\n",
    "result = df.groupby(['Year', 'Country']).size()\n",
    "print(\"\\nCountry-year wise frequency of reporting dates of UFO:\")\n",
    "print(result)"
   ]
  },
  {
   "cell_type": "markdown",
   "metadata": {},
   "source": [
    "Q135. Write a pandas program to generate sequences of fixed- frequency dates and time spans."
   ]
  },
  {
   "cell_type": "code",
   "execution_count": 73,
   "metadata": {},
   "outputs": [
    {
     "name": "stdout",
     "output_type": "stream",
     "text": [
      "Hourly frequency:\n",
      "DatetimeIndex(['2020-01-01 00:00:00', '2020-01-01 01:00:00', '2020-01-01 02:00:00', '2020-01-01 03:00:00', '2020-01-01 04:00:00', '2020-01-01 05:00:00', '2020-01-01 06:00:00', '2020-01-01 07:00:00', '2020-01-01 08:00:00', '2020-01-01 09:00:00', '2020-01-01 10:00:00', '2020-01-01 11:00:00'], dtype='datetime64[ns]', freq='H')\n",
      "\n",
      "Minutely frequency:\n",
      "DatetimeIndex(['2020-01-01 00:00:00', '2020-01-01 00:01:00', '2020-01-01 00:02:00', '2020-01-01 00:03:00', '2020-01-01 00:04:00', '2020-01-01 00:05:00', '2020-01-01 00:06:00', '2020-01-01 00:07:00', '2020-01-01 00:08:00', '2020-01-01 00:09:00', '2020-01-01 00:10:00', '2020-01-01 00:11:00'], dtype='datetime64[ns]', freq='T')\n",
      "\n",
      "Secondly frequency:\n",
      "DatetimeIndex(['2020-01-01 00:00:00', '2020-01-01 00:00:01', '2020-01-01 00:00:02', '2020-01-01 00:00:03', '2020-01-01 00:00:04', '2020-01-01 00:00:05', '2020-01-01 00:00:06', '2020-01-01 00:00:07', '2020-01-01 00:00:08', '2020-01-01 00:00:09', '2020-01-01 00:00:10', '2020-01-01 00:00:11'], dtype='datetime64[ns]', freq='S')\n",
      "nMultiple Hourly frequency:\n",
      "DatetimeIndex(['2020-01-01 00:00:00', '2020-01-01 02:00:00', '2020-01-01 04:00:00', '2020-01-01 06:00:00', '2020-01-01 08:00:00', '2020-01-01 10:00:00', '2020-01-01 12:00:00', '2020-01-01 14:00:00', '2020-01-01 16:00:00', '2020-01-01 18:00:00', '2020-01-01 20:00:00', '2020-01-01 22:00:00'], dtype='datetime64[ns]', freq='2H')\n",
      "\n",
      "Multiple Minutely frequency:\n",
      "DatetimeIndex(['2020-01-01 00:00:00', '2020-01-01 00:05:00', '2020-01-01 00:10:00', '2020-01-01 00:15:00', '2020-01-01 00:20:00', '2020-01-01 00:25:00', '2020-01-01 00:30:00', '2020-01-01 00:35:00', '2020-01-01 00:40:00', '2020-01-01 00:45:00', '2020-01-01 00:50:00', '2020-01-01 00:55:00'], dtype='datetime64[ns]', freq='5T')\n",
      "\n",
      "Multiple Secondly frequency:\n",
      "DatetimeIndex(['2020-03-31', '2020-06-30', '2020-09-30', '2020-12-31', '2021-03-31', '2021-06-30', '2021-09-30', '2021-12-31', '2022-03-31', '2022-06-30', '2022-09-30', '2022-12-30'], dtype='datetime64[ns]', freq='BQ-DEC')\n",
      "\n",
      "Weekly frequency:\n",
      "DatetimeIndex(['2020-01-05', '2020-01-12', '2020-01-19', '2020-01-26', '2020-02-02', '2020-02-09', '2020-02-16', '2020-02-23', '2020-03-01', '2020-03-08', '2020-03-15', '2020-03-22'], dtype='datetime64[ns]', freq='W-SUN')\n",
      "\n",
      "Combine together day and intraday offsets-1:\n",
      "DatetimeIndex(['2020-01-01 00:00:00', '2020-01-01 02:20:00', '2020-01-01 04:40:00', '2020-01-01 07:00:00', '2020-01-01 09:20:00', '2020-01-01 11:40:00', '2020-01-01 14:00:00', '2020-01-01 16:20:00', '2020-01-01 18:40:00', '2020-01-01 21:00:00', '2020-01-01 23:20:00', '2020-01-02 01:40:00'], dtype='datetime64[ns]', freq='140T')\n",
      "\n",
      "Combine together day and intraday offsets-2:\n",
      "DatetimeIndex(['2020-01-01 00:00:00', '2020-01-02 00:00:00.000010', '2020-01-03 00:00:00.000020', '2020-01-04 00:00:00.000030', '2020-01-05 00:00:00.000040', '2020-01-06 00:00:00.000050', '2020-01-07 00:00:00.000060', '2020-01-08 00:00:00.000070', '2020-01-09 00:00:00.000080', '2020-01-10 00:00:00.000090', '2020-01-11 00:00:00.000100', '2020-01-12 00:00:00.000110'], dtype='datetime64[ns]', freq='86400000010U')\n"
     ]
    }
   ],
   "source": [
    "import pandas as pd\n",
    "dtr = pd.date_range('2020-01-01', periods=12, freq='H')\n",
    "print(\"Hourly frequency:\")\n",
    "print(dtr)\n",
    "dtr = pd.date_range('2020-01-01', periods=12, freq='min')\n",
    "print(\"\\nMinutely frequency:\")\n",
    "print(dtr)\n",
    "dtr = pd.date_range('2020-01-01', periods=12, freq='S')\n",
    "print(\"\\nSecondly frequency:\")\n",
    "print(dtr)\n",
    "dtr = pd.date_range('2020-01-01', periods=12, freq='2H')\n",
    "print(\"nMultiple Hourly frequency:\")\n",
    "print(dtr)\n",
    "dtr = pd.date_range('2020-01-01', periods=12, freq='5min')\n",
    "print(\"\\nMultiple Minutely frequency:\")\n",
    "print(dtr)\n",
    "dtr = pd.date_range('2020-01-01', periods=12, freq='BQ')\n",
    "print(\"\\nMultiple Secondly frequency:\")\n",
    "print(dtr)\n",
    "dtr = pd.date_range('2020-01-01', periods=12, freq='w')\n",
    "print(\"\\nWeekly frequency:\")\n",
    "print(dtr)\n",
    "dtr = pd.date_range('2020-01-01', periods=12, freq='2h20min')\n",
    "print(\"\\nCombine together day and intraday offsets-1:\")\n",
    "print(dtr)\n",
    "dtr = pd.date_range('2020-01-01', periods=12, freq='1D10U')\n",
    "print(\"\\nCombine together day and intraday offsets-2:\")\n",
    "print(dtr)"
   ]
  },
  {
   "cell_type": "markdown",
   "metadata": {},
   "source": [
    "Q136. Write a pandas program to manipulate and convert date times with timezone information."
   ]
  },
  {
   "cell_type": "code",
   "execution_count": 74,
   "metadata": {},
   "outputs": [
    {
     "name": "stdout",
     "output_type": "stream",
     "text": [
      "DatetimeIndex(['2020-01-01 00:00:00+00:00', '2020-01-01 01:00:00+00:00', '2020-01-01 02:00:00+00:00'], dtype='datetime64[ns, UTC]', freq='H')\n",
      "\n",
      "From UTC to America/Los_Angeles:\n",
      "DatetimeIndex(['2019-12-31 16:00:00-08:00', '2019-12-31 17:00:00-08:00', '2019-12-31 18:00:00-08:00'], dtype='datetime64[ns, America/Los_Angeles]', freq='H')\n"
     ]
    }
   ],
   "source": [
    "import pandas as pd\n",
    "dtt = pd.date_range('2020-01-01', periods=3, freq='H')\n",
    "dtt = dtt.tz_localize('UTC')\n",
    "print(dtt)\n",
    "print(\"\\nFrom UTC to America/Los_Angeles:\")\n",
    "dtt = dtt.tz_convert('America/Los_Angeles')\n",
    "print(dtt)\n"
   ]
  },
  {
   "cell_type": "markdown",
   "metadata": {},
   "source": [
    "Q137. Write a pandas program to create the graphical analysis of UFO (unidentified flying object) Sightings year."
   ]
  },
  {
   "cell_type": "code",
   "execution_count": 75,
   "metadata": {},
   "outputs": [
    {
     "data": {
      "image/png": "[encoded data removed]",
      "text/plain": [
       "<Figure size 1080x576 with 1 Axes>"
      ]
     },
     "metadata": {
      "needs_background": "light"
     },
     "output_type": "display_data"
    }
   ],
   "source": [
    "import pandas as pd\n",
    "import matplotlib.pyplot as plt\n",
    "import seaborn as sns\n",
    "df = pd.read_excel(r'C:\\Users\\Admin\\Desktop\\UFOs_coord.xlsx')\n",
    "df['Date_time'] = df['Date_time'].astype('datetime64[ns]')\n",
    "df[\"ufo_yr\"] = df.Date_time.dt.year\n",
    "years_data = df.ufo_yr.value_counts()\n",
    "years_index = years_data.index  # x ticks\n",
    "years_values = years_data.get_values()\n",
    "plt.figure(figsize=(15,8))\n",
    "plt.xticks(rotation = 60)\n",
    "plt.title('UFO Sightings by Year')\n",
    "plt.xlabel(\"Year\")\n",
    "plt.ylabel(\"Number of reports\")\n",
    "years_plot = sns.barplot(x=years_index[:60],y=years_values[:60], palette = \"Reds\")"
   ]
  },
  {
   "cell_type": "markdown",
   "metadata": {},
   "source": [
    "Q139. Write a pandas program to create a heatmap (rectangular data as a colour-encoded matrix) for comparison of top 10 years in which (UFO ) was sighted VS each Month."
   ]
  },
  {
   "cell_type": "code",
   "execution_count": 78,
   "metadata": {},
   "outputs": [
    {
     "name": "stdout",
     "output_type": "stream",
     "text": [
      "\n",
      "Heatmap for comparison of the top 10 years in which the UFO was sighted vs each month:\n"
     ]
    },
    {
     "data": {
      "image/png": "[encoded data removed]",
      "text/plain": [
       "<Figure size 720x576 with 2 Axes>"
      ]
     },
     "metadata": {
      "needs_background": "light"
     },
     "output_type": "display_data"
    }
   ],
   "source": [
    "import pandas as pd\n",
    "import matplotlib.pyplot as plt\n",
    "import seaborn as sns\n",
    "\n",
    "df = pd.read_excel(r'C:\\Users\\Admin\\Desktop\\UFOs_coord.xlsx')\n",
    "df['Date_time'] = df['Date_time'].astype('datetime64[ns]')\n",
    "most_sightings_years = df['Date_time'].dt.year.value_counts().head(10)\n",
    "def is_top_years(year):\n",
    "    if year in most_sightings_years.index:\n",
    "        return year\n",
    "month_vs_year = df.pivot_table(columns=df['Date_time'].dt.month,index=df['Date_time'].dt.year.apply(is_top_years),aggfunc='count',values='City')\n",
    "month_vs_year.columns = month_vs_year.columns.astype(int)\n",
    "print(\"\\nHeatmap for comparison of the top 10 years in which the UFO was sighted vs each month:\")\n",
    "plt.figure(figsize=(10,8))\n",
    "ax = sns.heatmap(month_vs_year, vmin=0, vmax=4)\n",
    "ax.set_xlabel('Month').set_size(20)\n",
    "ax.set_ylabel('Year').set_size(20)"
   ]
  },
  {
   "cell_type": "markdown",
   "metadata": {},
   "source": [
    "Q141. Write a python program to draw the line using given axis values with the suitable label in the x-axis, y-axis, and a title."
   ]
  },
  {
   "cell_type": "code",
   "execution_count": 86,
   "metadata": {},
   "outputs": [
    {
     "data": {
      "image/png": "[encoded data removed]",
      "text/plain": [
       "<Figure size 432x288 with 1 Axes>"
      ]
     },
     "metadata": {
      "needs_background": "light"
     },
     "output_type": "display_data"
    }
   ],
   "source": [
    "import matplotlib.pyplot as plt\n",
    "with open(r'C:\\Users\\Admin\\Desktop\\test.txt') as f:\n",
    "    data = f.read()\n",
    "data = data.split('\\n')\n",
    "x = [row.split(' ')[0] for row in data]\n",
    "y = [row.split(' ')[1] for row in data]\n",
    "plt.plot(x, y)\n",
    "# Set the x axis label of the current axis.\n",
    "plt.xlabel('x - axis')\n",
    "# Set the y axis label of the current axis.\n",
    "plt.ylabel('y - axis')\n",
    "# Set a title \n",
    "plt.title('Sample graph!')\n",
    "# Display a figure.\n",
    "plt.show()\n"
   ]
  },
  {
   "cell_type": "markdown",
   "metadata": {},
   "source": [
    "Q142. Write a python program to draw the line charts of the financial data of the Alphabet Inc., between October."
   ]
  },
  {
   "cell_type": "code",
   "execution_count": 87,
   "metadata": {},
   "outputs": [
    {
     "data": {
      "image/png": "[encoded data removed]",
      "text/plain": [
       "<Figure size 432x288 with 1 Axes>"
      ]
     },
     "metadata": {
      "needs_background": "light"
     },
     "output_type": "display_data"
    }
   ],
   "source": [
    "import matplotlib.pyplot as plt\n",
    "import pandas as pd\n",
    "df = pd.read_excel(r'C:\\Users\\Admin\\Desktop\\Financial_data.xlsx', parse_dates=True, index_col=0)\n",
    "df.plot()\n",
    "plt.show()"
   ]
  },
  {
   "cell_type": "markdown",
   "metadata": {},
   "source": [
    "Q143. Write a Python program to plot two or more lines on same plot with the suitable legends of each line."
   ]
  },
  {
   "cell_type": "code",
   "execution_count": 88,
   "metadata": {},
   "outputs": [
    {
     "data": {
      "image/png": "[encoded data removed]",
      "text/plain": [
       "<Figure size 432x288 with 1 Axes>"
      ]
     },
     "metadata": {
      "needs_background": "light"
     },
     "output_type": "display_data"
    }
   ],
   "source": [
    "import matplotlib.pyplot as plt\n",
    "# line 1 points\n",
    "x1 = [10,20,30]\n",
    "y1 = [20,40,10]\n",
    "# plotting the line 1 points \n",
    "plt.plot(x1, y1, label = \"line 1\")\n",
    "# line 2 points\n",
    "x2 = [10,20,30]\n",
    "y2 = [40,10,30]\n",
    "# plotting the line 2 points \n",
    "plt.plot(x2, y2, label = \"line 2\")\n",
    "plt.xlabel('x - axis')\n",
    "# Set the y axis label of the current axis.\n",
    "plt.ylabel('y - axis')\n",
    "# Set a title of the current axes.\n",
    "plt.title('Two or more lines on same plot with suitable legends ')\n",
    "# show a legend on the plot\n",
    "plt.legend()\n",
    "# Display a figure.\n",
    "plt.show()"
   ]
  },
  {
   "cell_type": "markdown",
   "metadata": {},
   "source": [
    "Q144. Write a python programming to display a bar chart of the popularity of programming languages."
   ]
  },
  {
   "cell_type": "code",
   "execution_count": 89,
   "metadata": {},
   "outputs": [
    {
     "data": {
      "image/png": "[encoded data removed]",
      "text/plain": [
       "<Figure size 432x288 with 1 Axes>"
      ]
     },
     "metadata": {
      "needs_background": "light"
     },
     "output_type": "display_data"
    }
   ],
   "source": [
    "import matplotlib.pyplot as plt\n",
    "x = ['Java', 'Python', 'PHP', 'JavaScript', 'C#', 'C++']\n",
    "popularity = [22.2, 17.6, 8.8, 8, 7.7, 6.7]\n",
    "x_pos = [i for i, _ in enumerate(x)]\n",
    "plt.bar(x_pos, popularity, color='blue')\n",
    "plt.xlabel(\"Languages\")\n",
    "plt.ylabel(\"Popularity\")\n",
    "plt.title(\"PopularitY of Programming Language\\n\" + \"Worldwide, Oct 2017 compared to a year ago\")\n",
    "plt.xticks(x_pos, x)\n",
    "# Turn on the grid\n",
    "plt.minorticks_on()\n",
    "plt.grid(which='major', linestyle='-', linewidth='0.5', color='red')\n",
    "# Customize the minor grid\n",
    "plt.grid(which='minor', linestyle=':', linewidth='0.5', color='black')\n",
    "plt.show()"
   ]
  },
  {
   "cell_type": "markdown",
   "metadata": {},
   "source": [
    "Q145. Write a python programming to display a horizontal bar chart of the popularity of programming languages."
   ]
  },
  {
   "cell_type": "code",
   "execution_count": 90,
   "metadata": {},
   "outputs": [
    {
     "data": {
      "image/png": "[encoded data removed]",
      "text/plain": [
       "<Figure size 432x288 with 1 Axes>"
      ]
     },
     "metadata": {
      "needs_background": "light"
     },
     "output_type": "display_data"
    }
   ],
   "source": [
    "import matplotlib.pyplot as plt\n",
    "x = ['Java', 'Python', 'PHP', 'JS', 'C#', 'C++']\n",
    "popularity = [22.2, 17.6, 8.8, 8, 7.7, 6.7]\n",
    "x_pos = [i for i, _ in enumerate(x)]\n",
    "plt.barh(x_pos, popularity, color='green')\n",
    "plt.xlabel(\"Popularity\")\n",
    "plt.ylabel(\"Languages\")\n",
    "plt.title(\"PopularitY of Programming Language\\n\" + \"Worldwide, Oct 2017 compared to a year ago\")\n",
    "plt.yticks(x_pos, x)\n",
    "plt.minorticks_on()\n",
    "plt.grid(which='major', linestyle='-', linewidth='0.5', color='red')\n",
    "plt.grid(which='minor', linestyle=':', linewidth='0.5', color='black')\n",
    "plt.show()"
   ]
  },
  {
   "cell_type": "markdown",
   "metadata": {},
   "source": [
    "Q146. Write a python programming to display a bar chart of the Popularity of programming languages. Increase bottom margin"
   ]
  },
  {
   "cell_type": "code",
   "execution_count": 91,
   "metadata": {},
   "outputs": [
    {
     "data": {
      "image/png": "[encoded data removed]",
      "text/plain": [
       "<Figure size 432x288 with 1 Axes>"
      ]
     },
     "metadata": {
      "needs_background": "light"
     },
     "output_type": "display_data"
    }
   ],
   "source": [
    "import matplotlib.pyplot as plt\n",
    "x = ['Java', 'Python', 'PHP', 'JavaScript', 'C#', 'C++']\n",
    "popularity = [22.2, 17.6, 8.8, 8, 7.7, 6.7]\n",
    "x_pos = [i for i, _ in enumerate(x)]\n",
    "plt.bar(x_pos, popularity, color=(0.4, 0.6, 0.8, 1.0))\n",
    "plt.xlabel(\"Languages\")\n",
    "plt.ylabel(\"Popularity\")\n",
    "plt.title(\"PopularitY of Programming Language\\n\" + \"Worldwide, Oct 2017 compared to a year ago\")\n",
    "# Rotation of the bars names\n",
    "plt.xticks(x_pos, x, rotation=90)\n",
    "plt.subplots_adjust(bottom=0.4, top=.8)\n",
    "plt.minorticks_on()\n",
    "plt.grid(which='major', linestyle='-', linewidth='0.5', color='red')\n",
    "# Customize the minor grid\n",
    "plt.grid(which='minor', linestyle=':', linewidth='0.5', color='black')\n",
    "plt.show()"
   ]
  },
  {
   "cell_type": "markdown",
   "metadata": {},
   "source": [
    "Q147. Write a python program to create the bar plot from a DataFrame."
   ]
  },
  {
   "cell_type": "code",
   "execution_count": 92,
   "metadata": {},
   "outputs": [
    {
     "data": {
      "image/png": "[encoded data removed]",
      "text/plain": [
       "<Figure size 432x288 with 1 Axes>"
      ]
     },
     "metadata": {
      "needs_background": "light"
     },
     "output_type": "display_data"
    }
   ],
   "source": [
    "from pandas import DataFrame\n",
    "import matplotlib.pyplot as plt\n",
    "import numpy as np\n",
    "\n",
    "a=np.array([[4,8,5,7,6],[2,3,4,2,6],[4,7,4,7,8],[2,6,4,8,6],[2,4,3,3,2]])\n",
    "df=DataFrame(a, columns=['a','b','c','d','e'], index=[2,4,6,8,10])\n",
    "\n",
    "df.plot(kind='bar')\n",
    "# Turn on the grid\n",
    "plt.minorticks_on()\n",
    "plt.grid(which='major', linestyle='-', linewidth='0.5', color='green')\n",
    "plt.grid(which='minor', linestyle=':', linewidth='0.5', color='black')\n",
    "\n",
    "plt.show()"
   ]
  },
  {
   "cell_type": "markdown",
   "metadata": {},
   "source": [
    "Q148. Write a python program to draw the scatter plot comparing two subject marks of Mathematics and Science. Use marks of 10 students."
   ]
  },
  {
   "cell_type": "code",
   "execution_count": 93,
   "metadata": {},
   "outputs": [
    {
     "data": {
      "image/png": "[encoded data removed]",
      "text/plain": [
       "<Figure size 432x288 with 1 Axes>"
      ]
     },
     "metadata": {
      "needs_background": "light"
     },
     "output_type": "display_data"
    }
   ],
   "source": [
    "import matplotlib.pyplot as plt\n",
    "import pandas as pd\n",
    "math_marks = [88, 92, 80, 89, 100, 80, 60, 100, 80, 34]\n",
    "science_marks = [35, 79, 79, 48, 100, 88, 32, 45, 20, 30]\n",
    "marks_range = [10, 20, 30, 40, 50, 60, 70, 80, 90, 100]\n",
    "plt.scatter(marks_range, math_marks, label='Math marks', color='r')\n",
    "plt.scatter(marks_range, science_marks, label='Science marks', color='g')\n",
    "plt.title('Scatter Plot')\n",
    "plt.xlabel('Marks Range')\n",
    "plt.ylabel('Marks Scored')\n",
    "plt.legend()\n",
    "plt.show()"
   ]
  },
  {
   "cell_type": "markdown",
   "metadata": {},
   "source": [
    "Q149. Write a python program to draw the scatter plot for three different groups comparing weights and heights."
   ]
  },
  {
   "cell_type": "code",
   "execution_count": 102,
   "metadata": {},
   "outputs": [
    {
     "name": "stdout",
     "output_type": "stream",
     "text": [
      "[67.   57.2  59.6  59.64 55.8  61.2  60.45 61.   56.23 56.   61.9  64.\n",
      " 62.1  64.2  62.3  65.4  62.4  61.4  62.5  63.6  68.2  67.2  68.4  68.7\n",
      " 71.   71.3  70.8  70.   71.1  71.7 ]\n",
      "[101.7 197.6  98.3 125.1 113.7 157.7 136.  148.9 125.3 114.9 152.8 155.3\n",
      " 135.1 125.2 151.3 135.  182.2 195.9 165.1 125.1 165.8 170.9 192.8 135.4\n",
      " 161.4 136.1 167.1 235.1 181.1 177.3]\n"
     ]
    },
    {
     "data": {
      "image/png": "[encoded data removed]",
      "text/plain": [
       "<Figure size 432x288 with 1 Axes>"
      ]
     },
     "metadata": {
      "needs_background": "light"
     },
     "output_type": "display_data"
    }
   ],
   "source": [
    "import matplotlib.pyplot as plt\n",
    "import numpy as np \n",
    "weight1=[67,57.2,59.6,59.64,55.8,61.2,60.45,61,56.23,56]\n",
    "height1=[101.7,197.6,98.3,125.1,113.7,157.7,136,148.9,125.3,114.9] \n",
    "weight2=[61.9,64,62.1,64.2,62.3,65.4,62.4,61.4,62.5,63.6]\n",
    "height2=[152.8,155.3,135.1,125.2,151.3,135,182.2,195.9,165.1,125.1] \n",
    "weight3=[68.2,67.2,68.4,68.7,71,71.3,70.8,70,71.1,71.7]\n",
    "height3=[165.8,170.9,192.8,135.4,161.4,136.1,167.1,235.1,181.1,177.3]\n",
    "weight=np.concatenate((weight1,weight2,weight3))\n",
    "height=np.concatenate((height1,height2,height3))\n",
    "print(weight)\n",
    "print(height)\n",
    "plt.scatter(weight, height, marker='*', color='b')\n",
    "plt.xlabel('weight', fontsize=16)\n",
    "plt.ylabel('height', fontsize=16)\n",
    "plt.title('Group wise Weight vs Height scatter plot',fontsize=20)\n",
    "plt.show()"
   ]
  },
  {
   "cell_type": "markdown",
   "metadata": {},
   "source": [
    "Q150. Write a python program to draw a scatter plot to find sea-level rise in past 100 years. added only few records"
   ]
  },
  {
   "cell_type": "code",
   "execution_count": 106,
   "metadata": {},
   "outputs": [
    {
     "data": {
      "image/png": "[encoded data removed]",
      "text/plain": [
       "<Figure size 432x288 with 1 Axes>"
      ]
     },
     "metadata": {
      "needs_background": "light"
     },
     "output_type": "display_data"
    }
   ],
   "source": [
    "import matplotlib.pyplot as plt\n",
    "import pandas as pd\n",
    "data = pd.read_excel(r'C:\\Users\\Admin\\Desktop\\Year_100.xlsx')\n",
    "year = data['year']\n",
    "sea_levels = data['CSIRO_sea_level']\n",
    "plt.scatter(year, sea_levels, edgecolors='g')\n",
    "plt.xlabel('Year')\n",
    "plt.ylabel('Sea Level (inches)')\n",
    "plt.title('Rise in Sealevel')\n",
    "plt.show()"
   ]
  },
  {
   "cell_type": "code",
   "execution_count": null,
   "metadata": {},
   "outputs": [],
   "source": []
  }
 ],
 "metadata": {
  "kernelspec": {
   "display_name": "Python 3",
   "language": "python",
   "name": "python3"
  },
  "language_info": {
   "codemirror_mode": {
    "name": "ipython",
    "version": 3
   },
   "file_extension": ".py",
   "mimetype": "text/x-python",
   "name": "python",
   "nbconvert_exporter": "python",
   "pygments_lexer": "ipython3",
   "version": "3.7.3"
  }
 },
 "nbformat": 4,
 "nbformat_minor": 2
}
